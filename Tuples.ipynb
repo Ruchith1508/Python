{
  "nbformat": 4,
  "nbformat_minor": 0,
  "metadata": {
    "colab": {
      "provenance": []
    },
    "kernelspec": {
      "name": "python3",
      "display_name": "Python 3"
    },
    "language_info": {
      "name": "python"
    }
  },
  "cells": [
    {
      "cell_type": "markdown",
      "source": [
        "# What is Tuple?"
      ],
      "metadata": {
        "id": "Az1GtZk342hN"
      }
    },
    {
      "cell_type": "markdown",
      "source": [
        "Python Tuple is a collection of objects separated by commas. In some ways, a tuple is similar to a Python list in terms of indexing, nested objects, and repetition but the main difference between both is Python tuple is immutable, unlike the Python list which is mutable.\n",
        "\n",
        "Tuples are used to store multiple items in a single variable.\n",
        "\n",
        "Tuple is one of 4 built-in data types in Python used to store collections of data, the other 3 are List, Set, and Dictionary, all with different qualities and usage.\n",
        "\n",
        "Tuple items are indexed, the first item has index [0], the second item has index [1] etc.\n",
        "\n",
        "When we say that tuples are ordered, it means that the items have a defined order, and that order will not change.\n",
        "\n",
        "Tuples are unchangeable, meaning that we cannot change, add or remove items after the tuple has been created.\n",
        "\n",
        "Since tuples are indexed, they can have items with the same value"
      ],
      "metadata": {
        "id": "Jamh8tzX5JM_"
      }
    },
    {
      "cell_type": "markdown",
      "source": [
        "# Creating Python Tuples"
      ],
      "metadata": {
        "id": "AdW6sY8r5e1i"
      }
    },
    {
      "cell_type": "markdown",
      "source": [
        "There are various ways by which you can create a tuple in Python. They are as follows:\n",
        "\n",
        "* Using round brackets\n",
        "* With one item\n",
        "* Tuple Constructor"
      ],
      "metadata": {
        "id": "d1k-morW5on1"
      }
    },
    {
      "cell_type": "code",
      "source": [
        "My_Tuple=(1,2,3,4,5)\n",
        "print(My_Tuple)"
      ],
      "metadata": {
        "colab": {
          "base_uri": "https://localhost:8080/"
        },
        "id": "TVP45ZgN5sYH",
        "outputId": "34c4fabc-4e88-422e-cad8-acccce680168"
      },
      "execution_count": 1,
      "outputs": [
        {
          "output_type": "stream",
          "name": "stdout",
          "text": [
            "(1, 2, 3, 4, 5)\n"
          ]
        }
      ]
    },
    {
      "cell_type": "code",
      "source": [
        "My_Tuple2=(\"apple\",\"Banana\",\"Cherry\")\n",
        "print(My_Tuple2)"
      ],
      "metadata": {
        "colab": {
          "base_uri": "https://localhost:8080/"
        },
        "id": "YmNTaxxL56tB",
        "outputId": "ccbecfb0-397e-4903-9630-3cea3ea1514d"
      },
      "execution_count": 2,
      "outputs": [
        {
          "output_type": "stream",
          "name": "stdout",
          "text": [
            "('apple', 'Banana', 'Cherry')\n"
          ]
        }
      ]
    },
    {
      "cell_type": "code",
      "source": [
        "single_element_tuple=(23,)\n",
        "print(single_element_tuple)\n",
        "print(type(single_element_tuple))"
      ],
      "metadata": {
        "colab": {
          "base_uri": "https://localhost:8080/"
        },
        "id": "QidfAsQL6Dt4",
        "outputId": "1dd59b2d-b565-4e84-c9f5-3008eb6fdca2"
      },
      "execution_count": 4,
      "outputs": [
        {
          "output_type": "stream",
          "name": "stdout",
          "text": [
            "(23,)\n",
            "<class 'tuple'>\n"
          ]
        }
      ]
    },
    {
      "cell_type": "markdown",
      "source": [
        "# Accessing Elements in Tuple"
      ],
      "metadata": {
        "id": "eHKj7IdE6b9w"
      }
    },
    {
      "cell_type": "code",
      "source": [
        "print(My_Tuple[2])\n",
        "print(My_Tuple2[1:3])"
      ],
      "metadata": {
        "colab": {
          "base_uri": "https://localhost:8080/"
        },
        "id": "hlEBT9dT6SkK",
        "outputId": "998ca7bd-665f-4956-e695-1788e80cf434"
      },
      "execution_count": 6,
      "outputs": [
        {
          "output_type": "stream",
          "name": "stdout",
          "text": [
            "3\n",
            "('Banana', 'Cherry')\n"
          ]
        }
      ]
    },
    {
      "cell_type": "markdown",
      "source": [
        "# Immutability"
      ],
      "metadata": {
        "id": "OhVQTkf-6v6e"
      }
    },
    {
      "cell_type": "code",
      "source": [
        "My_Tuple[2]=\"water\"\n",
        "print(My_Tuple2)"
      ],
      "metadata": {
        "colab": {
          "base_uri": "https://localhost:8080/",
          "height": 158
        },
        "id": "RSjofAbE6qNa",
        "outputId": "6575b7bb-b632-4309-e9f6-ded55b51c4b5"
      },
      "execution_count": 9,
      "outputs": [
        {
          "output_type": "error",
          "ename": "TypeError",
          "evalue": "'tuple' object does not support item assignment",
          "traceback": [
            "\u001b[0;31m---------------------------------------------------------------------------\u001b[0m",
            "\u001b[0;31mTypeError\u001b[0m                                 Traceback (most recent call last)",
            "\u001b[0;32m<ipython-input-9-740d00684ec0>\u001b[0m in \u001b[0;36m<cell line: 1>\u001b[0;34m()\u001b[0m\n\u001b[0;32m----> 1\u001b[0;31m \u001b[0mMy_Tuple\u001b[0m\u001b[0;34m[\u001b[0m\u001b[0;36m2\u001b[0m\u001b[0;34m]\u001b[0m\u001b[0;34m=\u001b[0m\u001b[0;34m\"water\"\u001b[0m\u001b[0;34m\u001b[0m\u001b[0;34m\u001b[0m\u001b[0m\n\u001b[0m\u001b[1;32m      2\u001b[0m \u001b[0mprint\u001b[0m\u001b[0;34m(\u001b[0m\u001b[0mMy_Tuple2\u001b[0m\u001b[0;34m)\u001b[0m\u001b[0;34m\u001b[0m\u001b[0;34m\u001b[0m\u001b[0m\n",
            "\u001b[0;31mTypeError\u001b[0m: 'tuple' object does not support item assignment"
          ]
        }
      ]
    },
    {
      "cell_type": "markdown",
      "source": [
        "# Tuple Operations"
      ],
      "metadata": {
        "id": "rVZY0Mn97NCw"
      }
    },
    {
      "cell_type": "markdown",
      "source": [
        "## Concatination"
      ],
      "metadata": {
        "id": "IIcPzI_o7P-G"
      }
    },
    {
      "cell_type": "code",
      "source": [
        "Tuple1=(1,2,3,4,5)\n",
        "Tuple2=(\"Apple\",\"Banana\",\"Cherry\")\n",
        "a=Tuple1+Tuple2\n",
        "print(a)"
      ],
      "metadata": {
        "colab": {
          "base_uri": "https://localhost:8080/"
        },
        "id": "GnzF_--q7PJA",
        "outputId": "b885c184-3c29-41b9-f6a6-e77e266af349"
      },
      "execution_count": 10,
      "outputs": [
        {
          "output_type": "stream",
          "name": "stdout",
          "text": [
            "(1, 2, 3, 4, 5, 'Apple', 'Banana', 'Cherry')\n"
          ]
        }
      ]
    },
    {
      "cell_type": "markdown",
      "source": [
        "## Repetition"
      ],
      "metadata": {
        "id": "s0gPXbmi7P6v"
      }
    },
    {
      "cell_type": "code",
      "source": [
        "Tuple1*3"
      ],
      "metadata": {
        "colab": {
          "base_uri": "https://localhost:8080/"
        },
        "id": "8Sh9mcyi7VxB",
        "outputId": "38b9234c-9ac8-44a2-bcab-337c70920f96"
      },
      "execution_count": 11,
      "outputs": [
        {
          "output_type": "execute_result",
          "data": {
            "text/plain": [
              "(1, 2, 3, 4, 5, 1, 2, 3, 4, 5, 1, 2, 3, 4, 5)"
            ]
          },
          "metadata": {},
          "execution_count": 11
        }
      ]
    },
    {
      "cell_type": "code",
      "source": [
        "Tuple2*5"
      ],
      "metadata": {
        "colab": {
          "base_uri": "https://localhost:8080/"
        },
        "id": "wju6Y71B7sXu",
        "outputId": "6dcbe115-5bd7-4fde-d78f-4b81745ba1d3"
      },
      "execution_count": 12,
      "outputs": [
        {
          "output_type": "execute_result",
          "data": {
            "text/plain": [
              "('Apple',\n",
              " 'Banana',\n",
              " 'Cherry',\n",
              " 'Apple',\n",
              " 'Banana',\n",
              " 'Cherry',\n",
              " 'Apple',\n",
              " 'Banana',\n",
              " 'Cherry',\n",
              " 'Apple',\n",
              " 'Banana',\n",
              " 'Cherry',\n",
              " 'Apple',\n",
              " 'Banana',\n",
              " 'Cherry')"
            ]
          },
          "metadata": {},
          "execution_count": 12
        }
      ]
    },
    {
      "cell_type": "markdown",
      "source": [
        "# Tuple Methods"
      ],
      "metadata": {
        "id": "XrE7v0Us70L5"
      }
    },
    {
      "cell_type": "markdown",
      "source": [
        "## Count"
      ],
      "metadata": {
        "id": "Fj6ASV0O74Ml"
      }
    },
    {
      "cell_type": "code",
      "source": [
        "Tuple3=(1,2,3,4,1,5,7,1)\n",
        "Tuple3.count(1)"
      ],
      "metadata": {
        "colab": {
          "base_uri": "https://localhost:8080/"
        },
        "id": "5ezMBi2y714-",
        "outputId": "52df55ee-b897-4373-b259-e5b5428f9c08"
      },
      "execution_count": 14,
      "outputs": [
        {
          "output_type": "execute_result",
          "data": {
            "text/plain": [
              "3"
            ]
          },
          "metadata": {},
          "execution_count": 14
        }
      ]
    },
    {
      "cell_type": "markdown",
      "source": [
        "## Index"
      ],
      "metadata": {
        "id": "lFVADaeC8FC2"
      }
    },
    {
      "cell_type": "code",
      "source": [
        "Tuple3.index(3)"
      ],
      "metadata": {
        "colab": {
          "base_uri": "https://localhost:8080/"
        },
        "id": "XxcrlZnj75e7",
        "outputId": "f6d61012-b010-4d70-8511-e034eb759956"
      },
      "execution_count": 15,
      "outputs": [
        {
          "output_type": "execute_result",
          "data": {
            "text/plain": [
              "2"
            ]
          },
          "metadata": {},
          "execution_count": 15
        }
      ]
    }
  ]
}