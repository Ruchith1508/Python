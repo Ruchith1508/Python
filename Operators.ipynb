{
 "cells": [
  {
   "cell_type": "markdown",
   "id": "630ee9bb-6726-4094-aede-0d7849d003d3",
   "metadata": {},
   "source": [
    "# What is an Operator?"
   ]
  },
  {
   "cell_type": "markdown",
   "id": "8e425560-c07e-450e-b206-4762a28f3477",
   "metadata": {},
   "source": [
    "In Python programming, Operators in general are used to perform operations on values and variables. These are standard symbols used for logical and arithmetic operations. In this article, we will look into different types of Python operators. An operator in programming is a symbol or a keyword that denotes a specific operation to be performed on data. Operators act as building blocks for creating expressions and enable the manipulation, comparison, and combination of values in code. They define the actions that can be performed on operands—such as variables, constants, or other expressions—and dictate how these operands interact with each other.  Operators are used to perform operations such as arithmetic calculations, logical comparisons, and data manipulation. They help in defining the logic and control the flow of a program.\n",
    "\n",
    "**OPERATORS**: These are the special symbols. Eg- + , * , /, etc.\n",
    "\n",
    "**OPERAND**: It is the value on which the operator is applied."
   ]
  },
  {
   "cell_type": "markdown",
   "id": "d1bedcf1-1a0a-463f-ac50-b1b05766d397",
   "metadata": {},
   "source": [
    "# Types of Operators"
   ]
  },
  {
   "cell_type": "markdown",
   "id": "040f54c6-4c0e-46e3-a5df-409eed746982",
   "metadata": {},
   "source": [
    "**Arithmetic Operators**: Perform mathematical operations like addition, subtraction, multiplication, and division.\n",
    "\n",
    "**Comparison Operators**: Compare two values and return a boolean result (true or false) based on the comparison.\n",
    "\n",
    "**Logical Operators**: Combine or invert boolean values, allowing for complex logical expressions.\n",
    "\n",
    "**Assignment Operators**: Assign values to variables and may also perform an operation on the variable before assignment.\n",
    "\n",
    "**Bitwise Operators**: Operate on the binary representations of integers, performing bit-level operations.\n",
    "\n",
    "**Membership Operators**: Test for membership within a sequence (like a list or string).\n",
    "\n",
    "**Identity Operators**: Determine if two variables reference the same object in memory."
   ]
  },
  {
   "cell_type": "markdown",
   "id": "87365567-204d-4269-b704-b475c06797b0",
   "metadata": {},
   "source": [
    "# Arithmetic Operators"
   ]
  },
  {
   "cell_type": "markdown",
   "id": "5e0d095f-daec-4eda-a1fd-ea449bd4c7c4",
   "metadata": {},
   "source": [
    "- `+` (Addition): Adds two values (e.g., `5 + 3` results in `8`).\n",
    "- `-` (Subtraction): Subtracts the second value from the first (e.g., `5 - 3` results in `2`).\n",
    "-  `*` (Multiplication): Multiplies two values (e.g., `5 * 3` results in `15`).\n",
    "- `/` (Division): Divides the first value by the second, returning a float (e.g., `5 / 2` results in `2.5`).\n",
    "- `//` (Floor Division): Divides the first value by the second, returning an integer (e.g., `5 // 2` results in `2`).\n",
    "- `%` (Modulus): Returns the remainder of the division (e.g., `5 % 2` results in `1`).\n",
    "- `**` (Exponentiation): Raises the first value to the power of the second (e.g., `5 ** 2` results in `25`)."
   ]
  },
  {
   "cell_type": "code",
   "execution_count": 23,
   "id": "da850a85-0c91-46b7-b94d-d498903a4185",
   "metadata": {},
   "outputs": [
    {
     "name": "stdout",
     "output_type": "stream",
     "text": [
      "Addition: 8\n",
      "Subtraction: 2\n",
      "Multiplication: 15\n",
      "Division: 1.6666666666666667\n",
      "Floor Division: 1\n",
      "Modulus: 2\n",
      "Exponentiation: 125\n",
      "Addition with negative number: -2\n",
      "Multiplication with floats: 13.5\n",
      "Mixed operations: 16\n"
     ]
    }
   ],
   "source": [
    "a = 5\n",
    "b = 3\n",
    "\n",
    "result1 = a + b\n",
    "print(\"Addition:\", result1) \n",
    "\n",
    "result2 = a - b\n",
    "print(\"Subtraction:\", result2)  \n",
    "\n",
    "result3 = a * b\n",
    "print(\"Multiplication:\", result3)  \n",
    "\n",
    "result4 = a / b\n",
    "print(\"Division:\", result4) \n",
    "\n",
    "result5 = a // b\n",
    "print(\"Floor Division:\", result5)  \n",
    "\n",
    "result6 = a % b\n",
    "print(\"Modulus:\", result6) \n",
    "\n",
    "result7 = a ** b\n",
    "print(\"Exponentiation:\", result7) \n",
    "\n",
    "c = -5\n",
    "result8 = c + b\n",
    "print(\"Addition with negative number:\", result8)  \n",
    "\n",
    "d = 4.5\n",
    "result9 = d * b\n",
    "print(\"Multiplication with floats:\", result9)  \n",
    "\n",
    "result10 = (a + b) * 2\n",
    "print(\"Mixed operations:\", result10)  \n"
   ]
  },
  {
   "cell_type": "markdown",
   "id": "0c30ead1-194a-43f5-8ffc-74b864d52ac7",
   "metadata": {},
   "source": [
    "# Assignment Operators"
   ]
  },
  {
   "cell_type": "markdown",
   "id": "0e7aa0a0-4fab-4ee7-9413-827c8bd37862",
   "metadata": {},
   "source": [
    "   - `=` (Assignment): Assigns a value to a variable (e.g., `x = 5`).\n",
    "   - `+=` (Add and assign): Adds a value to a variable and assigns the result (e.g., `x += 3` is equivalent to `x = x + 3`).\n",
    "   - `-=` (Subtract and assign): Subtracts a value from a variable and assigns the result (e.g., `x -= 3` is equivalent to `x = x - 3`).\n",
    "   - `*=` (Multiply and assign): Multiplies a variable by a value and assigns the result (e.g., `x *= 3` is equivalent to `x = x * 3`).\n",
    "   - `/=` (Divide and assign): Divides a variable by a value and assigns the result (e.g., `x /= 3` is equivalent to `x = x / 3`).\n",
    "   - `%=` (Modulus and assign): Applies the modulus operation and assigns the result (e.g., `x %= 3` is equivalent to `x = x % 3`).\n",
    "   - `**=` (Exponentiation and assign): Raises a variable to the power of a value and assigns the result (e.g., `x **= 2` is equivalent to `x = x ** 2`).\n"
   ]
  },
  {
   "cell_type": "code",
   "execution_count": 29,
   "id": "192e748d-a9f6-417c-b5dc-04b04c3add88",
   "metadata": {},
   "outputs": [
    {
     "name": "stdout",
     "output_type": "stream",
     "text": [
      "x: 5\n",
      "x += 3: 8\n",
      "x -= 2: 6\n",
      "x *= 4: 24\n",
      "x /= 6: 4.0\n",
      "x %= 3: 1.0\n",
      "x **= 2: 1.0\n",
      "x //= 1: 1.0\n",
      "x: 10\n",
      "x -= 5: 5\n",
      "x *= 3: 15\n"
     ]
    }
   ],
   "source": [
    "x = 5\n",
    "print(\"x:\", x)\n",
    "\n",
    "x += 3\n",
    "print(\"x += 3:\", x)\n",
    "\n",
    "x -= 2\n",
    "print(\"x -= 2:\", x)\n",
    "\n",
    "x *= 4\n",
    "print(\"x *= 4:\", x)\n",
    "\n",
    "x /= 6\n",
    "print(\"x /= 6:\", x)\n",
    "\n",
    "x %= 3\n",
    "print(\"x %= 3:\", x)\n",
    "\n",
    "x **= 2\n",
    "print(\"x **= 2:\", x)\n",
    "\n",
    "x //= 1\n",
    "print(\"x //= 1:\", x)\n",
    "\n",
    "x = 10\n",
    "print(\"x:\", x)\n",
    "\n",
    "x -= 5\n",
    "print(\"x -= 5:\", x)\n",
    "\n",
    "x *= 3\n",
    "print(\"x *= 3:\", x)"
   ]
  },
  {
   "cell_type": "markdown",
   "id": "0b82bd22-e3f6-429b-98f7-8f40041f5c45",
   "metadata": {},
   "source": [
    "# Comparison Operator"
   ]
  },
  {
   "cell_type": "markdown",
   "id": "4c09b214-c646-41f2-af33-bb424a40b881",
   "metadata": {},
   "source": [
    "   - `==` (Equal to): Checks if two values are equal (e.g., `5 == 3` results in `False`).\n",
    "   - `!=` (Not equal to): Checks if two values are not equal (e.g., `5 != 3` results in `True`).\n",
    "   - `>` (Greater than): Checks if the first value is greater than the second (e.g., `5 > 3` results in `True`).\n",
    "   - `<` (Less than): Checks if the first value is less than the second (e.g., `5 < 3` results in `False`).\n",
    "   - `>=` (Greater than or equal to): Checks if the first value is greater than or equal to the second (e.g., `5 >= 3` results in `True`).\n",
    "   - `<=` (Less than or equal to): Checks if the first value is less than or equal to the second (e.g., `5 <= 3` results in `False`)."
   ]
  },
  {
   "cell_type": "code",
   "execution_count": 35,
   "id": "0928b195-c1e3-45c4-b831-183261749720",
   "metadata": {},
   "outputs": [
    {
     "name": "stdout",
     "output_type": "stream",
     "text": [
      "Equal to: False\n",
      "Not equal to: True\n",
      "Greater than: True\n",
      "Less than: False\n",
      "Greater than or equal to: True\n",
      "Less than or equal to: False\n",
      "Greater than: True\n",
      "Less than: False\n",
      "Greater than or equal to: True\n",
      "Less than or equal to: False\n"
     ]
    }
   ],
   "source": [
    "x = 5\n",
    "y = 3\n",
    "\n",
    "result1 = (x == y)\n",
    "print(\"Equal to:\", result1)\n",
    "\n",
    "result2 = (x != y)\n",
    "print(\"Not equal to:\", result2)\n",
    "\n",
    "result3 = (x > y)\n",
    "print(\"Greater than:\", result3)\n",
    "\n",
    "result4 = (x < y)\n",
    "print(\"Less than:\", result4)\n",
    "\n",
    "result5 = (x >= y)\n",
    "print(\"Greater than or equal to:\", result5)\n",
    "\n",
    "result6 = (x <= y)\n",
    "print(\"Less than or equal to:\", result6)\n",
    "\n",
    "a=56\n",
    "b=78\n",
    "\n",
    "result7 = (a > b)\n",
    "print(\"Greater than:\", result3)\n",
    "\n",
    "result8 = (a < b)\n",
    "print(\"Less than:\", result4)\n",
    "\n",
    "result9 = (a >= b)\n",
    "print(\"Greater than or equal to:\", result5)\n",
    "\n",
    "result10 = (a <= b)\n",
    "print(\"Less than or equal to:\", result6)"
   ]
  },
  {
   "cell_type": "markdown",
   "id": "5b21f907-6074-4c81-b5a1-70831cbe8e47",
   "metadata": {},
   "source": [
    "# Logical Operators"
   ]
  },
  {
   "cell_type": "markdown",
   "id": "0ea2e2c6-8c20-4b64-b88a-1e3fbb0d4c99",
   "metadata": {},
   "source": [
    " - `and`: Returns `True` if both operands are true (e.g., `(5 > 3) and (2 < 4)` results in `True`).\n",
    " - `or`: Returns `True` if at least one of the operands is true (e.g., `(5 > 3) or (2 > 4)` results in `True`).\n",
    " - `not`: Returns `True` if the operand is false (e.g., `not (5 > 3)` results in `False`)."
   ]
  },
  {
   "cell_type": "code",
   "execution_count": 40,
   "id": "2ce2a1b2-96f9-4332-9209-0c027fc6c390",
   "metadata": {},
   "outputs": [
    {
     "name": "stdout",
     "output_type": "stream",
     "text": [
      "AND: True\n",
      "OR: True\n",
      "NOT: False\n",
      "AND: False\n",
      "OR: True\n",
      "NOT: False\n",
      "AND: True\n",
      "OR: True\n",
      "NOT: True\n",
      "Combining Logical Operators: False\n"
     ]
    }
   ],
   "source": [
    "a = 5\n",
    "b = 3\n",
    "c = 2\n",
    "\n",
    "result1 = (a > b) and (c < b)\n",
    "print(\"AND:\", result1)\n",
    "\n",
    "result2 = (a > b) or (c > b)\n",
    "print(\"OR:\", result2)\n",
    "\n",
    "result3 = not (a > b)\n",
    "print(\"NOT:\", result3)\n",
    "\n",
    "result4 = (a > b) and (c > b)\n",
    "print(\"AND:\", result4)\n",
    "\n",
    "result5 = (a > b) or (c < b)\n",
    "print(\"OR:\", result5)\n",
    "\n",
    "result6 = not (c < b)\n",
    "print(\"NOT:\", result6)\n",
    "\n",
    "result7 = (a > b) and (c < b) and (b == 3)\n",
    "print(\"AND:\", result7)\n",
    "\n",
    "result8 = (a > b) or (c > b) or (b == 3)\n",
    "print(\"OR:\", result8)\n",
    "\n",
    "result9 = not (c > b)\n",
    "print(\"NOT:\", result9)\n",
    "\n",
    "result10 = not ((a > b) or (c < b))\n",
    "print(\"Combining Logical Operators:\", result10)\n"
   ]
  },
  {
   "cell_type": "code",
   "execution_count": null,
   "id": "7c130d91-495f-41b7-a5cc-523ef50d41fc",
   "metadata": {},
   "outputs": [],
   "source": []
  }
 ],
 "metadata": {
  "kernelspec": {
   "display_name": "Python 3 (ipykernel)",
   "language": "python",
   "name": "python3"
  },
  "language_info": {
   "codemirror_mode": {
    "name": "ipython",
    "version": 3
   },
   "file_extension": ".py",
   "mimetype": "text/x-python",
   "name": "python",
   "nbconvert_exporter": "python",
   "pygments_lexer": "ipython3",
   "version": "3.12.2"
  }
 },
 "nbformat": 4,
 "nbformat_minor": 5
}
