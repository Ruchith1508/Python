{
 "cells": [
  {
   "cell_type": "markdown",
   "id": "630ee9bb-6726-4094-aede-0d7849d003d3",
   "metadata": {},
   "source": [
    "# What is an Operator?"
   ]
  },
  {
   "cell_type": "markdown",
   "id": "8e425560-c07e-450e-b206-4762a28f3477",
   "metadata": {},
   "source": [
    "In Python programming, Operators in general are used to perform operations on values and variables. These are standard symbols used for logical and arithmetic operations. In this article, we will look into different types of Python operators. An operator in programming is a symbol or a keyword that denotes a specific operation to be performed on data. Operators act as building blocks for creating expressions and enable the manipulation, comparison, and combination of values in code. They define the actions that can be performed on operands—such as variables, constants, or other expressions—and dictate how these operands interact with each other.  Operators are used to perform operations such as arithmetic calculations, logical comparisons, and data manipulation. They help in defining the logic and control the flow of a program.\n",
    "\n",
    "**OPERATORS**: These are the special symbols. Eg- + , * , /, etc.\n",
    "\n",
    "**OPERAND**: It is the value on which the operator is applied."
   ]
  },
  {
   "cell_type": "markdown",
   "id": "d1bedcf1-1a0a-463f-ac50-b1b05766d397",
   "metadata": {},
   "source": [
    "# Types of Operators"
   ]
  },
  {
   "cell_type": "markdown",
   "id": "040f54c6-4c0e-46e3-a5df-409eed746982",
   "metadata": {},
   "source": [
    "**Arithmetic Operators**: Perform mathematical operations like addition, subtraction, multiplication, and division.\n",
    "\n",
    "**Comparison Operators**: Compare two values and return a boolean result (true or false) based on the comparison.\n",
    "\n",
    "**Logical Operators**: Combine or invert boolean values, allowing for complex logical expressions.\n",
    "\n",
    "**Assignment Operators**: Assign values to variables and may also perform an operation on the variable before assignment.\n",
    "\n",
    "**Bitwise Operators**: Operate on the binary representations of integers, performing bit-level operations.\n",
    "\n",
    "**Membership Operators**: Test for membership within a sequence (like a list or string).\n",
    "\n",
    "**Identity Operators**: Determine if two variables reference the same object in memory."
   ]
  },
  {
   "cell_type": "markdown",
   "id": "87365567-204d-4269-b704-b475c06797b0",
   "metadata": {},
   "source": [
    "# Arithmetic Operators"
   ]
  },
  {
   "cell_type": "markdown",
   "id": "5e0d095f-daec-4eda-a1fd-ea449bd4c7c4",
   "metadata": {},
   "source": [
    "- `+` (Addition): Adds two values (e.g., `5 + 3` results in `8`).\n",
    "- `-` (Subtraction): Subtracts the second value from the first (e.g., `5 - 3` results in `2`).\n",
    "-  `*` (Multiplication): Multiplies two values (e.g., `5 * 3` results in `15`).\n",
    "- `/` (Division): Divides the first value by the second, returning a float (e.g., `5 / 2` results in `2.5`).\n",
    "- `//` (Floor Division): Divides the first value by the second, returning an integer (e.g., `5 // 2` results in `2`).\n",
    "- `%` (Modulus): Returns the remainder of the division (e.g., `5 % 2` results in `1`).\n",
    "- `**` (Exponentiation): Raises the first value to the power of the second (e.g., `5 ** 2` results in `25`)."
   ]
  },
  {
   "cell_type": "code",
   "execution_count": 23,
   "id": "da850a85-0c91-46b7-b94d-d498903a4185",
   "metadata": {},
   "outputs": [
    {
     "name": "stdout",
     "output_type": "stream",
     "text": [
      "Addition: 8\n",
      "Subtraction: 2\n",
      "Multiplication: 15\n",
      "Division: 1.6666666666666667\n",
      "Floor Division: 1\n",
      "Modulus: 2\n",
      "Exponentiation: 125\n",
      "Addition with negative number: -2\n",
      "Multiplication with floats: 13.5\n",
      "Mixed operations: 16\n"
     ]
    }
   ],
   "source": [
    "a = 5\n",
    "b = 3\n",
    "\n",
    "result1 = a + b\n",
    "print(\"Addition:\", result1) \n",
    "\n",
    "result2 = a - b\n",
    "print(\"Subtraction:\", result2)  \n",
    "\n",
    "result3 = a * b\n",
    "print(\"Multiplication:\", result3)  \n",
    "\n",
    "result4 = a / b\n",
    "print(\"Division:\", result4) \n",
    "\n",
    "result5 = a // b\n",
    "print(\"Floor Division:\", result5)  \n",
    "\n",
    "result6 = a % b\n",
    "print(\"Modulus:\", result6) \n",
    "\n",
    "result7 = a ** b\n",
    "print(\"Exponentiation:\", result7) \n",
    "\n",
    "c = -5\n",
    "result8 = c + b\n",
    "print(\"Addition with negative number:\", result8)  \n",
    "\n",
    "d = 4.5\n",
    "result9 = d * b\n",
    "print(\"Multiplication with floats:\", result9)  \n",
    "\n",
    "result10 = (a + b) * 2\n",
    "print(\"Mixed operations:\", result10)  \n"
   ]
  },
  {
   "cell_type": "markdown",
   "id": "0c30ead1-194a-43f5-8ffc-74b864d52ac7",
   "metadata": {},
   "source": [
    "# Assignment Operators"
   ]
  },
  {
   "cell_type": "markdown",
   "id": "0e7aa0a0-4fab-4ee7-9413-827c8bd37862",
   "metadata": {},
   "source": [
    "   - `=` (Assignment): Assigns a value to a variable (e.g., `x = 5`).\n",
    "   - `+=` (Add and assign): Adds a value to a variable and assigns the result (e.g., `x += 3` is equivalent to `x = x + 3`).\n",
    "   - `-=` (Subtract and assign): Subtracts a value from a variable and assigns the result (e.g., `x -= 3` is equivalent to `x = x - 3`).\n",
    "   - `*=` (Multiply and assign): Multiplies a variable by a value and assigns the result (e.g., `x *= 3` is equivalent to `x = x * 3`).\n",
    "   - `/=` (Divide and assign): Divides a variable by a value and assigns the result (e.g., `x /= 3` is equivalent to `x = x / 3`).\n",
    "   - `%=` (Modulus and assign): Applies the modulus operation and assigns the result (e.g., `x %= 3` is equivalent to `x = x % 3`).\n",
    "   - `**=` (Exponentiation and assign): Raises a variable to the power of a value and assigns the result (e.g., `x **= 2` is equivalent to `x = x ** 2`).\n"
   ]
  },
  {
   "cell_type": "code",
   "execution_count": 29,
   "id": "192e748d-a9f6-417c-b5dc-04b04c3add88",
   "metadata": {},
   "outputs": [
    {
     "name": "stdout",
     "output_type": "stream",
     "text": [
      "x: 5\n",
      "x += 3: 8\n",
      "x -= 2: 6\n",
      "x *= 4: 24\n",
      "x /= 6: 4.0\n",
      "x %= 3: 1.0\n",
      "x **= 2: 1.0\n",
      "x //= 1: 1.0\n",
      "x: 10\n",
      "x -= 5: 5\n",
      "x *= 3: 15\n"
     ]
    }
   ],
   "source": [
    "x = 5\n",
    "print(\"x:\", x)\n",
    "\n",
    "x += 3\n",
    "print(\"x += 3:\", x)\n",
    "\n",
    "x -= 2\n",
    "print(\"x -= 2:\", x)\n",
    "\n",
    "x *= 4\n",
    "print(\"x *= 4:\", x)\n",
    "\n",
    "x /= 6\n",
    "print(\"x /= 6:\", x)\n",
    "\n",
    "x %= 3\n",
    "print(\"x %= 3:\", x)\n",
    "\n",
    "x **= 2\n",
    "print(\"x **= 2:\", x)\n",
    "\n",
    "x //= 1\n",
    "print(\"x //= 1:\", x)\n",
    "\n",
    "x = 10\n",
    "print(\"x:\", x)\n",
    "\n",
    "x -= 5\n",
    "print(\"x -= 5:\", x)\n",
    "\n",
    "x *= 3\n",
    "print(\"x *= 3:\", x)"
   ]
  },
  {
   "cell_type": "markdown",
   "id": "0b82bd22-e3f6-429b-98f7-8f40041f5c45",
   "metadata": {},
   "source": [
    "# Comparison Operator"
   ]
  },
  {
   "cell_type": "markdown",
   "id": "4c09b214-c646-41f2-af33-bb424a40b881",
   "metadata": {},
   "source": [
    "   - `==` (Equal to): Checks if two values are equal (e.g., `5 == 3` results in `False`).\n",
    "   - `!=` (Not equal to): Checks if two values are not equal (e.g., `5 != 3` results in `True`).\n",
    "   - `>` (Greater than): Checks if the first value is greater than the second (e.g., `5 > 3` results in `True`).\n",
    "   - `<` (Less than): Checks if the first value is less than the second (e.g., `5 < 3` results in `False`).\n",
    "   - `>=` (Greater than or equal to): Checks if the first value is greater than or equal to the second (e.g., `5 >= 3` results in `True`).\n",
    "   - `<=` (Less than or equal to): Checks if the first value is less than or equal to the second (e.g., `5 <= 3` results in `False`)."
   ]
  },
  {
   "cell_type": "code",
   "execution_count": 35,
   "id": "0928b195-c1e3-45c4-b831-183261749720",
   "metadata": {},
   "outputs": [
    {
     "name": "stdout",
     "output_type": "stream",
     "text": [
      "Equal to: False\n",
      "Not equal to: True\n",
      "Greater than: True\n",
      "Less than: False\n",
      "Greater than or equal to: True\n",
      "Less than or equal to: False\n",
      "Greater than: True\n",
      "Less than: False\n",
      "Greater than or equal to: True\n",
      "Less than or equal to: False\n"
     ]
    }
   ],
   "source": [
    "x = 5\n",
    "y = 3\n",
    "\n",
    "result1 = (x == y)\n",
    "print(\"Equal to:\", result1)\n",
    "\n",
    "result2 = (x != y)\n",
    "print(\"Not equal to:\", result2)\n",
    "\n",
    "result3 = (x > y)\n",
    "print(\"Greater than:\", result3)\n",
    "\n",
    "result4 = (x < y)\n",
    "print(\"Less than:\", result4)\n",
    "\n",
    "result5 = (x >= y)\n",
    "print(\"Greater than or equal to:\", result5)\n",
    "\n",
    "result6 = (x <= y)\n",
    "print(\"Less than or equal to:\", result6)\n",
    "\n",
    "a=56\n",
    "b=78\n",
    "\n",
    "result7 = (a > b)\n",
    "print(\"Greater than:\", result3)\n",
    "\n",
    "result8 = (a < b)\n",
    "print(\"Less than:\", result4)\n",
    "\n",
    "result9 = (a >= b)\n",
    "print(\"Greater than or equal to:\", result5)\n",
    "\n",
    "result10 = (a <= b)\n",
    "print(\"Less than or equal to:\", result6)"
   ]
  },
  {
   "cell_type": "markdown",
   "id": "5b21f907-6074-4c81-b5a1-70831cbe8e47",
   "metadata": {},
   "source": [
    "# Logical Operators"
   ]
  },
  {
   "cell_type": "markdown",
   "id": "0ea2e2c6-8c20-4b64-b88a-1e3fbb0d4c99",
   "metadata": {},
   "source": [
    " - `and`: Returns `True` if both operands are true (e.g., `(5 > 3) and (2 < 4)` results in `True`).\n",
    " - `or`: Returns `True` if at least one of the operands is true (e.g., `(5 > 3) or (2 > 4)` results in `True`).\n",
    " - `not`: Returns `True` if the operand is false (e.g., `not (5 > 3)` results in `False`)."
   ]
  },
  {
   "cell_type": "code",
   "execution_count": 40,
   "id": "2ce2a1b2-96f9-4332-9209-0c027fc6c390",
   "metadata": {},
   "outputs": [
    {
     "name": "stdout",
     "output_type": "stream",
     "text": [
      "AND: True\n",
      "OR: True\n",
      "NOT: False\n",
      "AND: False\n",
      "OR: True\n",
      "NOT: False\n",
      "AND: True\n",
      "OR: True\n",
      "NOT: True\n",
      "Combining Logical Operators: False\n"
     ]
    }
   ],
   "source": [
    "a = 5\n",
    "b = 3\n",
    "c = 2\n",
    "\n",
    "result1 = (a > b) and (c < b)\n",
    "print(\"AND:\", result1)\n",
    "\n",
    "result2 = (a > b) or (c > b)\n",
    "print(\"OR:\", result2)\n",
    "\n",
    "result3 = not (a > b)\n",
    "print(\"NOT:\", result3)\n",
    "\n",
    "result4 = (a > b) and (c > b)\n",
    "print(\"AND:\", result4)\n",
    "\n",
    "result5 = (a > b) or (c < b)\n",
    "print(\"OR:\", result5)\n",
    "\n",
    "result6 = not (c < b)\n",
    "print(\"NOT:\", result6)\n",
    "\n",
    "result7 = (a > b) and (c < b) and (b == 3)\n",
    "print(\"AND:\", result7)\n",
    "\n",
    "result8 = (a > b) or (c > b) or (b == 3)\n",
    "print(\"OR:\", result8)\n",
    "\n",
    "result9 = not (c > b)\n",
    "print(\"NOT:\", result9)\n",
    "\n",
    "result10 = not ((a > b) or (c < b))\n",
    "print(\"Combining Logical Operators:\", result10)\n"
   ]
  },
  {
   "cell_type": "markdown",
   "id": "7e2df9af-1cdb-4470-b0e0-dddb4486e43d",
   "metadata": {},
   "source": [
    "# Bitwise Operators"
   ]
  },
  {
   "cell_type": "markdown",
   "id": "8653bb70-938f-4f64-ab9a-b62ff2fa7012",
   "metadata": {},
   "source": [
    "   - `&` (Bitwise AND): Performs a bitwise AND operation (e.g., `5 & 3` results in `1`).\n",
    "   - `|` (Bitwise OR): Performs a bitwise OR operation (e.g., `5 | 3` results in `7`).\n",
    "   - `^` (Bitwise XOR): Performs a bitwise XOR operation (e.g., `5 ^ 3` results in `6`).\n",
    "   - `~` (Bitwise NOT): Inverts the bits (e.g., `~5` results in `-6`).\n",
    "   - `<<` (Left shift): Shifts bits to the left (e.g., `5 << 1` results in `10`).\n",
    "   - `>>` (Right shift): Shifts bits to the right (e.g., `5 >> 1` results in `2`).\n",
    "\n"
   ]
  },
  {
   "cell_type": "code",
   "execution_count": 38,
   "id": "60d2cb55-b434-4536-ba70-22b250493694",
   "metadata": {},
   "outputs": [
    {
     "name": "stdout",
     "output_type": "stream",
     "text": [
      "AND: 4\n",
      "OR: 15\n",
      "XOR: 11\n",
      "NOT: -13\n",
      "Left Shift: 48\n",
      "Right Shif: 3\n",
      "Combining two Operators: 15\n",
      "Combining two Operators: 11\n",
      "Combining two Operators: 11\n",
      "Combining two Operators: 4\n"
     ]
    }
   ],
   "source": [
    "a = 12\n",
    "b = 7\n",
    "result1 = a & b\n",
    "print(\"AND:\",result1)\n",
    "\n",
    "result2 = a | b\n",
    "print(\"OR:\",result2)\n",
    "\n",
    "result3 = a ^ b\n",
    "print(\"XOR:\",result3)\n",
    "\n",
    "result4 = ~a\n",
    "print(\"NOT:\",result4)\n",
    "\n",
    "result5 = a << 2\n",
    "print(\"Left Shift:\",result5)\n",
    "\n",
    "result6 = a >> 2\n",
    "print(\"Right Shif:\",result6)\n",
    "\n",
    "result7 = (a & b) | (a ^ b)\n",
    "print(\"Combining two Operators:\",result7)\n",
    "\n",
    "result8 = (a | b) & (a ^ b)\n",
    "print(\"Combining two Operators:\",result8)\n",
    "\n",
    "result9 = (a | b) ^ (a & b)\n",
    "print(\"Combining two Operators:\",result9)\n",
    "\n",
    "result10 = (a | b) & (a & b)\n",
    "print(\"Combining two Operators:\",result10)"
   ]
  },
  {
   "cell_type": "code",
   "execution_count": 8,
   "id": "900933b3-805d-410d-8da1-c80879af915e",
   "metadata": {},
   "outputs": [
    {
     "data": {
      "text/plain": [
       "18"
      ]
     },
     "execution_count": 8,
     "metadata": {},
     "output_type": "execute_result"
    }
   ],
   "source": [
    "51 & 18"
   ]
  },
  {
   "cell_type": "code",
   "execution_count": 10,
   "id": "2d300a7c-fc2a-4ad2-baf0-46e47c32d821",
   "metadata": {},
   "outputs": [
    {
     "data": {
      "text/plain": [
       "20"
      ]
     },
     "execution_count": 10,
     "metadata": {},
     "output_type": "execute_result"
    }
   ],
   "source": [
    "276 & 28"
   ]
  },
  {
   "cell_type": "code",
   "execution_count": 12,
   "id": "ccb3976a-e315-444b-91c7-7b81ca30f322",
   "metadata": {},
   "outputs": [
    {
     "data": {
      "text/plain": [
       "479"
      ]
     },
     "execution_count": 12,
     "metadata": {},
     "output_type": "execute_result"
    }
   ],
   "source": [
    "403 | 95"
   ]
  },
  {
   "cell_type": "code",
   "execution_count": 14,
   "id": "12c7f6e7-cd13-4103-9ba9-92dcb13c6817",
   "metadata": {},
   "outputs": [
    {
     "data": {
      "text/plain": [
       "455"
      ]
     },
     "execution_count": 14,
     "metadata": {},
     "output_type": "execute_result"
    }
   ],
   "source": [
    "420 ^ 99"
   ]
  },
  {
   "cell_type": "code",
   "execution_count": 16,
   "id": "a767e293-7364-42f9-85da-b1d1f988e877",
   "metadata": {},
   "outputs": [
    {
     "data": {
      "text/plain": [
       "782"
      ]
     },
     "execution_count": 16,
     "metadata": {},
     "output_type": "execute_result"
    }
   ],
   "source": [
    "782 << 0"
   ]
  },
  {
   "cell_type": "code",
   "execution_count": 18,
   "id": "29a6531a-64ac-4e44-9735-6cb3f87e00cb",
   "metadata": {},
   "outputs": [
    {
     "data": {
      "text/plain": [
       "109"
      ]
     },
     "execution_count": 18,
     "metadata": {},
     "output_type": "execute_result"
    }
   ],
   "source": [
    "878 >> 3"
   ]
  },
  {
   "cell_type": "code",
   "execution_count": 20,
   "id": "3a556a4e-8aa2-45a8-8b24-4338b11d1c5c",
   "metadata": {},
   "outputs": [
    {
     "data": {
      "text/plain": [
       "60"
      ]
     },
     "execution_count": 20,
     "metadata": {},
     "output_type": "execute_result"
    }
   ],
   "source": [
    "973 >> 4"
   ]
  },
  {
   "cell_type": "code",
   "execution_count": 22,
   "id": "0028c902-d88c-4309-87d5-f7e7ce9fb724",
   "metadata": {},
   "outputs": [
    {
     "data": {
      "text/plain": [
       "572"
      ]
     },
     "execution_count": 22,
     "metadata": {},
     "output_type": "execute_result"
    }
   ],
   "source": [
    "143 << 2"
   ]
  },
  {
   "cell_type": "code",
   "execution_count": 24,
   "id": "6f7e8cbd-0c60-489e-a56f-befd5effc631",
   "metadata": {},
   "outputs": [
    {
     "data": {
      "text/plain": [
       "583"
      ]
     },
     "execution_count": 24,
     "metadata": {},
     "output_type": "execute_result"
    }
   ],
   "source": [
    "576 | 7"
   ]
  },
  {
   "cell_type": "markdown",
   "id": "5b0b9dd6-a17c-4876-8167-7661f953ebe0",
   "metadata": {},
   "source": [
    "# Membership Operators"
   ]
  },
  {
   "cell_type": "markdown",
   "id": "70412dd6-c6ee-46a0-83ff-427373572a7a",
   "metadata": {},
   "source": [
    "   - `in`: Returns `True` if a value is found in the sequence (e.g., `'a' in 'apple'` results in `True`).\n",
    "   - `not in`: Returns `True` if a value is not found in the sequence (e.g., `'b' not in 'apple'` results in `True`).\n"
   ]
  },
  {
   "cell_type": "code",
   "execution_count": 45,
   "id": "1e558273-446f-4a6e-8114-5d8dab845a31",
   "metadata": {},
   "outputs": [
    {
     "name": "stdout",
     "output_type": "stream",
     "text": [
      "True\n",
      "True\n",
      "True\n",
      "True\n",
      "True\n",
      "True\n",
      "True\n",
      "False\n",
      "False\n",
      "True\n",
      "True\n",
      "False\n"
     ]
    }
   ],
   "source": [
    "a = 10\n",
    "b = 20\n",
    "c = a\n",
    "\n",
    "print(a is not b)\n",
    "print(a is c)\n",
    "\n",
    "s1 = \"hello\"\n",
    "s2 = \"world\"\n",
    "s3 = \"hello\"\n",
    "\n",
    "print(s1 is not s2)\n",
    "print(s1 is s3)\n",
    "\n",
    "x = 100\n",
    "y = 100\n",
    "z = 200\n",
    "\n",
    "print(x is y)\n",
    "print(x is not z)\n",
    "\n",
    "f1 = 1.0\n",
    "f2 = 1.0\n",
    "f3 = 2.0\n",
    "\n",
    "print(f1 is not f3)\n",
    "print(f1 is f2)\n",
    "\n",
    "\n",
    "num1 = 10\n",
    "num2 = 10.0\n",
    "\n",
    "print(num1 is num2)\n",
    "print(num1 is not num2)\n",
    "\n",
    "str1 = \"example\"\n",
    "str2 = \"example\"\n",
    "\n",
    "print(str1 is str2)\n",
    "print(str1 is not str2)"
   ]
  },
  {
   "cell_type": "markdown",
   "id": "d363dd04-2a79-4dbe-b6da-f4859e9284df",
   "metadata": {},
   "source": [
    "# Identity Operators"
   ]
  },
  {
   "cell_type": "markdown",
   "id": "cd110025-4a55-41a0-96d1-7c54c604ed20",
   "metadata": {},
   "source": [
    "   - `is`: Returns `True` if two variables point to the same object (e.g., `x is y`).\n",
    "   - `is not`: Returns `True` if two variables point to different objects (e.g., `x is not y`)."
   ]
  },
  {
   "cell_type": "code",
   "execution_count": 49,
   "id": "4d26f87f-f706-4bb2-ba34-cb1a3296ecef",
   "metadata": {},
   "outputs": [
    {
     "name": "stdout",
     "output_type": "stream",
     "text": [
      "False\n",
      "True\n",
      "False\n",
      "True\n",
      "False\n",
      "True\n",
      "True\n",
      "False\n",
      "True\n",
      "True\n",
      "False\n",
      "True\n",
      "True\n",
      "True\n"
     ]
    }
   ],
   "source": [
    "str1 = \"hello\"\n",
    "str2 = \"world\"\n",
    "str3 = \"hello\"\n",
    "\n",
    "print(str1 is str2)\n",
    "print(str1 is str3)\n",
    "\n",
    "num1 = 300\n",
    "num2 = 300\n",
    "num3 = 10\n",
    "\n",
    "print(num1 is num2)\n",
    "print(num1 is not num3)\n",
    "\n",
    "float1 = 0.1\n",
    "float2 = 0.1\n",
    "float3 = 0.2\n",
    "\n",
    "print(float1 is float2)\n",
    "print(float1 is not float3)\n",
    "\n",
    "none1 = None\n",
    "none2 = None\n",
    "\n",
    "print(none1 is none2)\n",
    "print(none1 is not none2)\n",
    "\n",
    "bool1 = False\n",
    "bool2 = False\n",
    "bool3 = True\n",
    "\n",
    "print(bool1 is bool2)\n",
    "print(bool1 is not bool3)\n",
    "\n",
    "\n",
    "float4 = 1.5\n",
    "float5 = 1.5\n",
    "\n",
    "print(float4 is float5)\n",
    "print(float4 is not float5)\n",
    "\n",
    "small_int1 = 5\n",
    "small_int2 = 5\n",
    "small_int3 = 15\n",
    "\n",
    "print(small_int1 is small_int2)\n",
    "print(small_int1 is not small_int3)"
   ]
  }
 ],
 "metadata": {
  "kernelspec": {
   "display_name": "Python 3 (ipykernel)",
   "language": "python",
   "name": "python3"
  },
  "language_info": {
   "codemirror_mode": {
    "name": "ipython",
    "version": 3
   },
   "file_extension": ".py",
   "mimetype": "text/x-python",
   "name": "python",
   "nbconvert_exporter": "python",
   "pygments_lexer": "ipython3",
   "version": "3.12.4"
  }
 },
 "nbformat": 4,
 "nbformat_minor": 5
}
