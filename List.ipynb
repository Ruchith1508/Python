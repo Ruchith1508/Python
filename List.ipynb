{
 "cells": [
  {
   "cell_type": "markdown",
   "id": "3a8d7d56-aa69-49fa-be8f-606c5d8011db",
   "metadata": {},
   "source": [
    "# What is List?"
   ]
  },
  {
   "cell_type": "markdown",
   "id": "88e4cf50-4d99-4558-bf5e-d56859e3d8f2",
   "metadata": {},
   "source": [
    "In Python, the sequence of various data types is stored in a list. A list is a collection of different kinds of values or items. Since Python lists are mutable, we can change their elements after forming. The comma (,) and the square brackets [enclose the List's items] serve as separators.\n",
    "\n",
    "Although six Python data types can hold sequences, the List is the most common and reliable form. A list, a type of sequence data, is used to store the collection of data. Tuples and Strings are two similar data formats for sequences.A list is a collection of items separated by commas and denoted by the symbol [].\n",
    "\n",
    "Lists are the simplest containers that are an integral part of the Python language. Lists need not be homogeneous always which makes it the most powerful tool in Python. A single list may contain DataTypes like Integers, Strings, as well as Objects. Lists are mutable, and hence, they can be altered even after their creation.\n",
    "\n",
    "* The list is changeable, meaning that we can change, add, and remove items in a list after it has been created.\n",
    "\n",
    "* Since lists are indexed, lists can have items with the same value"
   ]
  },
  {
   "cell_type": "markdown",
   "id": "1d4ccd5f-411a-43ad-87ee-577ee650dc50",
   "metadata": {},
   "source": [
    "Characteristics of Lists:\n",
    "* The lists are in order.\n",
    "\n",
    "* The list element can be accessed via the index.\n",
    "\n",
    "* The mutable type of List is\n",
    "\n",
    "* The rundowns are changeable sorts.\n",
    "\n",
    "* The number of various elements can be stored in a list."
   ]
  },
  {
   "cell_type": "code",
   "execution_count": 145,
   "id": "019bd7b6-e9cc-4b35-998e-3c46be399167",
   "metadata": {},
   "outputs": [
    {
     "name": "stdout",
     "output_type": "stream",
     "text": [
      "['apple', 'banana', 'cherry']\n"
     ]
    }
   ],
   "source": [
    "mylist = [\"apple\", \"banana\", \"cherry\"]\n",
    "print(mylist)"
   ]
  },
  {
   "cell_type": "markdown",
   "id": "8fc0b9e0-6dd3-4b87-b3c8-a00b6052a5a0",
   "metadata": {},
   "source": [
    "# Examples of List"
   ]
  },
  {
   "cell_type": "code",
   "execution_count": 148,
   "id": "d50881f4-5dff-4987-b867-2806e60a7fd4",
   "metadata": {},
   "outputs": [
    {
     "name": "stdout",
     "output_type": "stream",
     "text": [
      "list1: [1, 2, 3, 4, 5]\n",
      "list2: [1.12, 2.26, 3.39, 4.454, 5.576]\n",
      "list3: [(1+2j), (3+4j), (5+6j)]\n",
      "list4: [True, False, True, False]\n",
      "list5: ['Apple', 'Ball', 'Cat', 'Dog', 'Elephant ']\n",
      "list6: [1, 2.5, 3, 4.75]\n",
      "list7: [1, (2+3j), 3, (4+5j)]\n",
      "list8: [1.1, 2.2, True, False, 3.3]\n",
      "list9: ['Apple', 'Ball', True, 'Cat', False]\n",
      "list10: [1, 2.5, (3+4j), 'Dog', True, 5.6, 'Elephant', False]\n"
     ]
    }
   ],
   "source": [
    "list1 = [1, 2, 3, 4, 5]\n",
    "list2 = [1.12, 2.26, 3.39, 4.454, 5.576]\n",
    "list3 = [1+2j, 3+4j, 5+6j]\n",
    "list4 = [True, False, True, False]\n",
    "list5 = [\"Apple\", \"Ball\", \"Cat\", \"Dog\", \"Elephant \"]\n",
    "list6 = [1, 2.5, 3, 4.75]\n",
    "list7 = [1, 2+3j, 3, 4+5j]\n",
    "list8 = [1.1, 2.2, True, False, 3.3]\n",
    "list9 = [\"Apple\", \"Ball\", True, \"Cat\", False]\n",
    "list10 = [1, 2.5, 3+4j, \"Dog\", True, 5.6, \"Elephant\", False]\n",
    "print(\"list1:\",list1)\n",
    "print(\"list2:\",list2)\n",
    "print(\"list3:\",list3)\n",
    "print(\"list4:\",list4)\n",
    "print(\"list5:\",list5)\n",
    "print(\"list6:\",list6)\n",
    "print(\"list7:\",list7)\n",
    "print(\"list8:\",list8)\n",
    "print(\"list9:\",list9)\n",
    "print(\"list10:\",list10)"
   ]
  },
  {
   "cell_type": "markdown",
   "id": "3fc8f5fe-b927-4a8e-ac5e-2c7bf76d403e",
   "metadata": {},
   "source": [
    "## Accessing List Elements with Index"
   ]
  },
  {
   "cell_type": "code",
   "execution_count": 151,
   "id": "b934937a-23ca-43b7-83df-fbcdfc76d4eb",
   "metadata": {},
   "outputs": [
    {
     "data": {
      "text/plain": [
       "(5+6j)"
      ]
     },
     "execution_count": 151,
     "metadata": {},
     "output_type": "execute_result"
    }
   ],
   "source": [
    "list3[-1]"
   ]
  },
  {
   "cell_type": "code",
   "execution_count": 153,
   "id": "2a5906d0-b86c-4d78-a65a-ef01cdb10e4b",
   "metadata": {},
   "outputs": [
    {
     "data": {
      "text/plain": [
       "'Dog'"
      ]
     },
     "execution_count": 153,
     "metadata": {},
     "output_type": "execute_result"
    }
   ],
   "source": [
    "list5[3]"
   ]
  },
  {
   "cell_type": "code",
   "execution_count": 155,
   "id": "c88b7553-9174-4209-ac3d-ff5bf88143c4",
   "metadata": {},
   "outputs": [
    {
     "data": {
      "text/plain": [
       "'Cat'"
      ]
     },
     "execution_count": 155,
     "metadata": {},
     "output_type": "execute_result"
    }
   ],
   "source": [
    "list9[-2]"
   ]
  },
  {
   "cell_type": "code",
   "execution_count": 157,
   "id": "47fd72c7-5368-43ba-8cb6-588890325d53",
   "metadata": {},
   "outputs": [
    {
     "data": {
      "text/plain": [
       "4.75"
      ]
     },
     "execution_count": 157,
     "metadata": {},
     "output_type": "execute_result"
    }
   ],
   "source": [
    "list6[3]"
   ]
  },
  {
   "cell_type": "code",
   "execution_count": 159,
   "id": "42bf5a40-0fde-4fb9-8bf8-0bcf89d3c194",
   "metadata": {},
   "outputs": [
    {
     "data": {
      "text/plain": [
       "3"
      ]
     },
     "execution_count": 159,
     "metadata": {},
     "output_type": "execute_result"
    }
   ],
   "source": [
    "list1[2]"
   ]
  },
  {
   "cell_type": "markdown",
   "id": "c6a59d4a-db58-4cd9-909c-a306c6739b3a",
   "metadata": {},
   "source": [
    "## Slicing of a List"
   ]
  },
  {
   "cell_type": "code",
   "execution_count": 162,
   "id": "a7b7708c-bf20-4361-a8f5-7429a05d7df3",
   "metadata": {},
   "outputs": [
    {
     "data": {
      "text/plain": [
       "[4, 5]"
      ]
     },
     "execution_count": 162,
     "metadata": {},
     "output_type": "execute_result"
    }
   ],
   "source": [
    "list1[3:6]"
   ]
  },
  {
   "cell_type": "code",
   "execution_count": 164,
   "id": "b6dd83a8-969c-4e3b-a170-fb891c7a20bd",
   "metadata": {},
   "outputs": [
    {
     "data": {
      "text/plain": [
       "[2.26, 3.39]"
      ]
     },
     "execution_count": 164,
     "metadata": {},
     "output_type": "execute_result"
    }
   ],
   "source": [
    "list2[1:3]"
   ]
  },
  {
   "cell_type": "code",
   "execution_count": 166,
   "id": "7604bf9a-eef6-4b53-ae2a-fd93a0bc6983",
   "metadata": {},
   "outputs": [
    {
     "data": {
      "text/plain": [
       "[(1+2j), (3+4j), (5+6j)]"
      ]
     },
     "execution_count": 166,
     "metadata": {},
     "output_type": "execute_result"
    }
   ],
   "source": [
    "list3[:3]"
   ]
  },
  {
   "cell_type": "code",
   "execution_count": 168,
   "id": "1985c376-f3c6-4ba9-9aad-7076e3e95d69",
   "metadata": {},
   "outputs": [
    {
     "data": {
      "text/plain": [
       "[True, False]"
      ]
     },
     "execution_count": 168,
     "metadata": {},
     "output_type": "execute_result"
    }
   ],
   "source": [
    "list4[2:]"
   ]
  },
  {
   "cell_type": "code",
   "execution_count": 170,
   "id": "5d1cc337-a635-45ce-adba-355364bfc9f8",
   "metadata": {},
   "outputs": [
    {
     "data": {
      "text/plain": [
       "'Dog'"
      ]
     },
     "execution_count": 170,
     "metadata": {},
     "output_type": "execute_result"
    }
   ],
   "source": [
    "list5[3]"
   ]
  },
  {
   "cell_type": "code",
   "execution_count": 172,
   "id": "1516bc20-85a5-4c3d-a287-7df8cfd95f51",
   "metadata": {},
   "outputs": [
    {
     "data": {
      "text/plain": [
       "[2.5, 3]"
      ]
     },
     "execution_count": 172,
     "metadata": {},
     "output_type": "execute_result"
    }
   ],
   "source": [
    "list6[-3:-1]"
   ]
  },
  {
   "cell_type": "code",
   "execution_count": 174,
   "id": "49d12ac4-b79a-4b22-b9a7-8a5e2133f097",
   "metadata": {},
   "outputs": [
    {
     "data": {
      "text/plain": [
       "[(4+5j)]"
      ]
     },
     "execution_count": 174,
     "metadata": {},
     "output_type": "execute_result"
    }
   ],
   "source": [
    "list7[-1:]"
   ]
  },
  {
   "cell_type": "code",
   "execution_count": 176,
   "id": "3e4e7b54-64a6-4f02-b404-cda74abd248b",
   "metadata": {},
   "outputs": [
    {
     "data": {
      "text/plain": [
       "[1.1, 2.2, True, False]"
      ]
     },
     "execution_count": 176,
     "metadata": {},
     "output_type": "execute_result"
    }
   ],
   "source": [
    "list8[:-1]"
   ]
  },
  {
   "cell_type": "code",
   "execution_count": 178,
   "id": "bbe6f32d-18d7-4e7d-8ee1-c8b0b3dda8a7",
   "metadata": {},
   "outputs": [
    {
     "data": {
      "text/plain": [
       "'Cat'"
      ]
     },
     "execution_count": 178,
     "metadata": {},
     "output_type": "execute_result"
    }
   ],
   "source": [
    "list9[-2]"
   ]
  },
  {
   "cell_type": "code",
   "execution_count": 180,
   "id": "b6da74f5-067b-44b0-afa6-5550a5412138",
   "metadata": {},
   "outputs": [
    {
     "data": {
      "text/plain": [
       "[True, 5.6, 'Elephant']"
      ]
     },
     "execution_count": 180,
     "metadata": {},
     "output_type": "execute_result"
    }
   ],
   "source": [
    "list10[-4:-1]"
   ]
  },
  {
   "cell_type": "markdown",
   "id": "2c649358-8104-4c8a-842c-8ca384211fc8",
   "metadata": {},
   "source": [
    "# List Operations"
   ]
  },
  {
   "cell_type": "markdown",
   "id": "76371d5b-356d-40e7-9ddf-dc0c41f5206a",
   "metadata": {},
   "source": [
    "## Concatenation "
   ]
  },
  {
   "cell_type": "code",
   "execution_count": 184,
   "id": "0155d99a-a84c-4453-bfac-12b716248e7d",
   "metadata": {},
   "outputs": [
    {
     "name": "stdout",
     "output_type": "stream",
     "text": [
      "['Apple', 'Ball', True, 'Cat', False, 1, 2, 3, 4, 5]\n"
     ]
    }
   ],
   "source": [
    "a = list1 + list2\n",
    "print(c)"
   ]
  },
  {
   "cell_type": "code",
   "execution_count": 186,
   "id": "33cb6d36-9d6c-4ad1-8ccc-7f62c3ff9629",
   "metadata": {},
   "outputs": [
    {
     "name": "stdout",
     "output_type": "stream",
     "text": [
      "[(1+2j), (3+4j), (5+6j), 1.1, 2.2, True, False, 3.3]\n"
     ]
    }
   ],
   "source": [
    "b = list3 + list8\n",
    "print(b)"
   ]
  },
  {
   "cell_type": "code",
   "execution_count": 188,
   "id": "60c6e1e4-2345-4cf7-9b56-d169feb4e351",
   "metadata": {},
   "outputs": [
    {
     "name": "stdout",
     "output_type": "stream",
     "text": [
      "['Apple', 'Ball', True, 'Cat', False, 1, 2, 3, 4, 5]\n"
     ]
    }
   ],
   "source": [
    "c = list9 + list1\n",
    "print(c)"
   ]
  },
  {
   "cell_type": "markdown",
   "id": "19416491-50c9-4e94-b8af-6670a2477d02",
   "metadata": {},
   "source": [
    "## Repetition"
   ]
  },
  {
   "cell_type": "code",
   "execution_count": 191,
   "id": "5402b08f-ad82-4ae9-8cc8-ef81dba14688",
   "metadata": {},
   "outputs": [
    {
     "name": "stdout",
     "output_type": "stream",
     "text": [
      "[True, False, True, False, True, False, True, False, True, False, True, False]\n"
     ]
    }
   ],
   "source": [
    "d = list4 * 3\n",
    "print(d)"
   ]
  },
  {
   "cell_type": "code",
   "execution_count": 193,
   "id": "c50dcf8a-08ba-4630-a12d-62bd96488903",
   "metadata": {},
   "outputs": [
    {
     "name": "stdout",
     "output_type": "stream",
     "text": [
      "[1.12, 2.26, 3.39, 4.454, 5.576, 1.12, 2.26, 3.39, 4.454, 5.576, 1.12, 2.26, 3.39, 4.454, 5.576, 1.12, 2.26, 3.39, 4.454, 5.576, 1.12, 2.26, 3.39, 4.454, 5.576, 1.12, 2.26, 3.39, 4.454, 5.576]\n"
     ]
    }
   ],
   "source": [
    "e = list2 * 6\n",
    "print(e)"
   ]
  },
  {
   "cell_type": "code",
   "execution_count": 195,
   "id": "1657b2ce-6771-46e0-86ed-f88c8f8a3396",
   "metadata": {},
   "outputs": [
    {
     "name": "stdout",
     "output_type": "stream",
     "text": [
      "[1, 2.5, 3, 4.75, 1, 2.5, 3, 4.75]\n"
     ]
    }
   ],
   "source": [
    "f = list6 * 2\n",
    "print(f)"
   ]
  },
  {
   "cell_type": "code",
   "execution_count": null,
   "id": "e97e2cea-15b7-495b-841b-c278305765ab",
   "metadata": {},
   "outputs": [],
   "source": []
  },
  {
   "cell_type": "code",
   "execution_count": null,
   "id": "301f2a37-8c7e-4966-bee8-dc50514143e5",
   "metadata": {},
   "outputs": [],
   "source": []
  }
 ],
 "metadata": {
  "kernelspec": {
   "display_name": "Python 3 (ipykernel)",
   "language": "python",
   "name": "python3"
  },
  "language_info": {
   "codemirror_mode": {
    "name": "ipython",
    "version": 3
   },
   "file_extension": ".py",
   "mimetype": "text/x-python",
   "name": "python",
   "nbconvert_exporter": "python",
   "pygments_lexer": "ipython3",
   "version": "3.12.4"
  }
 },
 "nbformat": 4,
 "nbformat_minor": 5
}
