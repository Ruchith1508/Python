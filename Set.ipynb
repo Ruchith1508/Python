{
 "cells": [
  {
   "cell_type": "markdown",
   "id": "8e1c2a90-486c-43fa-82ee-07c8eb48acba",
   "metadata": {},
   "source": [
    "# What is Set?"
   ]
  },
  {
   "cell_type": "markdown",
   "id": "ed6dd476-52f8-4dd3-a4c3-85082f3b6d49",
   "metadata": {},
   "source": [
    "A Set in Python programming is an unordered collection data type that is iterable and has no duplicate elements. While sets are mutable, meaning you can add or remove elements after their creation, the individual elements within the set must be immutable and cannot be changed directly.\n",
    "\n",
    "Set are represented by { } (values enclosed in curly braces)\n",
    "\n",
    "The major advantage of using a set, as opposed to a list, is that it has a highly optimized method for checking whether a specific element is contained in the set. This is based on a data structure known as a hash table. Since sets are unordered, we cannot access items using indexes as we do in lists.\n",
    "\n",
    "* Unordered means that the items in a set do not have a defined order.\r",
    "* \r\n",
    "Set items can appear in a different order every time you use them, and cannot be referred to by index or ke\n",
    "* Set items are unchangeable, meaning that we cannot change the items after the set has been created.\r",
    "* \r\n",
    "Once a set is created, you cannot change its items, but you can remove items and add new items* wed\r\n",
    "Sets cannot have two items with the same value.y."
   ]
  },
  {
   "cell_type": "code",
   "execution_count": 79,
   "id": "2b6a2d53-a318-4744-bd93-63fa63589b76",
   "metadata": {},
   "outputs": [
    {
     "name": "stdout",
     "output_type": "stream",
     "text": [
      "{'banana', 'apple', 'cherry'}\n"
     ]
    }
   ],
   "source": [
    "myset = {\"apple\", \"banana\", \"cherry\"}\n",
    "print(myset)"
   ]
  },
  {
   "cell_type": "markdown",
   "id": "a92238b1-2360-4f3c-a3ab-efdb05e25148",
   "metadata": {},
   "source": [
    "# Set Methods"
   ]
  },
  {
   "cell_type": "markdown",
   "id": "2026cae4-0a9d-4932-959f-7224a0d290c3",
   "metadata": {},
   "source": [
    "## Add()"
   ]
  },
  {
   "cell_type": "code",
   "execution_count": 83,
   "id": "e2b7449b-cf84-46cb-a5d0-4ad68de25adc",
   "metadata": {},
   "outputs": [
    {
     "name": "stdout",
     "output_type": "stream",
     "text": [
      "{1, 2, 3, 4, 5}\n"
     ]
    }
   ],
   "source": [
    "my_set = {1, 2, 3, 4}\n",
    "my_set.add(5)  \n",
    "print(my_set)  "
   ]
  },
  {
   "cell_type": "markdown",
   "id": "ae0d084c-2849-480a-be8f-8a0f5ea633ee",
   "metadata": {},
   "source": [
    "## Remove()"
   ]
  },
  {
   "cell_type": "code",
   "execution_count": 86,
   "id": "d9010d9b-c0a6-4e0b-a144-82ffa73ae573",
   "metadata": {},
   "outputs": [
    {
     "name": "stdout",
     "output_type": "stream",
     "text": [
      "{1, 2, 4}\n"
     ]
    }
   ],
   "source": [
    "my_set = {1, 2, 3, 4}\n",
    "my_set.remove(3) \n",
    "print(my_set) "
   ]
  },
  {
   "cell_type": "markdown",
   "id": "a113c1ce-d86a-4c57-b480-f36792a056ed",
   "metadata": {},
   "source": [
    "## Discard()"
   ]
  },
  {
   "cell_type": "code",
   "execution_count": 89,
   "id": "2f1ac131-bc96-4882-8c53-6934708fccd0",
   "metadata": {},
   "outputs": [
    {
     "name": "stdout",
     "output_type": "stream",
     "text": [
      "{1, 2, 3}\n"
     ]
    }
   ],
   "source": [
    "my_set = {1, 2, 3, 4}\n",
    "my_set.discard(4) \n",
    "print(my_set)  "
   ]
  },
  {
   "cell_type": "markdown",
   "id": "93a560f5-58e3-4a28-8a61-24d00e0f30fc",
   "metadata": {},
   "source": [
    "## Pop()"
   ]
  },
  {
   "cell_type": "code",
   "execution_count": 92,
   "id": "4d965784-18b8-4620-858d-309dff2e172f",
   "metadata": {},
   "outputs": [
    {
     "name": "stdout",
     "output_type": "stream",
     "text": [
      "1\n",
      "{2, 3, 4}\n"
     ]
    }
   ],
   "source": [
    "my_set = {1, 2, 3, 4}\n",
    "popped_element = my_set.pop()  \n",
    "print(popped_element) \n",
    "print(my_set)  "
   ]
  },
  {
   "cell_type": "markdown",
   "id": "019dde7e-96a5-4855-b97e-6d735b891e4f",
   "metadata": {},
   "source": [
    "# Set Operations"
   ]
  },
  {
   "cell_type": "code",
   "execution_count": 95,
   "id": "d356b787-e8c8-4ead-9818-f99e9bb7b758",
   "metadata": {},
   "outputs": [],
   "source": [
    "set1={1,2,3,4,5}\n",
    "set2={6,7,4,9,2}"
   ]
  },
  {
   "cell_type": "markdown",
   "id": "88235822-9eb2-4c5a-af0a-e0ede9a77483",
   "metadata": {},
   "source": [
    "## Union"
   ]
  },
  {
   "cell_type": "code",
   "execution_count": 98,
   "id": "f1a1c525-e5e1-4694-92fc-54614ce577a5",
   "metadata": {},
   "outputs": [
    {
     "data": {
      "text/plain": [
       "{1, 2, 3, 4, 5, 6, 7, 9}"
      ]
     },
     "execution_count": 98,
     "metadata": {},
     "output_type": "execute_result"
    }
   ],
   "source": [
    "set1.union(set2)"
   ]
  },
  {
   "cell_type": "code",
   "execution_count": 100,
   "id": "70bd360d-2db3-4de2-8c68-286f009b3715",
   "metadata": {},
   "outputs": [
    {
     "data": {
      "text/plain": [
       "{1, 2, 3, 4, 5, 6, 7, 9}"
      ]
     },
     "execution_count": 100,
     "metadata": {},
     "output_type": "execute_result"
    }
   ],
   "source": [
    "set1 | set2"
   ]
  },
  {
   "cell_type": "markdown",
   "id": "03d1f5bd-84ba-4350-a286-f61c9ea56c35",
   "metadata": {},
   "source": [
    "## Intersection"
   ]
  },
  {
   "cell_type": "code",
   "execution_count": 103,
   "id": "e3f2b7e5-68de-4f83-8d9a-12bd96656a06",
   "metadata": {},
   "outputs": [
    {
     "data": {
      "text/plain": [
       "{2, 4}"
      ]
     },
     "execution_count": 103,
     "metadata": {},
     "output_type": "execute_result"
    }
   ],
   "source": [
    "set1.intersection(set2)"
   ]
  },
  {
   "cell_type": "code",
   "execution_count": 105,
   "id": "cef0ee30-98cc-45ce-b74f-52679e0fefa3",
   "metadata": {},
   "outputs": [
    {
     "data": {
      "text/plain": [
       "{2, 4}"
      ]
     },
     "execution_count": 105,
     "metadata": {},
     "output_type": "execute_result"
    }
   ],
   "source": [
    "set1 & set2"
   ]
  },
  {
   "cell_type": "markdown",
   "id": "5d8aa409-6e7c-4d18-aecf-d8834331d4ff",
   "metadata": {},
   "source": [
    "## Difference"
   ]
  },
  {
   "cell_type": "code",
   "execution_count": 108,
   "id": "47e83d98-a52f-4f41-ad11-a48e4ba0dd5b",
   "metadata": {},
   "outputs": [
    {
     "data": {
      "text/plain": [
       "{1, 3, 5}"
      ]
     },
     "execution_count": 108,
     "metadata": {},
     "output_type": "execute_result"
    }
   ],
   "source": [
    "set1.difference(set2)"
   ]
  },
  {
   "cell_type": "code",
   "execution_count": 110,
   "id": "3a16032b-eef0-4cbe-a425-94a036636106",
   "metadata": {},
   "outputs": [
    {
     "data": {
      "text/plain": [
       "{1, 3, 5}"
      ]
     },
     "execution_count": 110,
     "metadata": {},
     "output_type": "execute_result"
    }
   ],
   "source": [
    "set1 - set2"
   ]
  },
  {
   "cell_type": "markdown",
   "id": "dd106feb-88be-4aec-8f32-8479bb3d1a62",
   "metadata": {},
   "source": [
    "## Symmetric Difference"
   ]
  },
  {
   "cell_type": "code",
   "execution_count": 113,
   "id": "69a7125f-6950-42c9-afed-131dee4f7627",
   "metadata": {},
   "outputs": [
    {
     "data": {
      "text/plain": [
       "{1, 3, 5, 6, 7, 9}"
      ]
     },
     "execution_count": 113,
     "metadata": {},
     "output_type": "execute_result"
    }
   ],
   "source": [
    "set1.symmetric_difference(set2)"
   ]
  },
  {
   "cell_type": "code",
   "execution_count": 115,
   "id": "79121332-2252-4a5c-bf6d-6f3902ad914e",
   "metadata": {},
   "outputs": [
    {
     "data": {
      "text/plain": [
       "{1, 3, 5, 6, 7, 9}"
      ]
     },
     "execution_count": 115,
     "metadata": {},
     "output_type": "execute_result"
    }
   ],
   "source": [
    "set1 ^ set2"
   ]
  }
 ],
 "metadata": {
  "kernelspec": {
   "display_name": "Python 3 (ipykernel)",
   "language": "python",
   "name": "python3"
  },
  "language_info": {
   "codemirror_mode": {
    "name": "ipython",
    "version": 3
   },
   "file_extension": ".py",
   "mimetype": "text/x-python",
   "name": "python",
   "nbconvert_exporter": "python",
   "pygments_lexer": "ipython3",
   "version": "3.12.4"
  }
 },
 "nbformat": 4,
 "nbformat_minor": 5
}
