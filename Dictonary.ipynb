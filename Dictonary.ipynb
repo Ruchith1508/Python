{
 "cells": [
  {
   "cell_type": "markdown",
   "id": "3f3bc65f-38f3-4852-a584-2fe9dfb12ed7",
   "metadata": {},
   "source": [
    "# What is Dictionary?"
   ]
  },
  {
   "cell_type": "markdown",
   "id": "4d2da063-59a5-4888-b8f1-4b4fec71b272",
   "metadata": {},
   "source": [
    "A Python dictionary is a data structure that stores the value in key: value pairs.Python dictionaries are essential for efficient data mapping and manipulation in programming. To deepen your understanding of dictionaries and explore advanced techniques in data handling, consider enrolling in our Complete Machine Learning & Data Science Program. This course covers everything from basic dictionary operations to advanced data processing methods, empowering you to become proficient in Python programming and data analysis. This makes it different from lists, tuples, and arrays as in a dictionary each key has an associated value.\n",
    "* Dictionaries are written with curly brackets, and have keys and values.\n",
    "* Dictionary items are ordered, changeable, and do not allow duplicates.\n",
    "* \r\n",
    "Dictionary items are presented in key:value pairs, and can be referred to by using the key nam\n",
    "* Dictionaries are changeable, meaning that we can change, add or remove items after the dictionary has been created.\n",
    "* Dictionaries cannot have two items with the same key\r\n",
    "e.\r\n",
    "\r\n"
   ]
  },
  {
   "cell_type": "code",
   "execution_count": 37,
   "id": "c5b36d0d-3bec-4525-a2f2-46aeca38f3d3",
   "metadata": {},
   "outputs": [
    {
     "name": "stdout",
     "output_type": "stream",
     "text": [
      "{'key1': 'value1', 'key2': 'value2'}\n"
     ]
    }
   ],
   "source": [
    "a = {'key1': 'value1', 'key2': 'value2'}\n",
    "print(a)"
   ]
  },
  {
   "cell_type": "code",
   "execution_count": 39,
   "id": "6a67a43c-1086-4725-a029-27fe5bb672a6",
   "metadata": {},
   "outputs": [
    {
     "name": "stdout",
     "output_type": "stream",
     "text": [
      "{'Name': 'Ruchith Reddy', 'Age': 22, 'City': 'Hyderabad'}\n"
     ]
    }
   ],
   "source": [
    "person = {\"Name\": \"Ruchith Reddy\",\"Age\": 22,\"City\": \"Hyderabad\"}\n",
    "print(person)"
   ]
  },
  {
   "cell_type": "markdown",
   "id": "5c77eda2-6b27-489f-b89a-3f7a12d2939a",
   "metadata": {},
   "source": [
    "# Accessing Values in a Dictionary:"
   ]
  },
  {
   "cell_type": "code",
   "execution_count": 42,
   "id": "23f28f92-848e-4d42-94b5-067f47b336c3",
   "metadata": {},
   "outputs": [
    {
     "name": "stdout",
     "output_type": "stream",
     "text": [
      "Banana\n"
     ]
    }
   ],
   "source": [
    "fruits={\"fruit1\":\"Apple\",\"fruit2\":\"Banana\",\"fruit3\":\"Cherry\",}\n",
    "print(fruits.get(\"fruit2\"))"
   ]
  },
  {
   "cell_type": "markdown",
   "id": "888091a0-b5b4-4e4c-a054-d3e98d60d8ad",
   "metadata": {},
   "source": [
    "# Modifying Elements in a Dictionary:"
   ]
  },
  {
   "cell_type": "code",
   "execution_count": 53,
   "id": "20a593dc-904c-4e34-a654-7aecd34f0f17",
   "metadata": {},
   "outputs": [
    {
     "name": "stdout",
     "output_type": "stream",
     "text": [
      "{'fruit1': 'Apple', 'fruit2': 'Banana', 'fruit3': 'Grapes'}\n"
     ]
    }
   ],
   "source": [
    "fruits={\"fruit1\":\"Apple\",\"fruit2\":\"Banana\",\"fruit3\":\"Cherry\",}\n",
    "fruits[\"fruit3\"] = \"Grapes\"\n",
    "print(fruits)  "
   ]
  },
  {
   "cell_type": "markdown",
   "id": "710d2ab0-7c72-4b38-b015-164a829436b9",
   "metadata": {},
   "source": [
    "# Adding Elements in a Dictionary:"
   ]
  },
  {
   "cell_type": "code",
   "execution_count": 56,
   "id": "270e01cb-dede-4b2a-98a7-c2b116d9aeb3",
   "metadata": {},
   "outputs": [
    {
     "name": "stdout",
     "output_type": "stream",
     "text": [
      "{'fruit1': 'Apple', 'fruit2': 'Banana', 'fruit3': 'Cherry', 'fruit4': 'Grapes'}\n"
     ]
    }
   ],
   "source": [
    "fruits={\"fruit1\":\"Apple\",\"fruit2\":\"Banana\",\"fruit3\":\"Cherry\",}\n",
    "fruits[\"fruit4\"] = \"Grapes\"\n",
    "print(fruits)  "
   ]
  },
  {
   "cell_type": "markdown",
   "id": "ff529b7a-9e8b-4114-8263-663ab955e121",
   "metadata": {},
   "source": [
    "# Removing Elements in a Dictionary:"
   ]
  },
  {
   "cell_type": "code",
   "execution_count": 59,
   "id": "e5162b25-7dd2-42f4-ae62-7568e316ab3c",
   "metadata": {},
   "outputs": [
    {
     "name": "stdout",
     "output_type": "stream",
     "text": [
      "{'fruit1': 'Apple', 'fruit3': 'Cherry'}\n"
     ]
    }
   ],
   "source": [
    "fruits={\"fruit1\":\"Apple\",\"fruit2\":\"Banana\",\"fruit3\":\"Cherry\",}\n",
    "del fruits[\"fruit2\"]\n",
    "print(fruits)  "
   ]
  },
  {
   "cell_type": "code",
   "execution_count": null,
   "id": "4e049841-abdc-4c69-b58d-03700e199ca3",
   "metadata": {},
   "outputs": [],
   "source": []
  }
 ],
 "metadata": {
  "kernelspec": {
   "display_name": "Python 3 (ipykernel)",
   "language": "python",
   "name": "python3"
  },
  "language_info": {
   "codemirror_mode": {
    "name": "ipython",
    "version": 3
   },
   "file_extension": ".py",
   "mimetype": "text/x-python",
   "name": "python",
   "nbconvert_exporter": "python",
   "pygments_lexer": "ipython3",
   "version": "3.12.4"
  }
 },
 "nbformat": 4,
 "nbformat_minor": 5
}
