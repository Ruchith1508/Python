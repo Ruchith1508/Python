{
 "cells": [
  {
   "cell_type": "markdown",
   "id": "aa59d3c0-a49f-4ba1-886d-804b1cb6b3c0",
   "metadata": {},
   "source": [
    "# Data Types"
   ]
  },
  {
   "cell_type": "markdown",
   "id": "3fb841ca-7e21-4a34-b882-b8fe7b5f89fb",
   "metadata": {},
   "source": [
    "Python Data types are the classification or categorization of data items. It represents the kind of value that tells what operations can be performed on a particular data. Since everything is an object in Python programming, Python data types are classes and variables are instances (objects) of these classes."
   ]
  },
  {
   "cell_type": "markdown",
   "id": "40a1bfb8-5d39-4aef-9fb6-ac100cedd317",
   "metadata": {},
   "source": [
    "**int (Integer)**: Represents whole numbers without a fractional part. Integers in Python can be of arbitrary precision, meaning they can be very large or very small, limited only by the available memory. "
   ]
  },
  {
   "cell_type": "code",
   "execution_count": 5,
   "id": "7f279c67-6e9b-489a-bd77-af8450f676a9",
   "metadata": {},
   "outputs": [
    {
     "name": "stdout",
     "output_type": "stream",
     "text": [
      "5\n",
      "-123456\n"
     ]
    }
   ],
   "source": [
    "a = 5\n",
    "b = -123456\n",
    "print(a)\n",
    "print(b)"
   ]
  },
  {
   "cell_type": "markdown",
   "id": "64610405-1b6c-414c-b920-832ce6530012",
   "metadata": {},
   "source": [
    "**float (Floating Point Number)**: Represents real numbers that include a fractional part, separated from the integer part by a decimal point. Floats are typically represented using double-precision (64-bit) format"
   ]
  },
  {
   "cell_type": "code",
   "execution_count": 9,
   "id": "e51fad8e-742f-4ed1-ad7a-424b5ef639e4",
   "metadata": {},
   "outputs": [
    {
     "name": "stdout",
     "output_type": "stream",
     "text": [
      "3.14\n",
      "-0.001\n"
     ]
    }
   ],
   "source": [
    "x = 3.14\n",
    "y = -0.001\n",
    "print(x)\n",
    "print(y)"
   ]
  },
  {
   "cell_type": "markdown",
   "id": "1a46fa0b-9694-43d3-8228-e3b8ea5455b6",
   "metadata": {},
   "source": [
    "**complex (Complex Number)**: Represents numbers with a real and an imaginary part. The imaginary part is denoted with a j or J. Complex numbers are used in various scientific and engineering calculations."
   ]
  },
  {
   "cell_type": "code",
   "execution_count": 12,
   "id": "91e13651-91bf-48d9-bc8e-c59fb1b96991",
   "metadata": {},
   "outputs": [
    {
     "name": "stdout",
     "output_type": "stream",
     "text": [
      "(2+3j)\n",
      "(-1-4j)\n"
     ]
    }
   ],
   "source": [
    "z1 = 2 + 3j\n",
    "z2 = -1 - 4j\n",
    "print(z1)\n",
    "print(z2)"
   ]
  },
  {
   "cell_type": "markdown",
   "id": "b89c7a88-ebda-4781-94df-d7b2f904eff9",
   "metadata": {},
   "source": [
    "**bool (Boolean)**: Represents one of two values: True or False. Booleans are often used in conditional statements and logic operations to control the flow of a program. They are the result of comparison operators and logical operations."
   ]
  },
  {
   "cell_type": "code",
   "execution_count": 21,
   "id": "4c995606-6b9d-4208-bf08-b424bba41766",
   "metadata": {},
   "outputs": [
    {
     "data": {
      "text/plain": [
       "False"
      ]
     },
     "execution_count": 21,
     "metadata": {},
     "output_type": "execute_result"
    }
   ],
   "source": [
    "bool(0)"
   ]
  },
  {
   "cell_type": "code",
   "execution_count": 23,
   "id": "a28bec02-a541-4847-a9c5-78388e57c227",
   "metadata": {},
   "outputs": [
    {
     "data": {
      "text/plain": [
       "True"
      ]
     },
     "execution_count": 23,
     "metadata": {},
     "output_type": "execute_result"
    }
   ],
   "source": [
    "bool(1)"
   ]
  },
  {
   "cell_type": "markdown",
   "id": "c0cd49ec-982d-443b-a597-67a9fe6332d4",
   "metadata": {},
   "source": [
    "# 10 Examples for int"
   ]
  },
  {
   "cell_type": "code",
   "execution_count": 38,
   "id": "9c972b65-7051-45f6-b4e8-a39f302986ea",
   "metadata": {},
   "outputs": [
    {
     "name": "stdout",
     "output_type": "stream",
     "text": [
      "10 -3 0 2024 -5678 123456789 999 -1 10000 42\n"
     ]
    }
   ],
   "source": [
    "a = 10\n",
    "b = -3\n",
    "c = 0\n",
    "d = 2024\n",
    "e = -5678\n",
    "f = 123456789\n",
    "g = 999\n",
    "h = -1\n",
    "i = 10000\n",
    "j = 0b101010 \n",
    "print(a,b,c,d,e,f,g,h,i,j)"
   ]
  },
  {
   "cell_type": "code",
   "execution_count": 40,
   "id": "ea0bf884-a4c0-4c90-8c68-2e9b42307f18",
   "metadata": {},
   "outputs": [
    {
     "name": "stdout",
     "output_type": "stream",
     "text": [
      "3.14 -0.001 100.0 0.0 2.718 -50.5 1.23456789 0.1 0.005 100.0\n"
     ]
    }
   ],
   "source": [
    "a = 3.14\n",
    "b = -0.001\n",
    "c = 100.0\n",
    "d = 0.0\n",
    "e = 2.718\n",
    "f = -50.5\n",
    "g = 1.23456789\n",
    "h = 0.1\n",
    "i = 5e-3  \n",
    "j = 1.0e+2\n",
    "print(a,b,c,d,e,f,g,h,i,j)"
   ]
  },
  {
   "cell_type": "code",
   "execution_count": 42,
   "id": "54b56304-e913-4224-874c-61bb1dbc35cc",
   "metadata": {},
   "outputs": [
    {
     "name": "stdout",
     "output_type": "stream",
     "text": [
      "True False True False True False True False True False\n"
     ]
    }
   ],
   "source": [
    "a = True\n",
    "b = False\n",
    "c = True\n",
    "d = False\n",
    "e = True\n",
    "f = False\n",
    "g = True\n",
    "h = False\n",
    "i = True\n",
    "j = False\n",
    "print(a,b,c,d,e,f,g,h,i,j)"
   ]
  },
  {
   "cell_type": "code",
   "execution_count": 44,
   "id": "3d8414ba-cf08-4c98-8021-b8b695164bd5",
   "metadata": {},
   "outputs": [
    {
     "name": "stdout",
     "output_type": "stream",
     "text": [
      "(2+3j) (-1-4j) 1j (4+5j) (-3+2j) (1+0j) (7-8j) (-2-2j) (5+10j) (-4+4j)\n"
     ]
    }
   ],
   "source": [
    "a = 2 + 3j\n",
    "b = -1 - 4j\n",
    "c = 0 + 1j\n",
    "d = 4 + 5j\n",
    "e = -3 + 2j\n",
    "f = 1 + 0j\n",
    "g = 7 - 8j\n",
    "h = -2 - 2j\n",
    "i = 5 + 10j\n",
    "j = -4 + 4j\n",
    "print(a,b,c,d,e,f,g,h,i,j)"
   ]
  }
 ],
 "metadata": {
  "kernelspec": {
   "display_name": "Python 3 (ipykernel)",
   "language": "python",
   "name": "python3"
  },
  "language_info": {
   "codemirror_mode": {
    "name": "ipython",
    "version": 3
   },
   "file_extension": ".py",
   "mimetype": "text/x-python",
   "name": "python",
   "nbconvert_exporter": "python",
   "pygments_lexer": "ipython3",
   "version": "3.12.2"
  }
 },
 "nbformat": 4,
 "nbformat_minor": 5
}
