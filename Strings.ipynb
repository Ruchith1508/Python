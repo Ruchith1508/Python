{
  "nbformat": 4,
  "nbformat_minor": 0,
  "metadata": {
    "colab": {
      "provenance": []
    },
    "kernelspec": {
      "name": "python3",
      "display_name": "Python 3"
    },
    "language_info": {
      "name": "python"
    }
  },
  "cells": [
    {
      "cell_type": "markdown",
      "source": [
        "# What is String?"
      ],
      "metadata": {
        "id": "AOfvcLtc9an5"
      }
    },
    {
      "cell_type": "markdown",
      "source": [
        "In Python, strings are used for representing textual data. A string is a sequence of characters enclosed in either single quotes (‘’) or double quotes (“”). The Python language provides various built-in methods and functionalities to work with strings efficiently. A String is a data structure in Python Programming that represents a sequence of characters. It is an immutable data type, meaning that once you have created a string, you cannot change it. Python String are used widely in many different applications, such as storing and manipulating text data, representing names, addresses, and other types of data that can be represented as text."
      ],
      "metadata": {
        "id": "kBln-J_U9jXQ"
      }
    },
    {
      "cell_type": "markdown",
      "source": [
        "# Creating a String"
      ],
      "metadata": {
        "id": "Bbmvqjzc-N-r"
      }
    },
    {
      "cell_type": "markdown",
      "source": [
        "Strings in Python can be created using single quotes or double quotes or even triple quotes."
      ],
      "metadata": {
        "id": "V3kY1zBX-W2H"
      }
    },
    {
      "cell_type": "code",
      "source": [
        "str1='This is a string'\n",
        "str2=\"This is also a string\"\n",
        "str3=\"\"\"This is a\n",
        "multi line string\"\"\"\n",
        "print(str1)\n",
        "print(str2)\n",
        "print(str3)\n",
        "print(type(str1))\n",
        "print(type(str2))\n",
        "print(type(str3))"
      ],
      "metadata": {
        "colab": {
          "base_uri": "https://localhost:8080/"
        },
        "id": "vF4W23Gd-cdw",
        "outputId": "6cae1dce-63b0-45d1-db00-c7184e079154"
      },
      "execution_count": 1,
      "outputs": [
        {
          "output_type": "stream",
          "name": "stdout",
          "text": [
            "This is a string\n",
            "This is also a string\n",
            "This is a\n",
            "multi line string\n",
            "<class 'str'>\n",
            "<class 'str'>\n",
            "<class 'str'>\n"
          ]
        }
      ]
    },
    {
      "cell_type": "code",
      "source": [
        "str1=\"Hello World\\n\"\n",
        "str2=\"Python is very easy to learn\\n\"\n",
        "str3=\"My name is Ruchith Reddy\\n\"\n",
        "str4=\"This is so funny\\n\"\n",
        "str5=\"Ruthwik is a waste fellow\\n\"\n",
        "print(str1)\n",
        "print(str2)\n",
        "print(str3)\n",
        "print(str4)\n",
        "print(str5)"
      ],
      "metadata": {
        "colab": {
          "base_uri": "https://localhost:8080/"
        },
        "id": "2BRsLt1J-yDn",
        "outputId": "49866c00-ef53-4159-d30b-9f8ba56cb08f"
      },
      "execution_count": 2,
      "outputs": [
        {
          "output_type": "stream",
          "name": "stdout",
          "text": [
            "Hello World\n",
            "\n",
            "Python is very easy to learn\n",
            "\n",
            "My name is Ruchith Reddy\n",
            "\n",
            "This is so funny\n",
            "\n",
            "Ruthwik is a waste fellow\n",
            "\n"
          ]
        }
      ]
    },
    {
      "cell_type": "markdown",
      "source": [
        "# String Operations"
      ],
      "metadata": {
        "id": "j9Bz-bneA8NX"
      }
    },
    {
      "cell_type": "markdown",
      "source": [
        "## Concatination"
      ],
      "metadata": {
        "id": "sGm0pS3uBKrv"
      }
    },
    {
      "cell_type": "code",
      "source": [
        "a=str1+str2+str3+str4+str5\n",
        "print(a)"
      ],
      "metadata": {
        "colab": {
          "base_uri": "https://localhost:8080/"
        },
        "id": "U4VbzjCKBNxf",
        "outputId": "53f050f2-45c8-4e25-f2e9-06a376a262ae"
      },
      "execution_count": 3,
      "outputs": [
        {
          "output_type": "stream",
          "name": "stdout",
          "text": [
            "Hello World\n",
            "Python is very easy to learn\n",
            "My name is Ruchith Reddy\n",
            "This is so funny\n",
            "Ruthwik is a waste fellow\n",
            "\n"
          ]
        }
      ]
    },
    {
      "cell_type": "markdown",
      "source": [
        "## Repetition"
      ],
      "metadata": {
        "id": "Ks79-uVeCETn"
      }
    },
    {
      "cell_type": "code",
      "source": [
        "b=str1*5\n",
        "c=str2*5\n",
        "d=str3*5\n",
        "e=str4*5\n",
        "f=str5*5\n",
        "print(b)\n",
        "print(c)\n",
        "print(d)\n",
        "print(e)\n",
        "print(f)"
      ],
      "metadata": {
        "colab": {
          "base_uri": "https://localhost:8080/"
        },
        "id": "zFJ8saciCHHA",
        "outputId": "868293fd-adf0-4815-ec57-c2b75a4fdf9c"
      },
      "execution_count": 4,
      "outputs": [
        {
          "output_type": "stream",
          "name": "stdout",
          "text": [
            "Hello World\n",
            "Hello World\n",
            "Hello World\n",
            "Hello World\n",
            "Hello World\n",
            "\n",
            "Python is very easy to learn\n",
            "Python is very easy to learn\n",
            "Python is very easy to learn\n",
            "Python is very easy to learn\n",
            "Python is very easy to learn\n",
            "\n",
            "My name is Ruchith Reddy\n",
            "My name is Ruchith Reddy\n",
            "My name is Ruchith Reddy\n",
            "My name is Ruchith Reddy\n",
            "My name is Ruchith Reddy\n",
            "\n",
            "This is so funny\n",
            "This is so funny\n",
            "This is so funny\n",
            "This is so funny\n",
            "This is so funny\n",
            "\n",
            "Ruthwik is a waste fellow\n",
            "Ruthwik is a waste fellow\n",
            "Ruthwik is a waste fellow\n",
            "Ruthwik is a waste fellow\n",
            "Ruthwik is a waste fellow\n",
            "\n"
          ]
        }
      ]
    },
    {
      "cell_type": "markdown",
      "source": [
        "# String with 500 characters"
      ],
      "metadata": {
        "id": "nUG0LULEDdTs"
      }
    },
    {
      "cell_type": "code",
      "source": [
        "string_500=\"This is a simple string that has exactly five hundred characters. It’s written in plain and clear English, making it easy to understand. Each sentence is structured in a way that anyone can follow. No complex words or difficult ideas are used. The goal is to keep everything clear and straightforward. Every letter, space, and punctuation mark counts towards the total length. With this approach, we ensure that the string is exactly five hundred characters long, nothing more, nothing less, keeping it balanced.\"\n",
        "print(string_500)"
      ],
      "metadata": {
        "colab": {
          "base_uri": "https://localhost:8080/"
        },
        "id": "2eW17wEgDp2O",
        "outputId": "312eff5e-baf6-4064-eba2-763570669d54"
      },
      "execution_count": 5,
      "outputs": [
        {
          "output_type": "stream",
          "name": "stdout",
          "text": [
            "This is a simple string that has exactly five hundred characters. It’s written in plain and clear English, making it easy to understand. Each sentence is structured in a way that anyone can follow. No complex words or difficult ideas are used. The goal is to keep everything clear and straightforward. Every letter, space, and punctuation mark counts towards the total length. With this approach, we ensure that the string is exactly five hundred characters long, nothing more, nothing less, keeping it balanced.\n"
          ]
        }
      ]
    },
    {
      "cell_type": "code",
      "source": [
        "print(string_500[21])\n",
        "print(string_500[47])\n",
        "print(string_500[105])\n",
        "print(string_500[129])\n",
        "print(string_500[201])\n",
        "print(string_500[249])\n",
        "print(string_500[311])\n",
        "print(string_500[395])\n",
        "print(string_500[409])\n",
        "print(string_500[418])"
      ],
      "metadata": {
        "colab": {
          "base_uri": "https://localhost:8080/"
        },
        "id": "DBAmwsMlEWIK",
        "outputId": "53023622-1396-42b2-a4b4-917174659327"
      },
      "execution_count": 6,
      "outputs": [
        {
          "output_type": "stream",
          "name": "stdout",
          "text": [
            "n\n",
            "u\n",
            ",\n",
            "r\n",
            "c\n",
            "o\n",
            "t\n",
            ",\n",
            "a\n",
            "r\n"
          ]
        }
      ]
    },
    {
      "cell_type": "markdown",
      "source": [
        "# Slicing"
      ],
      "metadata": {
        "id": "Uvs-hZcwFTJc"
      }
    },
    {
      "cell_type": "code",
      "source": [
        "string_500[1:4]"
      ],
      "metadata": {
        "colab": {
          "base_uri": "https://localhost:8080/",
          "height": 36
        },
        "id": "nJcs8mfhFupx",
        "outputId": "5d5b7fef-9b92-45fb-a0d3-f2e4d04fc8b5"
      },
      "execution_count": 7,
      "outputs": [
        {
          "output_type": "execute_result",
          "data": {
            "text/plain": [
              "'his'"
            ],
            "application/vnd.google.colaboratory.intrinsic+json": {
              "type": "string"
            }
          },
          "metadata": {},
          "execution_count": 7
        }
      ]
    },
    {
      "cell_type": "code",
      "source": [
        "string_500[210:220]"
      ],
      "metadata": {
        "colab": {
          "base_uri": "https://localhost:8080/",
          "height": 36
        },
        "id": "06__ZpnCIs3Q",
        "outputId": "fc30e84c-3ace-4ef5-8499-519a379f85f8"
      },
      "execution_count": 8,
      "outputs": [
        {
          "output_type": "execute_result",
          "data": {
            "text/plain": [
              "'ords or di'"
            ],
            "application/vnd.google.colaboratory.intrinsic+json": {
              "type": "string"
            }
          },
          "metadata": {},
          "execution_count": 8
        }
      ]
    },
    {
      "cell_type": "code",
      "source": [
        "string_500[478:500]"
      ],
      "metadata": {
        "colab": {
          "base_uri": "https://localhost:8080/",
          "height": 36
        },
        "id": "KJ18urdVIxAF",
        "outputId": "ea3fbe05-9003-43fc-eec1-c36cbe1033cc"
      },
      "execution_count": 9,
      "outputs": [
        {
          "output_type": "execute_result",
          "data": {
            "text/plain": [
              "'nothing less, keeping '"
            ],
            "application/vnd.google.colaboratory.intrinsic+json": {
              "type": "string"
            }
          },
          "metadata": {},
          "execution_count": 9
        }
      ]
    },
    {
      "cell_type": "code",
      "source": [
        "string_500[-255:-235]"
      ],
      "metadata": {
        "colab": {
          "base_uri": "https://localhost:8080/",
          "height": 36
        },
        "id": "iiLy6-a8I1pH",
        "outputId": "d003eb13-dc04-4a7c-c8d0-31fa8e63cca6"
      },
      "execution_count": 11,
      "outputs": [
        {
          "output_type": "execute_result",
          "data": {
            "text/plain": [
              "'o keep everything cl'"
            ],
            "application/vnd.google.colaboratory.intrinsic+json": {
              "type": "string"
            }
          },
          "metadata": {},
          "execution_count": 11
        }
      ]
    },
    {
      "cell_type": "code",
      "source": [
        "string_500[-495:-482]"
      ],
      "metadata": {
        "colab": {
          "base_uri": "https://localhost:8080/",
          "height": 36
        },
        "id": "lSx6QTSyI5zA",
        "outputId": "abd14c3b-6364-4984-cfdc-1033b8a78d99"
      },
      "execution_count": 13,
      "outputs": [
        {
          "output_type": "execute_result",
          "data": {
            "text/plain": [
              "'string that h'"
            ],
            "application/vnd.google.colaboratory.intrinsic+json": {
              "type": "string"
            }
          },
          "metadata": {},
          "execution_count": 13
        }
      ]
    },
    {
      "cell_type": "markdown",
      "source": [
        "# String Format Methods"
      ],
      "metadata": {
        "id": "LCURGn1EJcOB"
      }
    },
    {
      "cell_type": "markdown",
      "source": [
        "## 1.Old Style Formatting(% Operator)"
      ],
      "metadata": {
        "id": "Ukzg2a-7J5TU"
      }
    },
    {
      "cell_type": "code",
      "source": [
        "name=\"Ruchith Reddy\"\n",
        "age=22\n",
        "String_1=\"This is %s and my age is %d.\" % (name,age)\n",
        "print(String_1)"
      ],
      "metadata": {
        "colab": {
          "base_uri": "https://localhost:8080/"
        },
        "id": "gmNG-4zDJNDp",
        "outputId": "83292956-a72f-4717-e8bb-53f42be5ccd3"
      },
      "execution_count": 15,
      "outputs": [
        {
          "output_type": "stream",
          "name": "stdout",
          "text": [
            "This is Ruchith Reddy and my age is 22.\n"
          ]
        }
      ]
    },
    {
      "cell_type": "code",
      "source": [
        "books=3\n",
        "pens=5\n",
        "string_2=\"I have %d books and %d pens.\" % (books,pens)\n",
        "print(string_2)"
      ],
      "metadata": {
        "colab": {
          "base_uri": "https://localhost:8080/"
        },
        "id": "jcNywBFiK20p",
        "outputId": "5a3aee3c-0676-4c96-a343-715a627a6558"
      },
      "execution_count": 16,
      "outputs": [
        {
          "output_type": "stream",
          "name": "stdout",
          "text": [
            "I have 3 books and 5 pens.\n"
          ]
        }
      ]
    },
    {
      "cell_type": "code",
      "source": [
        "Father_name=\"Thirupathi Reddy\"\n",
        "Mother_name=\"Srilatha\"\n",
        "string_3=\"My father name is %s, my mother name is %s.\" % (Father_name,Mother_name)\n",
        "print(string_3)"
      ],
      "metadata": {
        "colab": {
          "base_uri": "https://localhost:8080/"
        },
        "id": "GZDAtSuxL0Hi",
        "outputId": "6606136e-9152-446c-951d-f93dad19bfb8"
      },
      "execution_count": 17,
      "outputs": [
        {
          "output_type": "stream",
          "name": "stdout",
          "text": [
            "My father name is Thirupathi Reddy, my mother name is Srilatha.\n"
          ]
        }
      ]
    },
    {
      "cell_type": "markdown",
      "source": [
        "## 2.Format Method"
      ],
      "metadata": {
        "id": "JMZqKVV1NgO4"
      }
    },
    {
      "cell_type": "code",
      "source": [
        "name=\"Ruchith Reddy\"\n",
        "age=22\n",
        "String_1=\"This is {} and my age is {}.\" .format(name,age)\n",
        "print(String_1)"
      ],
      "metadata": {
        "colab": {
          "base_uri": "https://localhost:8080/"
        },
        "id": "gL5BV-m0MrD9",
        "outputId": "13f731af-042e-4a2c-a5a2-e74b9aec6cc1"
      },
      "execution_count": 18,
      "outputs": [
        {
          "output_type": "stream",
          "name": "stdout",
          "text": [
            "This is Ruchith Reddy and my age is 22.\n"
          ]
        }
      ]
    },
    {
      "cell_type": "code",
      "source": [
        "books=3\n",
        "pens=5\n",
        "string_2=\"I have {} books and {} pens.\".format(books,pens)\n",
        "print(string_2)"
      ],
      "metadata": {
        "colab": {
          "base_uri": "https://localhost:8080/"
        },
        "id": "Mt_2k-SaORaI",
        "outputId": "9be41eb1-8cef-4ec8-f396-53624d67fe6f"
      },
      "execution_count": 19,
      "outputs": [
        {
          "output_type": "stream",
          "name": "stdout",
          "text": [
            "I have 3 books and 5 pens.\n"
          ]
        }
      ]
    },
    {
      "cell_type": "code",
      "source": [
        "Father_name=\"Thirupathi Reddy\"\n",
        "Mother_name=\"Srilatha\"\n",
        "string_3=\"My father name is {}, my mother name is {}.\".format(Father_name,Mother_name)\n",
        "print(string_3)"
      ],
      "metadata": {
        "colab": {
          "base_uri": "https://localhost:8080/"
        },
        "id": "tWGddKReOYnK",
        "outputId": "b159ef45-82b2-4ff0-ff56-2229e2d584c5"
      },
      "execution_count": 22,
      "outputs": [
        {
          "output_type": "stream",
          "name": "stdout",
          "text": [
            "My father name is Thirupathi Reddy, my mother name is Srilatha.\n"
          ]
        }
      ]
    },
    {
      "cell_type": "markdown",
      "source": [
        "## 3.String Interpolation(f-string)"
      ],
      "metadata": {
        "id": "Dp_upFu-PWwr"
      }
    },
    {
      "cell_type": "code",
      "source": [
        "name=\"Ruchith Reddy\"\n",
        "age=22\n",
        "String_1=f\"This is {name} and my age is {age}.\"\n",
        "print(String_1)"
      ],
      "metadata": {
        "colab": {
          "base_uri": "https://localhost:8080/"
        },
        "id": "rbdvRLrGPSRQ",
        "outputId": "39d1ed7a-83ef-4d27-c48a-a1338d2ae7fa"
      },
      "execution_count": 24,
      "outputs": [
        {
          "output_type": "stream",
          "name": "stdout",
          "text": [
            "This is Ruchith Reddy and my age is 22.\n"
          ]
        }
      ]
    },
    {
      "cell_type": "code",
      "source": [
        "books=3\n",
        "pens=5\n",
        "string_2=f\"I have {books} books and {pens} pens.\"\n",
        "print(string_2)"
      ],
      "metadata": {
        "colab": {
          "base_uri": "https://localhost:8080/"
        },
        "id": "7eI2hSh6P2jq",
        "outputId": "a1c3a7a0-7952-48ef-e951-bd09e0ee01a0"
      },
      "execution_count": 25,
      "outputs": [
        {
          "output_type": "stream",
          "name": "stdout",
          "text": [
            "I have 3 books and 5 pens.\n"
          ]
        }
      ]
    },
    {
      "cell_type": "code",
      "source": [
        "Father_name=\"Thirupathi Reddy\"\n",
        "Mother_name=\"Srilatha\"\n",
        "string_3=f\"My father name is {Father_name}, my mother name is {Mother_name}.\"\n",
        "print(string_3)"
      ],
      "metadata": {
        "colab": {
          "base_uri": "https://localhost:8080/"
        },
        "id": "FEEnrfC1QkU-",
        "outputId": "e34cd656-9ddd-4edc-efae-6e8a0491ebe5"
      },
      "execution_count": 26,
      "outputs": [
        {
          "output_type": "stream",
          "name": "stdout",
          "text": [
            "My father name is Thirupathi Reddy, my mother name is Srilatha.\n"
          ]
        }
      ]
    },
    {
      "cell_type": "markdown",
      "source": [
        "# String Methods"
      ],
      "metadata": {
        "id": "Y9QvN_PyRA2p"
      }
    },
    {
      "cell_type": "code",
      "source": [
        "#1.Capitalize: Converts the first character to uppercase.\n",
        "s = \"hello world\"\n",
        "print(s.capitalize())"
      ],
      "metadata": {
        "colab": {
          "base_uri": "https://localhost:8080/"
        },
        "id": "GufyATTNQ75Y",
        "outputId": "6c90d0b9-e49f-4352-d34b-6d834179e83d"
      },
      "execution_count": 107,
      "outputs": [
        {
          "output_type": "stream",
          "name": "stdout",
          "text": [
            "Hello world\n"
          ]
        }
      ]
    },
    {
      "cell_type": "code",
      "source": [
        "#2.Casefold:Converts the string to lowercase.\n",
        "s = \"HELLO WORLD\"\n",
        "print(s.casefold())"
      ],
      "metadata": {
        "colab": {
          "base_uri": "https://localhost:8080/"
        },
        "id": "Q_iEkm9HSKMU",
        "outputId": "55da3742-bf3f-4798-d7df-26159f25c21d"
      },
      "execution_count": 108,
      "outputs": [
        {
          "output_type": "stream",
          "name": "stdout",
          "text": [
            "hello world\n"
          ]
        }
      ]
    },
    {
      "cell_type": "code",
      "source": [
        "#3.Center: Centers the string in a field of a given width.\n",
        "s = \"hello\"\n",
        "print(s.center(10, '*'))"
      ],
      "metadata": {
        "colab": {
          "base_uri": "https://localhost:8080/"
        },
        "id": "ysw_-XPgSsvI",
        "outputId": "d805c6b0-14c1-4f90-f25e-2b122d63dd7a"
      },
      "execution_count": 109,
      "outputs": [
        {
          "output_type": "stream",
          "name": "stdout",
          "text": [
            "**hello***\n"
          ]
        }
      ]
    },
    {
      "cell_type": "code",
      "source": [
        "#4.Count: Returns the number of occurrences of a substring.\n",
        "s = \"banana\"\n",
        "print(s.count('a'))"
      ],
      "metadata": {
        "colab": {
          "base_uri": "https://localhost:8080/"
        },
        "id": "8fzaW_f3TRe4",
        "outputId": "d2453e05-ab7d-4ab9-bfc5-25d3af9e9cec"
      },
      "execution_count": 110,
      "outputs": [
        {
          "output_type": "stream",
          "name": "stdout",
          "text": [
            "3\n"
          ]
        }
      ]
    },
    {
      "cell_type": "code",
      "source": [
        "#5.Encode: Encodes the string using a specified encoding.\n",
        "s = \"hello\"\n",
        "print(s.encode('utf-8'))"
      ],
      "metadata": {
        "colab": {
          "base_uri": "https://localhost:8080/"
        },
        "id": "IiXu-YfyTX_J",
        "outputId": "b5e6728c-913b-4d67-e207-7a2d4a89d0f2"
      },
      "execution_count": 111,
      "outputs": [
        {
          "output_type": "stream",
          "name": "stdout",
          "text": [
            "b'hello'\n"
          ]
        }
      ]
    },
    {
      "cell_type": "code",
      "source": [
        "#6.Endswith: Checks if the string ends with a specified value.\n",
        "s = \"hello world\"\n",
        "print(s.endswith('world'))"
      ],
      "metadata": {
        "colab": {
          "base_uri": "https://localhost:8080/"
        },
        "id": "-VO7v_vOTd-Q",
        "outputId": "e1cb3c97-c9a4-4211-e4c7-1df673bb9a0c"
      },
      "execution_count": 112,
      "outputs": [
        {
          "output_type": "stream",
          "name": "stdout",
          "text": [
            "True\n"
          ]
        }
      ]
    },
    {
      "cell_type": "code",
      "source": [
        "#7.Expandtabs: Replaces tabs with spaces.\n",
        "s = \"hello\\tworld\"\n",
        "print(s.expandtabs(4))"
      ],
      "metadata": {
        "colab": {
          "base_uri": "https://localhost:8080/"
        },
        "id": "amihopFxTlOL",
        "outputId": "1651f724-cc27-4eab-ad0a-ba9099e12acd"
      },
      "execution_count": 113,
      "outputs": [
        {
          "output_type": "stream",
          "name": "stdout",
          "text": [
            "hello   world\n"
          ]
        }
      ]
    },
    {
      "cell_type": "code",
      "source": [
        "#8.Find: Finds the first occurrence of a substring and returns its position.\n",
        "s = \"hello world\"\n",
        "print(s.find('world'))"
      ],
      "metadata": {
        "colab": {
          "base_uri": "https://localhost:8080/"
        },
        "id": "fDhmrM0zTnoc",
        "outputId": "06434719-9730-4289-e05a-bea3162c88a0"
      },
      "execution_count": 114,
      "outputs": [
        {
          "output_type": "stream",
          "name": "stdout",
          "text": [
            "6\n"
          ]
        }
      ]
    },
    {
      "cell_type": "code",
      "source": [
        "#9.Format: Formats the string with specified values.\n",
        "s = \"Hello {}\"\n",
        "print(s.format(\"Alice\"))"
      ],
      "metadata": {
        "colab": {
          "base_uri": "https://localhost:8080/"
        },
        "id": "wb8_PaQMTu62",
        "outputId": "8a4d9932-bb38-4857-ec01-f4b39bf06798"
      },
      "execution_count": 115,
      "outputs": [
        {
          "output_type": "stream",
          "name": "stdout",
          "text": [
            "Hello Alice\n"
          ]
        }
      ]
    },
    {
      "cell_type": "code",
      "source": [
        "#10.Format_Map: Formats the string with specified values from a mapping object.\n",
        "s = \"Hello {name}\"\n",
        "print(s.format_map({\"name\": \"Bob\"}))"
      ],
      "metadata": {
        "colab": {
          "base_uri": "https://localhost:8080/"
        },
        "id": "JZFYE8HmTw0C",
        "outputId": "55e39598-5438-413e-94e6-d0af26d99fba"
      },
      "execution_count": 116,
      "outputs": [
        {
          "output_type": "stream",
          "name": "stdout",
          "text": [
            "Hello Bob\n"
          ]
        }
      ]
    },
    {
      "cell_type": "code",
      "source": [
        "#11.Index: Finds the first occurrence of a substring and returns its position. Raises an error if not found.\n",
        "s = \"hello world\"\n",
        "print(s.index('world'))"
      ],
      "metadata": {
        "colab": {
          "base_uri": "https://localhost:8080/"
        },
        "id": "LjVVr5tcTylW",
        "outputId": "31bbd9f7-2ed8-4ae4-a8f1-6433e14acddb"
      },
      "execution_count": 117,
      "outputs": [
        {
          "output_type": "stream",
          "name": "stdout",
          "text": [
            "6\n"
          ]
        }
      ]
    },
    {
      "cell_type": "code",
      "source": [
        "#12.isalnum: Checks if all characters are alphanumeric.\n",
        "s = \"abc123\"\n",
        "print(s.isalnum())"
      ],
      "metadata": {
        "colab": {
          "base_uri": "https://localhost:8080/"
        },
        "id": "w_y9ICGvT0II",
        "outputId": "76260e12-3312-42a0-d073-ba3b9379a9a8"
      },
      "execution_count": 118,
      "outputs": [
        {
          "output_type": "stream",
          "name": "stdout",
          "text": [
            "True\n"
          ]
        }
      ]
    },
    {
      "cell_type": "code",
      "source": [
        "#13.isalpha: Checks if all characters are alphabetic.\n",
        "s = \"hello\"\n",
        "print(s.isalpha())"
      ],
      "metadata": {
        "colab": {
          "base_uri": "https://localhost:8080/"
        },
        "id": "qln_z_oKT2z3",
        "outputId": "aedc9f05-b4db-44c7-f61e-9311f875ace8"
      },
      "execution_count": 119,
      "outputs": [
        {
          "output_type": "stream",
          "name": "stdout",
          "text": [
            "True\n"
          ]
        }
      ]
    },
    {
      "cell_type": "code",
      "source": [
        "#14.isascii: Checks if all characters are ASCII.\n",
        "s = \"hello\"\n",
        "print(s.isascii())"
      ],
      "metadata": {
        "colab": {
          "base_uri": "https://localhost:8080/"
        },
        "id": "JoaCHuxwT4Sg",
        "outputId": "fec9dc77-dd6a-43e1-a955-f80730d99f38"
      },
      "execution_count": 120,
      "outputs": [
        {
          "output_type": "stream",
          "name": "stdout",
          "text": [
            "True\n"
          ]
        }
      ]
    },
    {
      "cell_type": "code",
      "source": [
        "#15.isdecimal: Checks if all characters are decimal digits.\n",
        "s = \"12345\"\n",
        "print(s.isdecimal())"
      ],
      "metadata": {
        "colab": {
          "base_uri": "https://localhost:8080/"
        },
        "id": "cBzMUWgUT7_Q",
        "outputId": "87db45c2-1790-47d5-8cb2-2ed14e4870ac"
      },
      "execution_count": 121,
      "outputs": [
        {
          "output_type": "stream",
          "name": "stdout",
          "text": [
            "True\n"
          ]
        }
      ]
    },
    {
      "cell_type": "code",
      "source": [
        "#16.isdigit: Checks if all characters are digits.\n",
        "s = \"12345\"\n",
        "print(s.isdigit())"
      ],
      "metadata": {
        "colab": {
          "base_uri": "https://localhost:8080/"
        },
        "id": "a-8XZM7sT-sL",
        "outputId": "1ce35799-1027-4594-992a-83b5906aeb46"
      },
      "execution_count": 122,
      "outputs": [
        {
          "output_type": "stream",
          "name": "stdout",
          "text": [
            "True\n"
          ]
        }
      ]
    },
    {
      "cell_type": "code",
      "source": [
        "#17.isidentifier: Checks if the string is a valid identifier.\n",
        "s = \"my_var\"\n",
        "print(s.isidentifier())"
      ],
      "metadata": {
        "colab": {
          "base_uri": "https://localhost:8080/"
        },
        "id": "w9NwLp17UARO",
        "outputId": "23f75f30-1dac-467e-cf25-8e6e772a5336"
      },
      "execution_count": 123,
      "outputs": [
        {
          "output_type": "stream",
          "name": "stdout",
          "text": [
            "True\n"
          ]
        }
      ]
    },
    {
      "cell_type": "code",
      "source": [
        "#18.islower: Checks if all characters are lowercase.\n",
        "s = \"hello\"\n",
        "print(s.islower())"
      ],
      "metadata": {
        "colab": {
          "base_uri": "https://localhost:8080/"
        },
        "id": "DjTkwpWhUCkw",
        "outputId": "f391c00c-eb3a-4a95-c8bc-b1e932e4ed1b"
      },
      "execution_count": 124,
      "outputs": [
        {
          "output_type": "stream",
          "name": "stdout",
          "text": [
            "True\n"
          ]
        }
      ]
    },
    {
      "cell_type": "code",
      "source": [
        "#19.isnumeric: Checks if all characters are numeric.\n",
        "s = \"12345\"\n",
        "print(s.isnumeric())"
      ],
      "metadata": {
        "colab": {
          "base_uri": "https://localhost:8080/"
        },
        "id": "qlSPSNArUFvY",
        "outputId": "5aaebb25-cb03-4d67-d5c2-d2f424b6e8c2"
      },
      "execution_count": 125,
      "outputs": [
        {
          "output_type": "stream",
          "name": "stdout",
          "text": [
            "True\n"
          ]
        }
      ]
    },
    {
      "cell_type": "code",
      "source": [
        "#20.isprintable: Checks if all characters are printable.\n",
        "s = \"hello\"\n",
        "print(s.isprintable())"
      ],
      "metadata": {
        "colab": {
          "base_uri": "https://localhost:8080/"
        },
        "id": "ubYh9UDRUHu7",
        "outputId": "5bd44059-1a52-4b58-8bd9-a8a9325baa18"
      },
      "execution_count": 126,
      "outputs": [
        {
          "output_type": "stream",
          "name": "stdout",
          "text": [
            "True\n"
          ]
        }
      ]
    },
    {
      "cell_type": "code",
      "source": [
        "#21.isspace: Checks if all characters are whitespace.\n",
        "s = \"   \"\n",
        "print(s.isspace())"
      ],
      "metadata": {
        "colab": {
          "base_uri": "https://localhost:8080/"
        },
        "id": "-xNzsTkwUJ3G",
        "outputId": "d6715f4a-7e6a-4aa1-9475-2f5f911be369"
      },
      "execution_count": 127,
      "outputs": [
        {
          "output_type": "stream",
          "name": "stdout",
          "text": [
            "True\n"
          ]
        }
      ]
    },
    {
      "cell_type": "code",
      "source": [
        "#22.istitle:: Checks if the string follows title case.\n",
        "s = \"Hello World\"\n",
        "print(s.istitle())"
      ],
      "metadata": {
        "colab": {
          "base_uri": "https://localhost:8080/"
        },
        "id": "i7YBwHh_ULgv",
        "outputId": "d85eaa3c-7606-4984-e491-a907539f895b"
      },
      "execution_count": 128,
      "outputs": [
        {
          "output_type": "stream",
          "name": "stdout",
          "text": [
            "True\n"
          ]
        }
      ]
    },
    {
      "cell_type": "code",
      "source": [
        "#23.isupper: Checks if all characters are uppercase.\n",
        "s = \"HELLO\"\n",
        "print(s.isupper())"
      ],
      "metadata": {
        "colab": {
          "base_uri": "https://localhost:8080/"
        },
        "id": "Imhv1PUWUOmY",
        "outputId": "ac215916-4a44-4cd7-92c2-c97eb20ff88c"
      },
      "execution_count": 129,
      "outputs": [
        {
          "output_type": "stream",
          "name": "stdout",
          "text": [
            "True\n"
          ]
        }
      ]
    },
    {
      "cell_type": "code",
      "source": [
        "#24.join: Joins elements of an iterable into a string.\n",
        "s = \"-\"\n",
        "seq = (\"a\", \"b\", \"c\")\n",
        "print(s.join(seq))"
      ],
      "metadata": {
        "colab": {
          "base_uri": "https://localhost:8080/"
        },
        "id": "wXaGsnxHUQQb",
        "outputId": "077435a1-11d8-4d2d-d6a9-8866319b7dc2"
      },
      "execution_count": 130,
      "outputs": [
        {
          "output_type": "stream",
          "name": "stdout",
          "text": [
            "a-b-c\n"
          ]
        }
      ]
    },
    {
      "cell_type": "code",
      "source": [
        "#25.ljust: Left-justifies the string in a field of a given width.\n",
        "s = \"hello\"\n",
        "print(s.ljust(10, '*'))"
      ],
      "metadata": {
        "colab": {
          "base_uri": "https://localhost:8080/"
        },
        "id": "Ygq5TKthUR4_",
        "outputId": "624fa0d3-fdf6-4488-b959-f3745567e62b"
      },
      "execution_count": 131,
      "outputs": [
        {
          "output_type": "stream",
          "name": "stdout",
          "text": [
            "hello*****\n"
          ]
        }
      ]
    },
    {
      "cell_type": "code",
      "source": [
        "#26.lower: Converts the string to lowercase.\n",
        "s = \"HELLO\"\n",
        "print(s.lower())"
      ],
      "metadata": {
        "colab": {
          "base_uri": "https://localhost:8080/"
        },
        "id": "3Fgb3aiEUTkN",
        "outputId": "5db92c58-6ffa-449c-f915-9565b2000e8e"
      },
      "execution_count": 132,
      "outputs": [
        {
          "output_type": "stream",
          "name": "stdout",
          "text": [
            "hello\n"
          ]
        }
      ]
    },
    {
      "cell_type": "code",
      "source": [
        "#27.lstrip: Removes leading whitespace from the string.\n",
        "s = \"   hello\"\n",
        "print(s.lstrip())"
      ],
      "metadata": {
        "colab": {
          "base_uri": "https://localhost:8080/"
        },
        "id": "zBGnyoArUVQf",
        "outputId": "a6711a8e-8705-4779-fca3-a6df72117171"
      },
      "execution_count": 133,
      "outputs": [
        {
          "output_type": "stream",
          "name": "stdout",
          "text": [
            "hello\n"
          ]
        }
      ]
    },
    {
      "cell_type": "code",
      "source": [
        "#28.Transalte: Creates a translation table for character mapping.\n",
        "trans = str.maketrans('abc', '123')\n",
        "s = \"abc\"\n",
        "print(s.translate(trans))"
      ],
      "metadata": {
        "colab": {
          "base_uri": "https://localhost:8080/"
        },
        "id": "GT-4gwsuUbnR",
        "outputId": "735415a5-528a-4618-89d0-0d297e9ec79d"
      },
      "execution_count": 134,
      "outputs": [
        {
          "output_type": "stream",
          "name": "stdout",
          "text": [
            "123\n"
          ]
        }
      ]
    },
    {
      "cell_type": "code",
      "source": [
        "#29.Partition: Splits the string into a 3-tuple based on the first occurrence of a separator.\n",
        "s = \"hello world\"\n",
        "print(s.partition(' '))"
      ],
      "metadata": {
        "colab": {
          "base_uri": "https://localhost:8080/"
        },
        "id": "Q151sq1DUdfP",
        "outputId": "be53d9b2-5677-435a-ae65-f2100b941523"
      },
      "execution_count": 135,
      "outputs": [
        {
          "output_type": "stream",
          "name": "stdout",
          "text": [
            "('hello', ' ', 'world')\n"
          ]
        }
      ]
    },
    {
      "cell_type": "code",
      "source": [
        "#30.Replace: Replaces occurrences of a substring with another substring.\n",
        "s = \"hello world\"\n",
        "print(s.replace('world', 'there'))"
      ],
      "metadata": {
        "colab": {
          "base_uri": "https://localhost:8080/"
        },
        "id": "DEknohEHUe8G",
        "outputId": "e7e859fd-f404-46ec-c283-75b2820a7e8a"
      },
      "execution_count": 136,
      "outputs": [
        {
          "output_type": "stream",
          "name": "stdout",
          "text": [
            "hello there\n"
          ]
        }
      ]
    },
    {
      "cell_type": "code",
      "source": [
        "#31.rfind: Finds the last occurrence of a substring and returns its position.\n",
        "s = \"hello world world\"\n",
        "print(s.rfind('world'))"
      ],
      "metadata": {
        "colab": {
          "base_uri": "https://localhost:8080/"
        },
        "id": "znIeND75Ug9h",
        "outputId": "2b21ac97-1ecf-4eb0-ec1e-444c20dc74d0"
      },
      "execution_count": 137,
      "outputs": [
        {
          "output_type": "stream",
          "name": "stdout",
          "text": [
            "12\n"
          ]
        }
      ]
    },
    {
      "cell_type": "code",
      "source": [
        "#32.rindex: Finds the last occurrence of a substring and returns its position. Raises an error if not found.\n",
        "s = \"hello world world\"\n",
        "print(s.rindex('world'))"
      ],
      "metadata": {
        "colab": {
          "base_uri": "https://localhost:8080/"
        },
        "id": "JK4_fWk9Uin7",
        "outputId": "562f5f99-73ec-4340-ceca-e2a9db647c2a"
      },
      "execution_count": 138,
      "outputs": [
        {
          "output_type": "stream",
          "name": "stdout",
          "text": [
            "12\n"
          ]
        }
      ]
    },
    {
      "cell_type": "code",
      "source": [
        "#33.rjust: Right-justifies the string in a field of a given width.\n",
        "s = \"hello\"\n",
        "print(s.rjust(10, '*'))"
      ],
      "metadata": {
        "colab": {
          "base_uri": "https://localhost:8080/"
        },
        "id": "s1DyAI55UkWo",
        "outputId": "0416c453-8cab-4c67-fd2b-41338de7650a"
      },
      "execution_count": 139,
      "outputs": [
        {
          "output_type": "stream",
          "name": "stdout",
          "text": [
            "*****hello\n"
          ]
        }
      ]
    },
    {
      "cell_type": "code",
      "source": [
        "#34.rpartition: Splits the string into a 3-tuple based on the last occurrence of a separator.\n",
        "s = \"hello world\"\n",
        "print(s.rpartition(' '))"
      ],
      "metadata": {
        "colab": {
          "base_uri": "https://localhost:8080/"
        },
        "id": "xS_20CspUpw5",
        "outputId": "0a485ef3-972c-4c43-fed7-ff330c9d9aa1"
      },
      "execution_count": 140,
      "outputs": [
        {
          "output_type": "stream",
          "name": "stdout",
          "text": [
            "('hello', ' ', 'world')\n"
          ]
        }
      ]
    },
    {
      "cell_type": "code",
      "source": [
        "#35.rsplit: Splits the string into a list at the specified separator from the right.\n",
        "s = \"one,two,three\"\n",
        "print(s.rsplit(',', 1))"
      ],
      "metadata": {
        "colab": {
          "base_uri": "https://localhost:8080/"
        },
        "id": "1xv_TIp3UroT",
        "outputId": "f8f948c4-79c6-4455-8bc3-7e5b665ef8a6"
      },
      "execution_count": 141,
      "outputs": [
        {
          "output_type": "stream",
          "name": "stdout",
          "text": [
            "['one,two', 'three']\n"
          ]
        }
      ]
    },
    {
      "cell_type": "code",
      "source": [
        "#36.rstrip: Removes trailing whitespace from the string.\n",
        "s = \"hello   \"\n",
        "print(s.rstrip())"
      ],
      "metadata": {
        "colab": {
          "base_uri": "https://localhost:8080/"
        },
        "id": "mG3OCK6JUtve",
        "outputId": "fb58f875-7399-4daa-c86e-84e8c87d4e6a"
      },
      "execution_count": 142,
      "outputs": [
        {
          "output_type": "stream",
          "name": "stdout",
          "text": [
            "hello\n"
          ]
        }
      ]
    },
    {
      "cell_type": "code",
      "source": [
        "#37.split: Splits the string into a list at the specified separator.\n",
        "s = \"one two three\"\n",
        "print(s.split())"
      ],
      "metadata": {
        "colab": {
          "base_uri": "https://localhost:8080/"
        },
        "id": "on0tzrf9Uvb6",
        "outputId": "13efaccb-72a6-43c7-edfe-f406260c8959"
      },
      "execution_count": 143,
      "outputs": [
        {
          "output_type": "stream",
          "name": "stdout",
          "text": [
            "['one', 'two', 'three']\n"
          ]
        }
      ]
    },
    {
      "cell_type": "code",
      "source": [
        "#38.splitlines: Splits the string at line breaks into a list.\n",
        "s = \"line1\\nline2\\nline3\"\n",
        "print(s.splitlines())"
      ],
      "metadata": {
        "colab": {
          "base_uri": "https://localhost:8080/"
        },
        "id": "JRoOGXlxUxsG",
        "outputId": "daab47d2-ce7b-4ef1-f88c-9e916722be3c"
      },
      "execution_count": 144,
      "outputs": [
        {
          "output_type": "stream",
          "name": "stdout",
          "text": [
            "['line1', 'line2', 'line3']\n"
          ]
        }
      ]
    },
    {
      "cell_type": "code",
      "source": [
        "#39.startswith: Checks if the string starts with a specified value.\n",
        "s = \"hello world\"\n",
        "print(s.startswith('hello'))"
      ],
      "metadata": {
        "colab": {
          "base_uri": "https://localhost:8080/"
        },
        "id": "xTRa1W_5UzL1",
        "outputId": "73bbf60e-db75-4a6e-aea6-22a664aca342"
      },
      "execution_count": 145,
      "outputs": [
        {
          "output_type": "stream",
          "name": "stdout",
          "text": [
            "True\n"
          ]
        }
      ]
    },
    {
      "cell_type": "code",
      "source": [
        "#40.strip: Removes leading and trailing whitespace from the string.\n",
        "s = \"   hello   \"\n",
        "print(s.strip())"
      ],
      "metadata": {
        "colab": {
          "base_uri": "https://localhost:8080/"
        },
        "id": "PvPHMyFGU0qL",
        "outputId": "26a58c95-68c6-4f1a-eb95-992ff821b603"
      },
      "execution_count": 146,
      "outputs": [
        {
          "output_type": "stream",
          "name": "stdout",
          "text": [
            "hello\n"
          ]
        }
      ]
    },
    {
      "cell_type": "code",
      "source": [
        "#41.swapcase: Swaps uppercase characters with lowercase and vice versa.\n",
        "s = \"Hello World\"\n",
        "print(s.swapcase())"
      ],
      "metadata": {
        "colab": {
          "base_uri": "https://localhost:8080/"
        },
        "id": "LRLjJXYOU2MF",
        "outputId": "2ed50924-b0c8-40fc-8f23-0f1ec257c9c1"
      },
      "execution_count": 147,
      "outputs": [
        {
          "output_type": "stream",
          "name": "stdout",
          "text": [
            "hELLO wORLD\n"
          ]
        }
      ]
    },
    {
      "cell_type": "code",
      "source": [
        "#42.Title: Converts the first character of each word to uppercase.\n",
        "s = \"hello world\"\n",
        "print(s.title())"
      ],
      "metadata": {
        "colab": {
          "base_uri": "https://localhost:8080/"
        },
        "id": "rx_6qkS6U3mP",
        "outputId": "59045246-ee18-4015-c42f-f069e91cf188"
      },
      "execution_count": 148,
      "outputs": [
        {
          "output_type": "stream",
          "name": "stdout",
          "text": [
            "Hello World\n"
          ]
        }
      ]
    }
  ]
}