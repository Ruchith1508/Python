{
  "nbformat": 4,
  "nbformat_minor": 0,
  "metadata": {
    "colab": {
      "provenance": []
    },
    "kernelspec": {
      "name": "python3",
      "display_name": "Python 3"
    },
    "language_info": {
      "name": "python"
    }
  },
  "cells": [
    {
      "cell_type": "markdown",
      "source": [
        "# Lambda Map()"
      ],
      "metadata": {
        "id": "JylfNZkpZ5rh"
      }
    },
    {
      "cell_type": "code",
      "source": [
        "List=[1,2,3,4,5]\n",
        "Lambda_map=list(map(lambda x: x**2,List))\n",
        "Lambda_map"
      ],
      "metadata": {
        "colab": {
          "base_uri": "https://localhost:8080/"
        },
        "id": "xqRf6P7DZ9Zj",
        "outputId": "fdeefd2b-8fe0-4947-dbd4-ae273a66e8c6"
      },
      "execution_count": 2,
      "outputs": [
        {
          "output_type": "execute_result",
          "data": {
            "text/plain": [
              "[1, 4, 9, 16, 25]"
            ]
          },
          "metadata": {},
          "execution_count": 2
        }
      ]
    },
    {
      "cell_type": "code",
      "source": [
        "List1=[1,2,3,4,5]\n",
        "List2=[6,7,8,9,10]\n",
        "Lambda_map1=list(map(lambda x,y : x+y,List1,List2))\n",
        "Lambda_map1"
      ],
      "metadata": {
        "colab": {
          "base_uri": "https://localhost:8080/"
        },
        "id": "47VaJhBDaaFk",
        "outputId": "568f4282-d063-4ff6-8aff-ded0795f4ca9"
      },
      "execution_count": 4,
      "outputs": [
        {
          "output_type": "execute_result",
          "data": {
            "text/plain": [
              "[7, 9, 11, 13, 15]"
            ]
          },
          "metadata": {},
          "execution_count": 4
        }
      ]
    },
    {
      "cell_type": "markdown",
      "source": [
        "# Lambda Filter()"
      ],
      "metadata": {
        "id": "RxEA6qESbVF3"
      }
    },
    {
      "cell_type": "code",
      "source": [
        "numbers=[1,2,3,4,5,6,7,8,9,10]\n",
        "even_numbers=list(filter(lambda x: (x%2==0),numbers))\n",
        "even_numbers"
      ],
      "metadata": {
        "colab": {
          "base_uri": "https://localhost:8080/"
        },
        "id": "sictFDoKbBez",
        "outputId": "405fc9dc-209c-4749-a70b-ce05aff674c5"
      },
      "execution_count": 5,
      "outputs": [
        {
          "output_type": "execute_result",
          "data": {
            "text/plain": [
              "[2, 4, 6, 8, 10]"
            ]
          },
          "metadata": {},
          "execution_count": 5
        }
      ]
    },
    {
      "cell_type": "code",
      "source": [
        "numbers1=[1,2,3,4,5,6,7,8,9,10]\n",
        "odd_numbers=list(filter(lambda x: (x%2!=0),numbers))\n",
        "odd_numbers"
      ],
      "metadata": {
        "colab": {
          "base_uri": "https://localhost:8080/"
        },
        "id": "9KCwOZ_7ctpW",
        "outputId": "3832a00f-b269-467d-c8c5-13dd2961cfc6"
      },
      "execution_count": 6,
      "outputs": [
        {
          "output_type": "execute_result",
          "data": {
            "text/plain": [
              "[1, 3, 5, 7, 9]"
            ]
          },
          "metadata": {},
          "execution_count": 6
        }
      ]
    },
    {
      "cell_type": "code",
      "source": [
        "numbers2=[22,54,65,62,68,98,24,77,36,87]\n",
        "a=list(filter(lambda x: (x>=45),numbers2))\n",
        "a"
      ],
      "metadata": {
        "colab": {
          "base_uri": "https://localhost:8080/"
        },
        "id": "JcPReW0Qc4rP",
        "outputId": "126e7974-b3c2-4f84-dd0c-0c06f8c3422e"
      },
      "execution_count": 7,
      "outputs": [
        {
          "output_type": "execute_result",
          "data": {
            "text/plain": [
              "[54, 65, 62, 68, 98, 77, 87]"
            ]
          },
          "metadata": {},
          "execution_count": 7
        }
      ]
    },
    {
      "cell_type": "code",
      "source": [
        "a=int(input(\"Enter upper limit: \"))\n",
        "b=int(input(\"Enter lower limit: \"))\n",
        "number3=range(a,b)\n",
        "b=list(filter(lambda x: (x%2==0),number3))\n",
        "b"
      ],
      "metadata": {
        "colab": {
          "base_uri": "https://localhost:8080/"
        },
        "id": "l6t-IdqKegYw",
        "outputId": "0f88bea1-ec00-495a-8e6e-dd7e06f0eeba"
      },
      "execution_count": 11,
      "outputs": [
        {
          "name": "stdout",
          "output_type": "stream",
          "text": [
            "Enter upper limit: 10\n",
            "Enter lower limit: 30\n"
          ]
        },
        {
          "output_type": "execute_result",
          "data": {
            "text/plain": [
              "[10, 12, 14, 16, 18, 20, 22, 24, 26, 28]"
            ]
          },
          "metadata": {},
          "execution_count": 11
        }
      ]
    },
    {
      "cell_type": "code",
      "source": [],
      "metadata": {
        "id": "sJchsSmvgrbP"
      },
      "execution_count": null,
      "outputs": []
    }
  ]
}