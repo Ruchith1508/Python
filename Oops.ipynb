{
  "nbformat": 4,
  "nbformat_minor": 0,
  "metadata": {
    "colab": {
      "provenance": []
    },
    "kernelspec": {
      "name": "python3",
      "display_name": "Python 3"
    },
    "language_info": {
      "name": "python"
    }
  },
  "cells": [
    {
      "cell_type": "markdown",
      "source": [
        "# Inheritance"
      ],
      "metadata": {
        "id": "09NdG2UMpB5J"
      }
    },
    {
      "cell_type": "markdown",
      "source": [
        "## Single Parent and Single Child"
      ],
      "metadata": {
        "id": "u2eqVphvpSZw"
      }
    },
    {
      "cell_type": "code",
      "execution_count": 12,
      "metadata": {
        "id": "gA_YN85SIlKs"
      },
      "outputs": [],
      "source": [
        "class parent1():\n",
        "  def name1(self):\n",
        "    print(\"I am parent\")\n",
        "\n",
        "class child1(parent1):\n",
        "  def age1(self):\n",
        "    print(\"Iam a child and Iam 5 years old\")"
      ]
    },
    {
      "cell_type": "code",
      "source": [
        "obj1=child1()"
      ],
      "metadata": {
        "id": "Ejsk4VQUpIyR"
      },
      "execution_count": 13,
      "outputs": []
    },
    {
      "cell_type": "code",
      "source": [
        "obj1.name1()"
      ],
      "metadata": {
        "colab": {
          "base_uri": "https://localhost:8080/"
        },
        "id": "RX3beJzTqBVR",
        "outputId": "befb4376-84fb-42a4-cb5a-f399a002ed82"
      },
      "execution_count": 14,
      "outputs": [
        {
          "output_type": "stream",
          "name": "stdout",
          "text": [
            "I am parent\n"
          ]
        }
      ]
    },
    {
      "cell_type": "code",
      "source": [
        "obj1.age1()"
      ],
      "metadata": {
        "colab": {
          "base_uri": "https://localhost:8080/"
        },
        "id": "TVi_z9zEqEgC",
        "outputId": "536f4f8e-e0e3-49dd-8363-985f7c1ff1af"
      },
      "execution_count": 15,
      "outputs": [
        {
          "output_type": "stream",
          "name": "stdout",
          "text": [
            "Iam a child and Iam 5 years old\n"
          ]
        }
      ]
    },
    {
      "cell_type": "markdown",
      "source": [
        "## Single Parent and Multiple Child"
      ],
      "metadata": {
        "id": "rshL3RR0rEMH"
      }
    },
    {
      "cell_type": "code",
      "source": [
        "class parent2():\n",
        "  def name2(self):\n",
        "    print(\"I am parent2\")\n",
        "\n",
        "class child2_1(parent2):\n",
        "  def age2_1(self):\n",
        "    print(\"I am first child and 4 years old\")\n",
        "\n",
        "class child2_2(parent2):\n",
        "  def age2_2(self):\n",
        "    print(\"I am second child and 2 years old\")"
      ],
      "metadata": {
        "id": "dig71KFNrCvH"
      },
      "execution_count": 24,
      "outputs": []
    },
    {
      "cell_type": "code",
      "source": [
        "obj2=child2_1()\n",
        "obj3=child2_2()"
      ],
      "metadata": {
        "id": "TJjL17UesL8O"
      },
      "execution_count": 25,
      "outputs": []
    },
    {
      "cell_type": "code",
      "source": [
        "obj2.name2()"
      ],
      "metadata": {
        "colab": {
          "base_uri": "https://localhost:8080/"
        },
        "id": "wPdEKTNnsVpQ",
        "outputId": "3cd9c885-c8e2-443d-fe29-78319fa0f9a8"
      },
      "execution_count": 26,
      "outputs": [
        {
          "output_type": "stream",
          "name": "stdout",
          "text": [
            "I am parent2\n"
          ]
        }
      ]
    },
    {
      "cell_type": "code",
      "source": [
        "obj3.name2()"
      ],
      "metadata": {
        "colab": {
          "base_uri": "https://localhost:8080/"
        },
        "id": "zaGeaGtnsYrq",
        "outputId": "807a9bfa-45f2-4b8c-bddf-8e6a3d317b9a"
      },
      "execution_count": 27,
      "outputs": [
        {
          "output_type": "stream",
          "name": "stdout",
          "text": [
            "I am parent2\n"
          ]
        }
      ]
    },
    {
      "cell_type": "code",
      "source": [
        "obj2.age2_1()"
      ],
      "metadata": {
        "colab": {
          "base_uri": "https://localhost:8080/"
        },
        "id": "PQ6MPPDEsbAJ",
        "outputId": "5f83dfd6-1d2e-4e2a-854b-5c124ddef7c7"
      },
      "execution_count": 28,
      "outputs": [
        {
          "output_type": "stream",
          "name": "stdout",
          "text": [
            "I am first child and 4 years old\n"
          ]
        }
      ]
    },
    {
      "cell_type": "code",
      "source": [
        "obj3.age2_2()"
      ],
      "metadata": {
        "colab": {
          "base_uri": "https://localhost:8080/"
        },
        "id": "Sj_bJezzsj_f",
        "outputId": "9f1eae55-9dc9-481c-beb4-856738c77202"
      },
      "execution_count": 29,
      "outputs": [
        {
          "output_type": "stream",
          "name": "stdout",
          "text": [
            "I am second child and 2 years old\n"
          ]
        }
      ]
    },
    {
      "cell_type": "markdown",
      "source": [
        "## Multiple Parents and Single Child"
      ],
      "metadata": {
        "id": "ANwLtzEZsp1V"
      }
    },
    {
      "cell_type": "code",
      "source": [
        "class parent3_1():\n",
        "  def name3_1(self):\n",
        "    print(\"I am first parent\")\n",
        "\n",
        "class parent3_2():\n",
        "  def name3_2(self):\n",
        "    print(\"I am second parent\")\n",
        "\n",
        "class child3(parent3_1,parent3_2):\n",
        "  def age3(self):\n",
        "    print(\"I am a child and I am 4 years old\")"
      ],
      "metadata": {
        "id": "FacwIUbysoSB"
      },
      "execution_count": 36,
      "outputs": []
    },
    {
      "cell_type": "code",
      "source": [
        "obj4=child3()"
      ],
      "metadata": {
        "id": "W4_lKZfPtbVy"
      },
      "execution_count": 37,
      "outputs": []
    },
    {
      "cell_type": "code",
      "source": [
        "obj4.name3_1()"
      ],
      "metadata": {
        "colab": {
          "base_uri": "https://localhost:8080/"
        },
        "id": "WX0hTMY0tjgm",
        "outputId": "047fc9fc-a851-47b5-ecc5-b45103e411dd"
      },
      "execution_count": 38,
      "outputs": [
        {
          "output_type": "stream",
          "name": "stdout",
          "text": [
            "I am first parent\n"
          ]
        }
      ]
    },
    {
      "cell_type": "code",
      "source": [
        "obj4.name3_2()"
      ],
      "metadata": {
        "colab": {
          "base_uri": "https://localhost:8080/"
        },
        "id": "l06L4RX-tmgx",
        "outputId": "8f6e260a-f684-46e5-95cf-079250c4d0a2"
      },
      "execution_count": 39,
      "outputs": [
        {
          "output_type": "stream",
          "name": "stdout",
          "text": [
            "I am second parent\n"
          ]
        }
      ]
    },
    {
      "cell_type": "code",
      "source": [
        "obj4.age3()"
      ],
      "metadata": {
        "colab": {
          "base_uri": "https://localhost:8080/"
        },
        "id": "vX41dSwutpdb",
        "outputId": "86bad385-f3ec-4996-bad5-17d754c30d32"
      },
      "execution_count": 40,
      "outputs": [
        {
          "output_type": "stream",
          "name": "stdout",
          "text": [
            "I am a child and I am 4 years old\n"
          ]
        }
      ]
    },
    {
      "cell_type": "markdown",
      "source": [
        "## Multiple Parents and Multiple Children"
      ],
      "metadata": {
        "id": "tgerRLH6t7O3"
      }
    },
    {
      "cell_type": "code",
      "source": [
        "class parent4_1():\n",
        "  def name4_1(self):\n",
        "    print(\"I am first parent\")\n",
        "\n",
        "class parent4_2():\n",
        "  def name4_2(self):\n",
        "    print(\"I am second parent\")\n",
        "\n",
        "class child4_1(parent4_1,parent4_2):\n",
        "  def age4_1(self):\n",
        "    print(\"I am first child and I am 7 years old\")\n",
        "\n",
        "class child4_2(parent4_1,parent4_2):\n",
        "  def age4_2(self):\n",
        "    print(\"I am second child and I am 4 years old\")"
      ],
      "metadata": {
        "id": "e_tzRznRtsRT"
      },
      "execution_count": 41,
      "outputs": []
    },
    {
      "cell_type": "code",
      "source": [
        "obj5=child4_1()\n",
        "obj6=child4_2()"
      ],
      "metadata": {
        "id": "VKRukylIu_Js"
      },
      "execution_count": 42,
      "outputs": []
    },
    {
      "cell_type": "code",
      "source": [
        "obj5.name4_1()"
      ],
      "metadata": {
        "colab": {
          "base_uri": "https://localhost:8080/"
        },
        "id": "ihixUFFIvHiq",
        "outputId": "5e6839cd-5ef1-4bea-d6e9-b7055e941e01"
      },
      "execution_count": 43,
      "outputs": [
        {
          "output_type": "stream",
          "name": "stdout",
          "text": [
            "I am first parent\n"
          ]
        }
      ]
    },
    {
      "cell_type": "code",
      "source": [
        "obj5.name4_2()"
      ],
      "metadata": {
        "colab": {
          "base_uri": "https://localhost:8080/"
        },
        "id": "wW0pptHkvLbd",
        "outputId": "99cf2a6d-231c-4fdb-a8d0-075e0335f4a1"
      },
      "execution_count": 44,
      "outputs": [
        {
          "output_type": "stream",
          "name": "stdout",
          "text": [
            "I am second parent\n"
          ]
        }
      ]
    },
    {
      "cell_type": "code",
      "source": [
        "obj5.age4_1()"
      ],
      "metadata": {
        "colab": {
          "base_uri": "https://localhost:8080/"
        },
        "id": "aDhDRedHvO7v",
        "outputId": "0b3c5beb-5dcf-450f-ca90-7ae9d8165d1a"
      },
      "execution_count": 45,
      "outputs": [
        {
          "output_type": "stream",
          "name": "stdout",
          "text": [
            "I am first child and I am 7 years old\n"
          ]
        }
      ]
    },
    {
      "cell_type": "code",
      "source": [
        "obj6.name4_1()"
      ],
      "metadata": {
        "colab": {
          "base_uri": "https://localhost:8080/"
        },
        "id": "x1IQaSaKvS9y",
        "outputId": "020282c5-6ce1-42d0-a3a9-5432418a7a32"
      },
      "execution_count": 46,
      "outputs": [
        {
          "output_type": "stream",
          "name": "stdout",
          "text": [
            "I am first parent\n"
          ]
        }
      ]
    },
    {
      "cell_type": "code",
      "source": [
        "obj6.name4_2()"
      ],
      "metadata": {
        "colab": {
          "base_uri": "https://localhost:8080/"
        },
        "id": "20VM9drtvVkF",
        "outputId": "40561740-f2e0-491c-d288-0a058ef89d1d"
      },
      "execution_count": 47,
      "outputs": [
        {
          "output_type": "stream",
          "name": "stdout",
          "text": [
            "I am second parent\n"
          ]
        }
      ]
    },
    {
      "cell_type": "code",
      "source": [
        "obj6.age4_2()"
      ],
      "metadata": {
        "colab": {
          "base_uri": "https://localhost:8080/"
        },
        "id": "RwwlEP_2vXzJ",
        "outputId": "5da7fb91-75e9-46da-e465-31d5f0378416"
      },
      "execution_count": 48,
      "outputs": [
        {
          "output_type": "stream",
          "name": "stdout",
          "text": [
            "I am second child and I am 4 years old\n"
          ]
        }
      ]
    },
    {
      "cell_type": "markdown",
      "source": [
        "# Encapsulation"
      ],
      "metadata": {
        "id": "BBzyOFAHve4U"
      }
    },
    {
      "cell_type": "code",
      "source": [
        "class Demo:\n",
        "  def __init__(self,name,age):\n",
        "    self.__name=name\n",
        "    self._age=age\n",
        "    print(self.__name)\n",
        "\n",
        "  def output(self):\n",
        "    print(self._age)"
      ],
      "metadata": {
        "id": "WiXPsLufvaMX"
      },
      "execution_count": 118,
      "outputs": []
    },
    {
      "cell_type": "code",
      "source": [
        "obj7=Demo(5,6)"
      ],
      "metadata": {
        "colab": {
          "base_uri": "https://localhost:8080/"
        },
        "id": "yQyrZb6rwpgH",
        "outputId": "5019c1db-5c1b-40c8-e550-e3eeee393a0d"
      },
      "execution_count": 119,
      "outputs": [
        {
          "output_type": "stream",
          "name": "stdout",
          "text": [
            "5\n"
          ]
        }
      ]
    },
    {
      "cell_type": "code",
      "source": [
        "obj7.output()"
      ],
      "metadata": {
        "colab": {
          "base_uri": "https://localhost:8080/"
        },
        "id": "NuWQV0alwuFE",
        "outputId": "6bb05126-b134-4b2f-a80c-dce037eb17aa"
      },
      "execution_count": 120,
      "outputs": [
        {
          "output_type": "stream",
          "name": "stdout",
          "text": [
            "6\n"
          ]
        }
      ]
    },
    {
      "cell_type": "markdown",
      "source": [
        "# Polymorphism"
      ],
      "metadata": {
        "id": "LYAbvVxOz1Lv"
      }
    },
    {
      "cell_type": "code",
      "source": [
        "class poly:\n",
        "  def multiplication(self,a,b):\n",
        "    return a*b"
      ],
      "metadata": {
        "id": "CUQ4yOMezn2S"
      },
      "execution_count": 88,
      "outputs": []
    },
    {
      "cell_type": "code",
      "source": [
        "obj9=poly()"
      ],
      "metadata": {
        "id": "v3WuNVjB0MqJ"
      },
      "execution_count": 91,
      "outputs": []
    },
    {
      "cell_type": "code",
      "source": [
        "obj9.multiplication(3,4)"
      ],
      "metadata": {
        "colab": {
          "base_uri": "https://localhost:8080/"
        },
        "id": "pM8nA9l20Qd6",
        "outputId": "bba515a1-b444-48ca-f9bf-f767ec83893d"
      },
      "execution_count": 105,
      "outputs": [
        {
          "output_type": "execute_result",
          "data": {
            "text/plain": [
              "12"
            ]
          },
          "metadata": {},
          "execution_count": 105
        }
      ]
    },
    {
      "cell_type": "code",
      "source": [
        "obj9.multiplication(2.1,5.6)"
      ],
      "metadata": {
        "colab": {
          "base_uri": "https://localhost:8080/"
        },
        "id": "B6YBFNEv0Tjg",
        "outputId": "b84a7a28-20e0-45aa-8967-cd0e533a2ae7"
      },
      "execution_count": 106,
      "outputs": [
        {
          "output_type": "execute_result",
          "data": {
            "text/plain": [
              "11.76"
            ]
          },
          "metadata": {},
          "execution_count": 106
        }
      ]
    },
    {
      "cell_type": "code",
      "source": [
        "class poly1:\n",
        "  def division(self,c,d):\n",
        "    return c/d"
      ],
      "metadata": {
        "id": "k253yCkG1Tmh"
      },
      "execution_count": 107,
      "outputs": []
    },
    {
      "cell_type": "code",
      "source": [
        "obj10=poly1()"
      ],
      "metadata": {
        "id": "d9g3YcbY1c4H"
      },
      "execution_count": 108,
      "outputs": []
    },
    {
      "cell_type": "code",
      "source": [
        "obj10.division(4,2)"
      ],
      "metadata": {
        "colab": {
          "base_uri": "https://localhost:8080/"
        },
        "id": "BI_3EouY1hEh",
        "outputId": "3fe7cf10-f1a8-4acc-b6a8-e31f8f85fdd1"
      },
      "execution_count": 109,
      "outputs": [
        {
          "output_type": "execute_result",
          "data": {
            "text/plain": [
              "2.0"
            ]
          },
          "metadata": {},
          "execution_count": 109
        }
      ]
    },
    {
      "cell_type": "code",
      "source": [
        "obj10.division(4.5,0.5)"
      ],
      "metadata": {
        "colab": {
          "base_uri": "https://localhost:8080/"
        },
        "id": "ZwexB5Af1k4h",
        "outputId": "85ca1209-1ed8-475b-c6ec-dcba05fb3c11"
      },
      "execution_count": 111,
      "outputs": [
        {
          "output_type": "execute_result",
          "data": {
            "text/plain": [
              "9.0"
            ]
          },
          "metadata": {},
          "execution_count": 111
        }
      ]
    },
    {
      "cell_type": "markdown",
      "source": [
        "# Abstarction"
      ],
      "metadata": {
        "id": "Vjbd8Bfh1tW0"
      }
    },
    {
      "cell_type": "code",
      "source": [
        "class abs:\n",
        "  def abs1(self):\n",
        "    pass\n",
        "\n",
        "  def abs2(self):\n",
        "    pass\n",
        "\n",
        "  def abs3(self):\n",
        "    pass"
      ],
      "metadata": {
        "id": "0d3eq59w1phd"
      },
      "execution_count": 121,
      "outputs": []
    }
  ]
}