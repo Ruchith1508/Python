{
 "cells": [
  {
   "cell_type": "markdown",
   "id": "c71af97f-896e-4b21-9c15-59c6deea8e5e",
   "metadata": {},
   "source": [
    "# What is a Variable?"
   ]
  },
  {
   "cell_type": "markdown",
   "id": "9992c075-7b1e-4103-aa41-dbacfa750d55",
   "metadata": {},
   "source": [
    "Python Variable is containers that store values. Python is not “statically typed”. We do not need to declare variables before using them or declare their type. A variable is created the moment we first assign a value to it. A Python variable is a name given to a memory location. It is the basic unit of storage in a program. An Example of a Variable in Python is a representational name that serves as a pointer to an object. Once an object is assigned to a variable, it can be referred to by that name. In layman’s terms, we can say that Variable in Python is containers that store values.\n",
    "\n",
    "*Since Python is an infer language that is smart enough to determine the type of a variable, we do not need to specify its type in Python.\n",
    "\n",
    "*Variable names must begin with a letter or an underscore, but they can be a group of both letters and digits.\n",
    "\n",
    "*The name of the variable should be written in lowercase. Both Rahul and rahul are distinct variable\n",
    "\n",
    "*Python doesn't tie us to pronounce a variable prior to involving it in the application. It permits us to make a variable at the necessary time.\n",
    "\n",
    "*In Python, we don't have to explicitly declare variables. The variable is declared automatically whenever a value is added to it.\n",
    "\n",
    "*The equal (=) operator is utilized to assign worth to a variable."
   ]
  },
  {
   "cell_type": "markdown",
   "id": "144a2404-4c0b-4ba1-b527-af90fa9e2ae3",
   "metadata": {},
   "source": [
    "# Types of Variable"
   ]
  },
  {
   "cell_type": "markdown",
   "id": "d3f95426-ca5d-4120-a634-cc3ffdfb5bb8",
   "metadata": {},
   "source": [
    "## Basic Assignment"
   ]
  },
  {
   "cell_type": "markdown",
   "id": "3c87c0ab-884d-49dc-876b-9bf9d7c329a6",
   "metadata": {},
   "source": [
    "Basic assignment in Python is used to bind a value to a variable. A variable is essentially a name that refers to a value in memory. The assignment operator = is used to assign a value to a variable. This value can be of any data type, such as numbers, strings, lists, etc.\n",
    "\n"
   ]
  },
  {
   "cell_type": "code",
   "execution_count": 17,
   "id": "14b1bc29-f5aa-4439-8be7-029d280a9690",
   "metadata": {},
   "outputs": [
    {
     "name": "stdout",
     "output_type": "stream",
     "text": [
      "10\n",
      "-3\n"
     ]
    }
   ],
   "source": [
    "x = 10       \n",
    "y = -3        \n",
    "\n",
    "print(x)      \n",
    "print(y)"
   ]
  },
  {
   "cell_type": "markdown",
   "id": "e596fea7-7370-4e9b-a8c1-6983ae3d72fe",
   "metadata": {},
   "source": [
    "## Multiple Assignments"
   ]
  },
  {
   "cell_type": "markdown",
   "id": "b2eeb7ad-51e5-4420-b7c6-f16c929b1441",
   "metadata": {},
   "source": [
    "Multiple assignment allows you to assign values to multiple variables simultaneously. This can be done in two main ways:\n",
    "\n",
    "1.Single Value to Multiple Variables: Assign the same value to several variables.\n",
    "\n",
    "2.Multiple Values to Multiple Variables: Assign multiple values to multiple variables, where the number of variables matches the number of values."
   ]
  },
  {
   "cell_type": "code",
   "execution_count": 19,
   "id": "a573cdf6-0713-4cb2-82e6-d876dec29919",
   "metadata": {},
   "outputs": [
    {
     "name": "stdout",
     "output_type": "stream",
     "text": [
      "100\n",
      "100\n",
      "100\n"
     ]
    }
   ],
   "source": [
    "a = b = c = 100  # All variables a, b, and c are assigned the value 100\n",
    "\n",
    "print(a)  \n",
    "print(b)  \n",
    "print(c)  "
   ]
  },
  {
   "cell_type": "code",
   "execution_count": 21,
   "id": "0379f57f-defd-4fed-a678-68c887be3d7d",
   "metadata": {},
   "outputs": [
    {
     "name": "stdout",
     "output_type": "stream",
     "text": [
      "10\n",
      "20\n",
      "30\n"
     ]
    }
   ],
   "source": [
    "x, y, z = 10, 20, 30  # Assigns 10 to x, 20 to y, and 30 to z\n",
    "\n",
    "print(x)  \n",
    "print(y) \n",
    "print(z)  "
   ]
  },
  {
   "cell_type": "markdown",
   "id": "a363eed9-a12c-486d-bb53-02b264411662",
   "metadata": {},
   "source": [
    "# Rules for creating variables "
   ]
  },
  {
   "cell_type": "markdown",
   "id": "bad29cd8-11c1-49ac-bb61-0708fee0b2e6",
   "metadata": {},
   "source": [
    "*A Python variable name must start with a letter or the underscore character.\n",
    "\n",
    "*A Python variable name cannot start with a number.\n",
    "\n",
    "*A Python variable name can only contain alpha-numeric characters and underscores (A-z, 0-9, and _ ).\n",
    "\n",
    "*Variable in Python names are case-sensitive (name, Name, and NAME are three different variables).\n",
    "\n",
    "*The reserved words(keywords) in Python cannot be used to name the variable in Python.\n"
   ]
  },
  {
   "cell_type": "code",
   "execution_count": 29,
   "id": "8c0dabae-a0b2-4293-9bca-56354cf6a569",
   "metadata": {},
   "outputs": [
    {
     "name": "stdout",
     "output_type": "stream",
     "text": [
      "1\n",
      "2\n",
      "3\n",
      "4\n",
      "5\n"
     ]
    }
   ],
   "source": [
    "var=1\n",
    "var_1=2\n",
    "var1=3\n",
    "_var=4\n",
    "var_a=5\n",
    "\n",
    "print(var)\n",
    "print(var_1)\n",
    "print(var1)\n",
    "print(_var)\n",
    "print(var_a)"
   ]
  },
  {
   "cell_type": "markdown",
   "id": "2911f607-6658-42f2-bdff-e50638fa6b3f",
   "metadata": {},
   "source": [
    "# 20 Valid Variables"
   ]
  },
  {
   "cell_type": "code",
   "execution_count": 94,
   "id": "047864f6-7c49-47af-9cd5-b2b3ac6b9704",
   "metadata": {},
   "outputs": [
    {
     "name": "stdout",
     "output_type": "stream",
     "text": [
      "20\n"
     ]
    }
   ],
   "source": [
    "Valid = 20\n",
    "print(Valid)"
   ]
  },
  {
   "cell_type": "code",
   "execution_count": 92,
   "id": "228870ac-3d04-40d9-89ee-672b633f8b9a",
   "metadata": {},
   "outputs": [
    {
     "name": "stdout",
     "output_type": "stream",
     "text": [
      "25\n"
     ]
    }
   ],
   "source": [
    "Valid_1 = 25\n",
    "print(Valid_1)"
   ]
  },
  {
   "cell_type": "code",
   "execution_count": 90,
   "id": "3c5c4fa2-be24-4ba2-87a8-a1b46c22ee3d",
   "metadata": {},
   "outputs": [
    {
     "name": "stdout",
     "output_type": "stream",
     "text": [
      "45\n"
     ]
    }
   ],
   "source": [
    "Valid23 = 45\n",
    "print(Valid23)"
   ]
  },
  {
   "cell_type": "code",
   "execution_count": 88,
   "id": "2ecf972b-fe3b-40db-9314-f3a52454c947",
   "metadata": {},
   "outputs": [
    {
     "name": "stdout",
     "output_type": "stream",
     "text": [
      "46\n"
     ]
    }
   ],
   "source": [
    "_valid2 = 46\n",
    "print(_valid2)"
   ]
  },
  {
   "cell_type": "code",
   "execution_count": 82,
   "id": "55c9a2bf-07e1-4f63-bf1c-3a15d9d15f43",
   "metadata": {},
   "outputs": [
    {
     "name": "stdout",
     "output_type": "stream",
     "text": [
      "65\n"
     ]
    }
   ],
   "source": [
    "Valid_v = 65\n",
    "print(Valid_v)"
   ]
  },
  {
   "cell_type": "code",
   "execution_count": 84,
   "id": "22fe2026-82b2-4eff-a0af-53eca02fd91f",
   "metadata": {},
   "outputs": [
    {
     "name": "stdout",
     "output_type": "stream",
     "text": [
      "55\n"
     ]
    }
   ],
   "source": [
    "Valid_variable = 55\n",
    "print(Valid_variable)"
   ]
  },
  {
   "cell_type": "code",
   "execution_count": 86,
   "id": "b4c729af-11c1-4ba1-8300-4391f382924d",
   "metadata": {},
   "outputs": [
    {
     "name": "stdout",
     "output_type": "stream",
     "text": [
      "49\n"
     ]
    }
   ],
   "source": [
    "abc = 49\n",
    "print(abc)"
   ]
  },
  {
   "cell_type": "code",
   "execution_count": 47,
   "id": "97c2296f-2c84-41f6-aee9-509f2eaa445e",
   "metadata": {},
   "outputs": [
    {
     "name": "stdout",
     "output_type": "stream",
     "text": [
      "101\n"
     ]
    }
   ],
   "source": [
    "userID = 101 \n",
    "print(userID)"
   ]
  },
  {
   "cell_type": "code",
   "execution_count": 55,
   "id": "88c987a0-21c7-4cdc-beb8-625b1bcfe939",
   "metadata": {},
   "outputs": [
    {
     "name": "stdout",
     "output_type": "stream",
     "text": [
      "20\n",
      "30\n",
      "40\n"
     ]
    }
   ],
   "source": [
    "temperature = 20          # Lowercase\n",
    "Temperature = 30          # Capitalized first letter\n",
    "TEMPERATURE = 40          # All uppercase\n",
    "print(temperature)\n",
    "print(Temperature)\n",
    "print(TEMPERATURE)"
   ]
  },
  {
   "cell_type": "code",
   "execution_count": 57,
   "id": "a842dbee-29c5-4dd0-b93b-fa27552b60c1",
   "metadata": {},
   "outputs": [
    {
     "name": "stdout",
     "output_type": "stream",
     "text": [
      "15.99\n"
     ]
    }
   ],
   "source": [
    "price_per_unit = 15.99 \n",
    "print(price_per_unit)"
   ]
  },
  {
   "cell_type": "code",
   "execution_count": 59,
   "id": "4adab0a7-7492-4130-b3aa-6c93766ec3b0",
   "metadata": {},
   "outputs": [
    {
     "name": "stdout",
     "output_type": "stream",
     "text": [
      "500\n"
     ]
    }
   ],
   "source": [
    "totalAmount = 500\n",
    "print(totalAmount)"
   ]
  },
  {
   "cell_type": "code",
   "execution_count": 61,
   "id": "7eb2228d-ef6c-4f83-881a-c36ed54a763b",
   "metadata": {},
   "outputs": [
    {
     "name": "stdout",
     "output_type": "stream",
     "text": [
      "2024\n"
     ]
    }
   ],
   "source": [
    "user_profile_2024 = 2024\n",
    "print(user_profile_2024)"
   ]
  },
  {
   "cell_type": "code",
   "execution_count": 63,
   "id": "227820ca-14cf-4ee9-82eb-c20df5d67040",
   "metadata": {},
   "outputs": [
    {
     "name": "stdout",
     "output_type": "stream",
     "text": [
      "5000\n"
     ]
    }
   ],
   "source": [
    "MAX_LIMIT = 5000\n",
    "print(MAX_LIMIT)"
   ]
  },
  {
   "cell_type": "code",
   "execution_count": 65,
   "id": "725d03eb-4388-4005-852f-429633ba4663",
   "metadata": {},
   "outputs": [
    {
     "name": "stdout",
     "output_type": "stream",
     "text": [
      "150.75\n"
     ]
    }
   ],
   "source": [
    "totalAmountSpent = 150.75 \n",
    "print(totalAmountSpent)"
   ]
  },
  {
   "cell_type": "code",
   "execution_count": 67,
   "id": "7dcf6fb3-b80c-4e95-930a-2f704f5fef14",
   "metadata": {},
   "outputs": [
    {
     "name": "stdout",
     "output_type": "stream",
     "text": [
      "52\n"
     ]
    }
   ],
   "source": [
    "_temporary_var = 52\n",
    "print(_temporary_var)"
   ]
  },
  {
   "cell_type": "code",
   "execution_count": 69,
   "id": "5a7ac551-9a95-4046-8eee-fa28b8c2c47e",
   "metadata": {},
   "outputs": [
    {
     "name": "stdout",
     "output_type": "stream",
     "text": [
      "55000\n"
     ]
    }
   ],
   "source": [
    "avg_salary = 55000\n",
    "print(avg_salary)"
   ]
  },
  {
   "cell_type": "code",
   "execution_count": 71,
   "id": "4dfe33e0-12ab-41ef-bed6-a32e131be2fd",
   "metadata": {},
   "outputs": [
    {
     "name": "stdout",
     "output_type": "stream",
     "text": [
      "200\n"
     ]
    }
   ],
   "source": [
    "num_items_sold = 200\n",
    "print(num_items_sold)"
   ]
  },
  {
   "cell_type": "code",
   "execution_count": 80,
   "id": "f5cc4168-6346-424a-98bb-83eb5b50aa16",
   "metadata": {},
   "outputs": [
    {
     "name": "stdout",
     "output_type": "stream",
     "text": [
      "432\n"
     ]
    }
   ],
   "source": [
    "task_3_completed = 432\n",
    "print(task_3_completed)"
   ]
  },
  {
   "cell_type": "markdown",
   "id": "500d933e-cac5-4e81-b227-9a71434956c3",
   "metadata": {},
   "source": [
    "# 20 invalid variables"
   ]
  },
  {
   "cell_type": "code",
   "execution_count": 100,
   "id": "a0d24bf0-ece1-4c58-a369-f8530cfca04a",
   "metadata": {},
   "outputs": [
    {
     "ename": "SyntaxError",
     "evalue": "invalid syntax. Maybe you meant '==' or ':=' instead of '='? (2437236358.py, line 1)",
     "output_type": "error",
     "traceback": [
      "\u001b[0;36m  Cell \u001b[0;32mIn[100], line 1\u001b[0;36m\u001b[0m\n\u001b[0;31m    @invalid = 54\u001b[0m\n\u001b[0m     ^\u001b[0m\n\u001b[0;31mSyntaxError\u001b[0m\u001b[0;31m:\u001b[0m invalid syntax. Maybe you meant '==' or ':=' instead of '='?\n"
     ]
    }
   ],
   "source": [
    "@invalid = 54\n",
    "print(@invalid)"
   ]
  },
  {
   "cell_type": "code",
   "execution_count": 102,
   "id": "972e684f-1a56-4df5-8f57-e1c5c29c0534",
   "metadata": {},
   "outputs": [
    {
     "ename": "SyntaxError",
     "evalue": "invalid syntax (1622757640.py, line 1)",
     "output_type": "error",
     "traceback": [
      "\u001b[0;36m  Cell \u001b[0;32mIn[102], line 1\u001b[0;36m\u001b[0m\n\u001b[0;31m    $invalid = 45\u001b[0m\n\u001b[0m    ^\u001b[0m\n\u001b[0;31mSyntaxError\u001b[0m\u001b[0;31m:\u001b[0m invalid syntax\n"
     ]
    }
   ],
   "source": [
    "$invalid = 45\n",
    "print($invalid)"
   ]
  },
  {
   "cell_type": "code",
   "execution_count": 104,
   "id": "c7071ffa-922d-46f6-95c4-f22f91311cc4",
   "metadata": {},
   "outputs": [
    {
     "ename": "SyntaxError",
     "evalue": "invalid syntax (1777120112.py, line 1)",
     "output_type": "error",
     "traceback": [
      "\u001b[0;36m  Cell \u001b[0;32mIn[104], line 1\u001b[0;36m\u001b[0m\n\u001b[0;31m    in valid=32\u001b[0m\n\u001b[0m    ^\u001b[0m\n\u001b[0;31mSyntaxError\u001b[0m\u001b[0;31m:\u001b[0m invalid syntax\n"
     ]
    }
   ],
   "source": [
    "in valid=32\n",
    "print(in valid)"
   ]
  },
  {
   "cell_type": "code",
   "execution_count": 106,
   "id": "d5bc1052-0b30-48ff-bcab-d294bf5f9b00",
   "metadata": {},
   "outputs": [
    {
     "name": "stderr",
     "output_type": "stream",
     "text": [
      "<>:1: SyntaxWarning: invalid decimal literal\n",
      "<>:2: SyntaxWarning: invalid decimal literal\n",
      "<>:1: SyntaxWarning: invalid decimal literal\n",
      "<>:2: SyntaxWarning: invalid decimal literal\n",
      "/var/folders/8_/b1zq9gq15bj_b3jd6ntd8s6h0000gn/T/ipykernel_55621/467041582.py:1: SyntaxWarning: invalid decimal literal\n",
      "  1invalid = 50\n",
      "/var/folders/8_/b1zq9gq15bj_b3jd6ntd8s6h0000gn/T/ipykernel_55621/467041582.py:2: SyntaxWarning: invalid decimal literal\n",
      "  print(1invalid)\n"
     ]
    },
    {
     "ename": "SyntaxError",
     "evalue": "invalid syntax (467041582.py, line 1)",
     "output_type": "error",
     "traceback": [
      "\u001b[0;36m  Cell \u001b[0;32mIn[106], line 1\u001b[0;36m\u001b[0m\n\u001b[0;31m    1invalid = 50\u001b[0m\n\u001b[0m     ^\u001b[0m\n\u001b[0;31mSyntaxError\u001b[0m\u001b[0;31m:\u001b[0m invalid syntax\n"
     ]
    }
   ],
   "source": [
    "1invalid = 50\n",
    "print(1invalid)"
   ]
  },
  {
   "cell_type": "code",
   "execution_count": 108,
   "id": "8cb5ddc8-344f-46fd-8df7-0c2dee6ce802",
   "metadata": {},
   "outputs": [
    {
     "ename": "SyntaxError",
     "evalue": "invalid decimal literal (2508491961.py, line 1)",
     "output_type": "error",
     "traceback": [
      "\u001b[0;36m  Cell \u001b[0;32mIn[108], line 1\u001b[0;36m\u001b[0m\n\u001b[0;31m    46variable = 100\u001b[0m\n\u001b[0m     ^\u001b[0m\n\u001b[0;31mSyntaxError\u001b[0m\u001b[0;31m:\u001b[0m invalid decimal literal\n"
     ]
    }
   ],
   "source": [
    "46variable = 100\n",
    "print(46variable)"
   ]
  },
  {
   "cell_type": "code",
   "execution_count": 110,
   "id": "927c8bc1-a61f-44cf-a347-f1b5b4afc6a4",
   "metadata": {},
   "outputs": [
    {
     "ename": "SyntaxError",
     "evalue": "invalid decimal literal (1907961841.py, line 1)",
     "output_type": "error",
     "traceback": [
      "\u001b[0;36m  Cell \u001b[0;32mIn[110], line 1\u001b[0;36m\u001b[0m\n\u001b[0;31m    34_variable = 532\u001b[0m\n\u001b[0m      ^\u001b[0m\n\u001b[0;31mSyntaxError\u001b[0m\u001b[0;31m:\u001b[0m invalid decimal literal\n"
     ]
    }
   ],
   "source": [
    "34_variable = 532\n",
    "print(34_variable)"
   ]
  },
  {
   "cell_type": "code",
   "execution_count": 112,
   "id": "c199ca31-0389-4b88-ba95-7ffd6a642ace",
   "metadata": {},
   "outputs": [
    {
     "ename": "SyntaxError",
     "evalue": "cannot assign to expression here. Maybe you meant '==' instead of '='? (2864219794.py, line 1)",
     "output_type": "error",
     "traceback": [
      "\u001b[0;36m  Cell \u001b[0;32mIn[112], line 1\u001b[0;36m\u001b[0m\n\u001b[0;31m    user-name = 765\u001b[0m\n\u001b[0m    ^\u001b[0m\n\u001b[0;31mSyntaxError\u001b[0m\u001b[0;31m:\u001b[0m cannot assign to expression here. Maybe you meant '==' instead of '='?\n"
     ]
    }
   ],
   "source": [
    "user-name = 765\n",
    "print(user-name)"
   ]
  },
  {
   "cell_type": "code",
   "execution_count": 114,
   "id": "a016ff00-5afd-40ba-9ddd-05c0b3149cae",
   "metadata": {},
   "outputs": [
    {
     "ename": "SyntaxError",
     "evalue": "invalid syntax (1963564261.py, line 1)",
     "output_type": "error",
     "traceback": [
      "\u001b[0;36m  Cell \u001b[0;32mIn[114], line 1\u001b[0;36m\u001b[0m\n\u001b[0;31m    total$amount = 100\u001b[0m\n\u001b[0m         ^\u001b[0m\n\u001b[0;31mSyntaxError\u001b[0m\u001b[0;31m:\u001b[0m invalid syntax\n"
     ]
    }
   ],
   "source": [
    "total$amount = 100 \n",
    "print(total$amount)"
   ]
  },
  {
   "cell_type": "code",
   "execution_count": 116,
   "id": "30db243a-6594-40b2-a433-069cc14df499",
   "metadata": {},
   "outputs": [
    {
     "ename": "SyntaxError",
     "evalue": "cannot assign to expression here. Maybe you meant '==' instead of '='? (908288886.py, line 1)",
     "output_type": "error",
     "traceback": [
      "\u001b[0;36m  Cell \u001b[0;32mIn[116], line 1\u001b[0;36m\u001b[0m\n\u001b[0;31m    item@name = 234\u001b[0m\n\u001b[0m    ^\u001b[0m\n\u001b[0;31mSyntaxError\u001b[0m\u001b[0;31m:\u001b[0m cannot assign to expression here. Maybe you meant '==' instead of '='?\n"
     ]
    }
   ],
   "source": [
    "item@name = 234\n",
    "print(item@name)"
   ]
  },
  {
   "cell_type": "code",
   "execution_count": 118,
   "id": "85325a5b-7c24-4bea-801f-7619ddecdcc9",
   "metadata": {},
   "outputs": [
    {
     "ename": "SyntaxError",
     "evalue": "invalid syntax (1259750296.py, line 1)",
     "output_type": "error",
     "traceback": [
      "\u001b[0;36m  Cell \u001b[0;32mIn[118], line 1\u001b[0;36m\u001b[0m\n\u001b[0;31m    def = 44\u001b[0m\n\u001b[0m        ^\u001b[0m\n\u001b[0;31mSyntaxError\u001b[0m\u001b[0;31m:\u001b[0m invalid syntax\n"
     ]
    }
   ],
   "source": [
    "def = 44\n",
    "print(def)"
   ]
  },
  {
   "cell_type": "code",
   "execution_count": 120,
   "id": "de2fbbe3-ad81-48c8-a8fa-7fa833a10b3a",
   "metadata": {},
   "outputs": [
    {
     "ename": "SyntaxError",
     "evalue": "invalid syntax (1148195815.py, line 1)",
     "output_type": "error",
     "traceback": [
      "\u001b[0;36m  Cell \u001b[0;32mIn[120], line 1\u001b[0;36m\u001b[0m\n\u001b[0;31m    class = 8\u001b[0m\n\u001b[0m          ^\u001b[0m\n\u001b[0;31mSyntaxError\u001b[0m\u001b[0;31m:\u001b[0m invalid syntax\n"
     ]
    }
   ],
   "source": [
    "class = 8\n",
    "print(class)"
   ]
  },
  {
   "cell_type": "code",
   "execution_count": 122,
   "id": "2e5f2aad-b9af-4cf9-a36a-1df06394c23f",
   "metadata": {},
   "outputs": [
    {
     "ename": "SyntaxError",
     "evalue": "invalid syntax (1537126827.py, line 1)",
     "output_type": "error",
     "traceback": [
      "\u001b[0;36m  Cell \u001b[0;32mIn[122], line 1\u001b[0;36m\u001b[0m\n\u001b[0;31m    if = 23\u001b[0m\n\u001b[0m       ^\u001b[0m\n\u001b[0;31mSyntaxError\u001b[0m\u001b[0;31m:\u001b[0m invalid syntax\n"
     ]
    }
   ],
   "source": [
    "if = 23\n",
    "print(if)"
   ]
  },
  {
   "cell_type": "code",
   "execution_count": 124,
   "id": "99b3d043-6659-4b99-a9cd-35c66a5f1553",
   "metadata": {},
   "outputs": [
    {
     "ename": "SyntaxError",
     "evalue": "cannot assign to expression here. Maybe you meant '==' instead of '='? (1021524586.py, line 1)",
     "output_type": "error",
     "traceback": [
      "\u001b[0;36m  Cell \u001b[0;32mIn[124], line 1\u001b[0;36m\u001b[0m\n\u001b[0;31m    x+y = 15\u001b[0m\n\u001b[0m    ^\u001b[0m\n\u001b[0;31mSyntaxError\u001b[0m\u001b[0;31m:\u001b[0m cannot assign to expression here. Maybe you meant '==' instead of '='?\n"
     ]
    }
   ],
   "source": [
    "x+y = 15    \n",
    "print(x+y)"
   ]
  },
  {
   "cell_type": "code",
   "execution_count": 126,
   "id": "44578f7d-fb45-492e-9890-e9b508d1b539",
   "metadata": {},
   "outputs": [
    {
     "ename": "SyntaxError",
     "evalue": "cannot assign to expression here. Maybe you meant '==' instead of '='? (2156185867.py, line 1)",
     "output_type": "error",
     "traceback": [
      "\u001b[0;36m  Cell \u001b[0;32mIn[126], line 1\u001b[0;36m\u001b[0m\n\u001b[0;31m    total*amount = 100\u001b[0m\n\u001b[0m    ^\u001b[0m\n\u001b[0;31mSyntaxError\u001b[0m\u001b[0;31m:\u001b[0m cannot assign to expression here. Maybe you meant '==' instead of '='?\n"
     ]
    }
   ],
   "source": [
    "total*amount = 100   \n",
    "print(total*amount)"
   ]
  },
  {
   "cell_type": "code",
   "execution_count": 128,
   "id": "f1470eb6-1fb4-406f-9a0a-f8df2d36415b",
   "metadata": {},
   "outputs": [
    {
     "ename": "SyntaxError",
     "evalue": "cannot assign to expression here. Maybe you meant '==' instead of '='? (2951062902.py, line 1)",
     "output_type": "error",
     "traceback": [
      "\u001b[0;36m  Cell \u001b[0;32mIn[128], line 1\u001b[0;36m\u001b[0m\n\u001b[0;31m    _@variable = 88\u001b[0m\n\u001b[0m    ^\u001b[0m\n\u001b[0;31mSyntaxError\u001b[0m\u001b[0;31m:\u001b[0m cannot assign to expression here. Maybe you meant '==' instead of '='?\n"
     ]
    }
   ],
   "source": [
    "_@variable = 88\n",
    "print(_@variable)"
   ]
  },
  {
   "cell_type": "code",
   "execution_count": 130,
   "id": "51919665-3c2a-424d-afd2-6b40c2bdee9d",
   "metadata": {},
   "outputs": [
    {
     "ename": "SyntaxError",
     "evalue": "cannot assign to expression here. Maybe you meant '==' instead of '='? (3781544427.py, line 1)",
     "output_type": "error",
     "traceback": [
      "\u001b[0;36m  Cell \u001b[0;32mIn[130], line 1\u001b[0;36m\u001b[0m\n\u001b[0;31m    _%value = 200\u001b[0m\n\u001b[0m    ^\u001b[0m\n\u001b[0;31mSyntaxError\u001b[0m\u001b[0;31m:\u001b[0m cannot assign to expression here. Maybe you meant '==' instead of '='?\n"
     ]
    }
   ],
   "source": [
    "_%value = 200\n",
    "print(_%value)"
   ]
  },
  {
   "cell_type": "code",
   "execution_count": 132,
   "id": "4a0afbd8-30f2-408d-9db7-ed55b70982e2",
   "metadata": {},
   "outputs": [
    {
     "ename": "SyntaxError",
     "evalue": "incomplete input (3922397973.py, line 2)",
     "output_type": "error",
     "traceback": [
      "\u001b[0;36m  Cell \u001b[0;32mIn[132], line 2\u001b[0;36m\u001b[0m\n\u001b[0;31m    print(data#1)\u001b[0m\n\u001b[0m                 ^\u001b[0m\n\u001b[0;31mSyntaxError\u001b[0m\u001b[0;31m:\u001b[0m incomplete input\n"
     ]
    }
   ],
   "source": [
    "data#1 = 2\n",
    "print(data#1)"
   ]
  },
  {
   "cell_type": "code",
   "execution_count": 134,
   "id": "a6504833-e06a-4904-a716-4a9ce5ef0e63",
   "metadata": {},
   "outputs": [
    {
     "ename": "SyntaxError",
     "evalue": "invalid syntax (907998855.py, line 1)",
     "output_type": "error",
     "traceback": [
      "\u001b[0;36m  Cell \u001b[0;32mIn[134], line 1\u001b[0;36m\u001b[0m\n\u001b[0;31m    name$ = 4\u001b[0m\n\u001b[0m        ^\u001b[0m\n\u001b[0;31mSyntaxError\u001b[0m\u001b[0;31m:\u001b[0m invalid syntax\n"
     ]
    }
   ],
   "source": [
    "name$ = 4\n",
    "print(name$)"
   ]
  },
  {
   "cell_type": "code",
   "execution_count": 136,
   "id": "7c8211ab-1a34-4674-b6f7-d398cff035d7",
   "metadata": {},
   "outputs": [
    {
     "ename": "SyntaxError",
     "evalue": "invalid syntax (1733537280.py, line 1)",
     "output_type": "error",
     "traceback": [
      "\u001b[0;36m  Cell \u001b[0;32mIn[136], line 1\u001b[0;36m\u001b[0m\n\u001b[0;31m    score* = 8\u001b[0m\n\u001b[0m           ^\u001b[0m\n\u001b[0;31mSyntaxError\u001b[0m\u001b[0;31m:\u001b[0m invalid syntax\n"
     ]
    }
   ],
   "source": [
    "score* = 8\n",
    "print(score*)"
   ]
  },
  {
   "cell_type": "code",
   "execution_count": 138,
   "id": "38e89085-74a6-4c30-a8bb-eff50e13c9db",
   "metadata": {},
   "outputs": [
    {
     "ename": "SyntaxError",
     "evalue": "cannot assign to expression here. Maybe you meant '==' instead of '='? (264511041.py, line 1)",
     "output_type": "error",
     "traceback": [
      "\u001b[0;36m  Cell \u001b[0;32mIn[138], line 1\u001b[0;36m\u001b[0m\n\u001b[0;31m    +value = 88\u001b[0m\n\u001b[0m    ^\u001b[0m\n\u001b[0;31mSyntaxError\u001b[0m\u001b[0;31m:\u001b[0m cannot assign to expression here. Maybe you meant '==' instead of '='?\n"
     ]
    }
   ],
   "source": [
    "+value = 88\n",
    "print(+value)"
   ]
  },
  {
   "cell_type": "code",
   "execution_count": 140,
   "id": "9bda4ca2-d14e-421e-b75d-046ae2117a3a",
   "metadata": {},
   "outputs": [
    {
     "ename": "SyntaxError",
     "evalue": "cannot assign to expression here. Maybe you meant '==' instead of '='? (682992873.py, line 1)",
     "output_type": "error",
     "traceback": [
      "\u001b[0;36m  Cell \u001b[0;32mIn[140], line 1\u001b[0;36m\u001b[0m\n\u001b[0;31m    -total = 200\u001b[0m\n\u001b[0m    ^\u001b[0m\n\u001b[0;31mSyntaxError\u001b[0m\u001b[0;31m:\u001b[0m cannot assign to expression here. Maybe you meant '==' instead of '='?\n"
     ]
    }
   ],
   "source": [
    "-total = 200\n",
    "print(-total)"
   ]
  },
  {
   "cell_type": "code",
   "execution_count": null,
   "id": "bd563696-bdf2-41c9-906f-7b226d60058a",
   "metadata": {},
   "outputs": [],
   "source": []
  }
 ],
 "metadata": {
  "kernelspec": {
   "display_name": "Python 3 (ipykernel)",
   "language": "python",
   "name": "python3"
  },
  "language_info": {
   "codemirror_mode": {
    "name": "ipython",
    "version": 3
   },
   "file_extension": ".py",
   "mimetype": "text/x-python",
   "name": "python",
   "nbconvert_exporter": "python",
   "pygments_lexer": "ipython3",
   "version": "3.12.2"
  }
 },
 "nbformat": 4,
 "nbformat_minor": 5
}
