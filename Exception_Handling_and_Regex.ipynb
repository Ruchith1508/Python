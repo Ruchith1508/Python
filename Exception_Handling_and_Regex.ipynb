{
  "nbformat": 4,
  "nbformat_minor": 0,
  "metadata": {
    "colab": {
      "provenance": []
    },
    "kernelspec": {
      "name": "python3",
      "display_name": "Python 3"
    },
    "language_info": {
      "name": "python"
    }
  },
  "cells": [
    {
      "cell_type": "markdown",
      "source": [
        "# Reading a file"
      ],
      "metadata": {
        "id": "KazM7EAZRANO"
      }
    },
    {
      "cell_type": "code",
      "source": [
        "file = open('python.txt','r')"
      ],
      "metadata": {
        "id": "9EIHoXXNN1FV"
      },
      "execution_count": 3,
      "outputs": []
    },
    {
      "cell_type": "code",
      "source": [
        "content = file.read()\n",
        "print(content)"
      ],
      "metadata": {
        "colab": {
          "base_uri": "https://localhost:8080/"
        },
        "id": "Fa8H6p9GPCrU",
        "outputId": "6dccb13a-0778-466b-ae76-e34feb981b88"
      },
      "execution_count": 4,
      "outputs": [
        {
          "output_type": "stream",
          "name": "stdout",
          "text": [
            "hi\n"
          ]
        }
      ]
    },
    {
      "cell_type": "code",
      "source": [
        "line=file.readline()\n",
        "while line:\n",
        "  print(line, end=' ')\n",
        "  line=file.readline()"
      ],
      "metadata": {
        "id": "nO0S78BOPRVJ"
      },
      "execution_count": 6,
      "outputs": []
    },
    {
      "cell_type": "markdown",
      "source": [
        "# Writing into a file"
      ],
      "metadata": {
        "id": "JNksgbwnRPwg"
      }
    },
    {
      "cell_type": "code",
      "source": [
        "file = open('python.txt','a')\n",
        "\n",
        "file.write('Hello World\\n')\n",
        "\n",
        "lines=['first\\n','second\\n','third\\n']\n",
        "file.writelines(lines)"
      ],
      "metadata": {
        "id": "jCyBcYItQxpO"
      },
      "execution_count": 16,
      "outputs": []
    },
    {
      "cell_type": "code",
      "source": [
        "file.close()"
      ],
      "metadata": {
        "id": "F2wlWl6hR8do"
      },
      "execution_count": 18,
      "outputs": []
    },
    {
      "cell_type": "code",
      "source": [
        "a=int(input(\"Enter a value\"))\n",
        "b=int(input(\"Enter a value\"))\n",
        "try:\n",
        "  result= a/b\n",
        "  print(result)\n",
        "except:\n",
        "  if b==0:\n",
        "    print(\"Error:denominator cannot be zero\")"
      ],
      "metadata": {
        "colab": {
          "base_uri": "https://localhost:8080/"
        },
        "id": "M_iEwTzOUS_Z",
        "outputId": "3af2a911-bb1b-4aaa-90ef-3f4a8499c3e9"
      },
      "execution_count": 23,
      "outputs": [
        {
          "output_type": "stream",
          "name": "stdout",
          "text": [
            "Enter a value3\n",
            "Enter a value0\n",
            "Error:denominator cannot be zero\n"
          ]
        }
      ]
    },
    {
      "cell_type": "markdown",
      "source": [
        "# Regular Expressions"
      ],
      "metadata": {
        "id": "Q3mTBi4VV0R-"
      }
    },
    {
      "cell_type": "markdown",
      "source": [
        "## Findall()"
      ],
      "metadata": {
        "id": "SIoGojBjX5DE"
      }
    },
    {
      "cell_type": "code",
      "source": [
        "import re\n",
        "\n",
        "a=input(\"Enter a character: \")\n",
        "\n",
        "b=\"There is rain in spain\"\n",
        "\n",
        "x=re.findall(a,b)\n",
        "\n",
        "if x:\n",
        "  print(\"Matched\",x)\n",
        "else:\n",
        "  print(\"Not Matched\")"
      ],
      "metadata": {
        "colab": {
          "base_uri": "https://localhost:8080/"
        },
        "id": "C3dRrO5oVQMV",
        "outputId": "0511c7e5-a555-4365-8adf-c12fc8539394"
      },
      "execution_count": 26,
      "outputs": [
        {
          "output_type": "stream",
          "name": "stdout",
          "text": [
            "Enter a character: z\n",
            "Not Matched\n"
          ]
        }
      ]
    },
    {
      "cell_type": "markdown",
      "source": [
        "# Search()"
      ],
      "metadata": {
        "id": "MnOjG85sffI2"
      }
    },
    {
      "cell_type": "code",
      "source": [
        "import re\n",
        "\n",
        "c=\"My name is Ruchith\"\n",
        "x=re.search(\"a\",c)\n",
        "\n",
        "print(\"The character is found at: \",x.start())"
      ],
      "metadata": {
        "colab": {
          "base_uri": "https://localhost:8080/"
        },
        "id": "ivvSR7GZXztI",
        "outputId": "a648b0b4-b775-4a58-9509-b3dd9cd584a2"
      },
      "execution_count": 28,
      "outputs": [
        {
          "output_type": "stream",
          "name": "stdout",
          "text": [
            "The character is found at:  4\n"
          ]
        }
      ]
    },
    {
      "cell_type": "markdown",
      "source": [
        "# Split()"
      ],
      "metadata": {
        "id": "VFUWIFYEgxU0"
      }
    },
    {
      "cell_type": "code",
      "source": [
        "import re\n",
        "\n",
        "d=\"Hello python, you are very easy to learn\"\n",
        "x=re.split(\" \",d)\n",
        "print(x)"
      ],
      "metadata": {
        "colab": {
          "base_uri": "https://localhost:8080/"
        },
        "id": "-lefHRgugaVF",
        "outputId": "5900d006-f220-459f-8a9d-2ece6d3e52c0"
      },
      "execution_count": 29,
      "outputs": [
        {
          "output_type": "stream",
          "name": "stdout",
          "text": [
            "['Hello', 'python,', 'you', 'are', 'very', 'easy', 'to', 'learn']\n"
          ]
        }
      ]
    },
    {
      "cell_type": "code",
      "source": [
        "import re\n",
        "\n",
        "d=\"Hello python, you are very easy to learn\"\n",
        "x=re.split(\"a\",d)\n",
        "print(x)"
      ],
      "metadata": {
        "colab": {
          "base_uri": "https://localhost:8080/"
        },
        "id": "hHwoBbP5hhh2",
        "outputId": "dc1076a0-4eaa-4bc0-8b60-3abf1872c379"
      },
      "execution_count": 30,
      "outputs": [
        {
          "output_type": "stream",
          "name": "stdout",
          "text": [
            "['Hello python, you ', 're very e', 'sy to le', 'rn']\n"
          ]
        }
      ]
    },
    {
      "cell_type": "code",
      "source": [
        "import re\n",
        "\n",
        "d=\"Hello python, you are very easy to learn\"\n",
        "x=re.split(\" \",d,3)\n",
        "print(x)"
      ],
      "metadata": {
        "colab": {
          "base_uri": "https://localhost:8080/"
        },
        "id": "mFfKfdGgh-yx",
        "outputId": "f768ee9b-45a7-497c-bc1c-99b98f326d1c"
      },
      "execution_count": 32,
      "outputs": [
        {
          "output_type": "stream",
          "name": "stdout",
          "text": [
            "['Hello', 'python,', 'you', 'are very easy to learn']\n"
          ]
        }
      ]
    },
    {
      "cell_type": "markdown",
      "source": [
        "# Sub()"
      ],
      "metadata": {
        "id": "-dhvIkMkhzF3"
      }
    },
    {
      "cell_type": "code",
      "source": [
        "import re\n",
        "\n",
        "e=\"Hello python, you are very easy to learn\"\n",
        "x=re.sub(\" \",\"a\",e)\n",
        "print(x)"
      ],
      "metadata": {
        "colab": {
          "base_uri": "https://localhost:8080/"
        },
        "id": "rvf7RGJShnlk",
        "outputId": "261ec062-b9a1-49c3-bd22-4401c0129b34"
      },
      "execution_count": 34,
      "outputs": [
        {
          "output_type": "stream",
          "name": "stdout",
          "text": [
            "Helloapython,ayouaareaveryaeasyatoalearn\n"
          ]
        }
      ]
    },
    {
      "cell_type": "code",
      "source": [
        "import re\n",
        "\n",
        "d=\"Hello python, you are very easy to learn\"\n",
        "x=re.sub(\"a\",\"r\",d)\n",
        "print(x)"
      ],
      "metadata": {
        "colab": {
          "base_uri": "https://localhost:8080/"
        },
        "id": "6502uic9iSNx",
        "outputId": "d6a167cf-a3dc-456d-bedb-6c64dd8c8956"
      },
      "execution_count": 37,
      "outputs": [
        {
          "output_type": "stream",
          "name": "stdout",
          "text": [
            "Hello python, you rre very ersy to lerrn\n"
          ]
        }
      ]
    },
    {
      "cell_type": "code",
      "source": [
        "import re\n",
        "\n",
        "d=\"Hello python, you are very easy to learn\"\n",
        "x=re.sub(\"r\",\"a\",d,2)\n",
        "print(x)"
      ],
      "metadata": {
        "colab": {
          "base_uri": "https://localhost:8080/"
        },
        "id": "JTRwpve0igUN",
        "outputId": "332812c2-f7de-4eb3-b119-b2537863a921"
      },
      "execution_count": 38,
      "outputs": [
        {
          "output_type": "stream",
          "name": "stdout",
          "text": [
            "Hello python, you aae veay easy to learn\n"
          ]
        }
      ]
    }
  ]
}