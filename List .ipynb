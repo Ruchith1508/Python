{
  "cells": [
    {
      "cell_type": "markdown",
      "id": "3a8d7d56-aa69-49fa-be8f-606c5d8011db",
      "metadata": {
        "id": "3a8d7d56-aa69-49fa-be8f-606c5d8011db"
      },
      "source": [
        "# What is List?"
      ]
    },
    {
      "cell_type": "markdown",
      "id": "88e4cf50-4d99-4558-bf5e-d56859e3d8f2",
      "metadata": {
        "id": "88e4cf50-4d99-4558-bf5e-d56859e3d8f2"
      },
      "source": [
        "In Python, the sequence of various data types is stored in a list. A list is a collection of different kinds of values or items. Since Python lists are mutable, we can change their elements after forming. The comma (,) and the square brackets [enclose the List's items] serve as separators.\n",
        "\n",
        "Although six Python data types can hold sequences, the List is the most common and reliable form. A list, a type of sequence data, is used to store the collection of data. Tuples and Strings are two similar data formats for sequences.A list is a collection of items separated by commas and denoted by the symbol [].\n",
        "\n",
        "Lists are the simplest containers that are an integral part of the Python language. Lists need not be homogeneous always which makes it the most powerful tool in Python. A single list may contain DataTypes like Integers, Strings, as well as Objects. Lists are mutable, and hence, they can be altered even after their creation.\n",
        "\n",
        "* The list is changeable, meaning that we can change, add, and remove items in a list after it has been created.\n",
        "\n",
        "* Since lists are indexed, lists can have items with the same value"
      ]
    },
    {
      "cell_type": "markdown",
      "id": "1d4ccd5f-411a-43ad-87ee-577ee650dc50",
      "metadata": {
        "id": "1d4ccd5f-411a-43ad-87ee-577ee650dc50"
      },
      "source": [
        "Characteristics of Lists:\n",
        "* The lists are in order.\n",
        "\n",
        "* The list element can be accessed via the index.\n",
        "\n",
        "* The mutable type of List is\n",
        "\n",
        "* The rundowns are changeable sorts.\n",
        "\n",
        "* The number of various elements can be stored in a list."
      ]
    },
    {
      "cell_type": "code",
      "execution_count": 1,
      "id": "019bd7b6-e9cc-4b35-998e-3c46be399167",
      "metadata": {
        "colab": {
          "base_uri": "https://localhost:8080/"
        },
        "id": "019bd7b6-e9cc-4b35-998e-3c46be399167",
        "outputId": "e6fcb319-aaed-425b-cf13-37b81ad4b0c7"
      },
      "outputs": [
        {
          "output_type": "stream",
          "name": "stdout",
          "text": [
            "['apple', 'banana', 'cherry']\n"
          ]
        }
      ],
      "source": [
        "mylist = [\"apple\", \"banana\", \"cherry\"]\n",
        "print(mylist)"
      ]
    },
    {
      "cell_type": "markdown",
      "id": "8fc0b9e0-6dd3-4b87-b3c8-a00b6052a5a0",
      "metadata": {
        "id": "8fc0b9e0-6dd3-4b87-b3c8-a00b6052a5a0"
      },
      "source": [
        "# Examples of List"
      ]
    },
    {
      "cell_type": "code",
      "execution_count": 2,
      "id": "d50881f4-5dff-4987-b867-2806e60a7fd4",
      "metadata": {
        "colab": {
          "base_uri": "https://localhost:8080/"
        },
        "id": "d50881f4-5dff-4987-b867-2806e60a7fd4",
        "outputId": "59bff2fd-aa42-4b02-bb16-b0b037938fa9"
      },
      "outputs": [
        {
          "output_type": "stream",
          "name": "stdout",
          "text": [
            "list1: [1, 2, 3, 4, 5]\n",
            "list2: [1.12, 2.26, 3.39, 4.454, 5.576]\n",
            "list3: [(1+2j), (3+4j), (5+6j)]\n",
            "list4: [True, False, True, False]\n",
            "list5: ['Apple', 'Ball', 'Cat', 'Dog', 'Elephant ']\n",
            "list6: [1, 2.5, 3, 4.75]\n",
            "list7: [1, (2+3j), 3, (4+5j)]\n",
            "list8: [1.1, 2.2, True, False, 3.3]\n",
            "list9: ['Apple', 'Ball', True, 'Cat', False]\n",
            "list10: [1, 2.5, (3+4j), 'Dog', True, 5.6, 'Elephant', False]\n"
          ]
        }
      ],
      "source": [
        "list1 = [1, 2, 3, 4, 5]\n",
        "list2 = [1.12, 2.26, 3.39, 4.454, 5.576]\n",
        "list3 = [1+2j, 3+4j, 5+6j]\n",
        "list4 = [True, False, True, False]\n",
        "list5 = [\"Apple\", \"Ball\", \"Cat\", \"Dog\", \"Elephant \"]\n",
        "list6 = [1, 2.5, 3, 4.75]\n",
        "list7 = [1, 2+3j, 3, 4+5j]\n",
        "list8 = [1.1, 2.2, True, False, 3.3]\n",
        "list9 = [\"Apple\", \"Ball\", True, \"Cat\", False]\n",
        "list10 = [1, 2.5, 3+4j, \"Dog\", True, 5.6, \"Elephant\", False]\n",
        "print(\"list1:\",list1)\n",
        "print(\"list2:\",list2)\n",
        "print(\"list3:\",list3)\n",
        "print(\"list4:\",list4)\n",
        "print(\"list5:\",list5)\n",
        "print(\"list6:\",list6)\n",
        "print(\"list7:\",list7)\n",
        "print(\"list8:\",list8)\n",
        "print(\"list9:\",list9)\n",
        "print(\"list10:\",list10)"
      ]
    },
    {
      "cell_type": "markdown",
      "id": "3fc8f5fe-b927-4a8e-ac5e-2c7bf76d403e",
      "metadata": {
        "id": "3fc8f5fe-b927-4a8e-ac5e-2c7bf76d403e"
      },
      "source": [
        "## Accessing List Elements with Index"
      ]
    },
    {
      "cell_type": "code",
      "execution_count": 3,
      "id": "b934937a-23ca-43b7-83df-fbcdfc76d4eb",
      "metadata": {
        "colab": {
          "base_uri": "https://localhost:8080/"
        },
        "id": "b934937a-23ca-43b7-83df-fbcdfc76d4eb",
        "outputId": "2d8c5f4b-0605-4d8b-984e-fb8e205656c9"
      },
      "outputs": [
        {
          "output_type": "execute_result",
          "data": {
            "text/plain": [
              "(5+6j)"
            ]
          },
          "metadata": {},
          "execution_count": 3
        }
      ],
      "source": [
        "list3[-1]"
      ]
    },
    {
      "cell_type": "code",
      "execution_count": 4,
      "id": "2a5906d0-b86c-4d78-a65a-ef01cdb10e4b",
      "metadata": {
        "colab": {
          "base_uri": "https://localhost:8080/",
          "height": 36
        },
        "id": "2a5906d0-b86c-4d78-a65a-ef01cdb10e4b",
        "outputId": "c54aaca8-118f-49e8-c612-fe6bbc3b408d"
      },
      "outputs": [
        {
          "output_type": "execute_result",
          "data": {
            "text/plain": [
              "'Dog'"
            ],
            "application/vnd.google.colaboratory.intrinsic+json": {
              "type": "string"
            }
          },
          "metadata": {},
          "execution_count": 4
        }
      ],
      "source": [
        "list5[3]"
      ]
    },
    {
      "cell_type": "code",
      "execution_count": 5,
      "id": "c88b7553-9174-4209-ac3d-ff5bf88143c4",
      "metadata": {
        "colab": {
          "base_uri": "https://localhost:8080/",
          "height": 36
        },
        "id": "c88b7553-9174-4209-ac3d-ff5bf88143c4",
        "outputId": "5433fa88-d71b-4c1c-cf74-c8c5f447827d"
      },
      "outputs": [
        {
          "output_type": "execute_result",
          "data": {
            "text/plain": [
              "'Cat'"
            ],
            "application/vnd.google.colaboratory.intrinsic+json": {
              "type": "string"
            }
          },
          "metadata": {},
          "execution_count": 5
        }
      ],
      "source": [
        "list9[-2]"
      ]
    },
    {
      "cell_type": "code",
      "execution_count": 6,
      "id": "47fd72c7-5368-43ba-8cb6-588890325d53",
      "metadata": {
        "colab": {
          "base_uri": "https://localhost:8080/"
        },
        "id": "47fd72c7-5368-43ba-8cb6-588890325d53",
        "outputId": "78685d99-dfbd-4c79-ded8-6b62f2593126"
      },
      "outputs": [
        {
          "output_type": "execute_result",
          "data": {
            "text/plain": [
              "4.75"
            ]
          },
          "metadata": {},
          "execution_count": 6
        }
      ],
      "source": [
        "list6[3]"
      ]
    },
    {
      "cell_type": "code",
      "execution_count": 7,
      "id": "42bf5a40-0fde-4fb9-8bf8-0bcf89d3c194",
      "metadata": {
        "colab": {
          "base_uri": "https://localhost:8080/"
        },
        "id": "42bf5a40-0fde-4fb9-8bf8-0bcf89d3c194",
        "outputId": "b571952d-591d-415e-ed40-e78f13f3e542"
      },
      "outputs": [
        {
          "output_type": "execute_result",
          "data": {
            "text/plain": [
              "3"
            ]
          },
          "metadata": {},
          "execution_count": 7
        }
      ],
      "source": [
        "list1[2]"
      ]
    },
    {
      "cell_type": "markdown",
      "id": "c6a59d4a-db58-4cd9-909c-a306c6739b3a",
      "metadata": {
        "id": "c6a59d4a-db58-4cd9-909c-a306c6739b3a"
      },
      "source": [
        "## Slicing of a List"
      ]
    },
    {
      "cell_type": "code",
      "execution_count": 8,
      "id": "a7b7708c-bf20-4361-a8f5-7429a05d7df3",
      "metadata": {
        "colab": {
          "base_uri": "https://localhost:8080/"
        },
        "id": "a7b7708c-bf20-4361-a8f5-7429a05d7df3",
        "outputId": "a37c1edf-7f60-4002-c245-7eafc2a03a70"
      },
      "outputs": [
        {
          "output_type": "execute_result",
          "data": {
            "text/plain": [
              "[4, 5]"
            ]
          },
          "metadata": {},
          "execution_count": 8
        }
      ],
      "source": [
        "list1[3:6]"
      ]
    },
    {
      "cell_type": "code",
      "execution_count": 9,
      "id": "b6dd83a8-969c-4e3b-a170-fb891c7a20bd",
      "metadata": {
        "colab": {
          "base_uri": "https://localhost:8080/"
        },
        "id": "b6dd83a8-969c-4e3b-a170-fb891c7a20bd",
        "outputId": "1c2ac420-9665-4d7f-c96e-84d00b502abc"
      },
      "outputs": [
        {
          "output_type": "execute_result",
          "data": {
            "text/plain": [
              "[2.26, 3.39]"
            ]
          },
          "metadata": {},
          "execution_count": 9
        }
      ],
      "source": [
        "list2[1:3]"
      ]
    },
    {
      "cell_type": "code",
      "execution_count": 10,
      "id": "7604bf9a-eef6-4b53-ae2a-fd93a0bc6983",
      "metadata": {
        "colab": {
          "base_uri": "https://localhost:8080/"
        },
        "id": "7604bf9a-eef6-4b53-ae2a-fd93a0bc6983",
        "outputId": "7dcbf7aa-ee71-4989-c1a4-f80b62034b2b"
      },
      "outputs": [
        {
          "output_type": "execute_result",
          "data": {
            "text/plain": [
              "[(1+2j), (3+4j), (5+6j)]"
            ]
          },
          "metadata": {},
          "execution_count": 10
        }
      ],
      "source": [
        "list3[:3]"
      ]
    },
    {
      "cell_type": "code",
      "execution_count": 11,
      "id": "1985c376-f3c6-4ba9-9aad-7076e3e95d69",
      "metadata": {
        "colab": {
          "base_uri": "https://localhost:8080/"
        },
        "id": "1985c376-f3c6-4ba9-9aad-7076e3e95d69",
        "outputId": "2d7e07c2-0d9f-4f9a-f842-ace1debb8472"
      },
      "outputs": [
        {
          "output_type": "execute_result",
          "data": {
            "text/plain": [
              "[True, False]"
            ]
          },
          "metadata": {},
          "execution_count": 11
        }
      ],
      "source": [
        "list4[2:]"
      ]
    },
    {
      "cell_type": "code",
      "execution_count": 12,
      "id": "5d1cc337-a635-45ce-adba-355364bfc9f8",
      "metadata": {
        "colab": {
          "base_uri": "https://localhost:8080/",
          "height": 36
        },
        "id": "5d1cc337-a635-45ce-adba-355364bfc9f8",
        "outputId": "30234035-d923-4617-ca2d-457bbb603ec2"
      },
      "outputs": [
        {
          "output_type": "execute_result",
          "data": {
            "text/plain": [
              "'Dog'"
            ],
            "application/vnd.google.colaboratory.intrinsic+json": {
              "type": "string"
            }
          },
          "metadata": {},
          "execution_count": 12
        }
      ],
      "source": [
        "list5[3]"
      ]
    },
    {
      "cell_type": "code",
      "execution_count": 13,
      "id": "1516bc20-85a5-4c3d-a287-7df8cfd95f51",
      "metadata": {
        "colab": {
          "base_uri": "https://localhost:8080/"
        },
        "id": "1516bc20-85a5-4c3d-a287-7df8cfd95f51",
        "outputId": "500491f9-e27a-46c2-8182-507e699321cd"
      },
      "outputs": [
        {
          "output_type": "execute_result",
          "data": {
            "text/plain": [
              "[2.5, 3]"
            ]
          },
          "metadata": {},
          "execution_count": 13
        }
      ],
      "source": [
        "list6[-3:-1]"
      ]
    },
    {
      "cell_type": "code",
      "execution_count": 14,
      "id": "49d12ac4-b79a-4b22-b9a7-8a5e2133f097",
      "metadata": {
        "colab": {
          "base_uri": "https://localhost:8080/"
        },
        "id": "49d12ac4-b79a-4b22-b9a7-8a5e2133f097",
        "outputId": "882f86ad-3147-452b-c99a-1950ab5b9c23"
      },
      "outputs": [
        {
          "output_type": "execute_result",
          "data": {
            "text/plain": [
              "[(4+5j)]"
            ]
          },
          "metadata": {},
          "execution_count": 14
        }
      ],
      "source": [
        "list7[-1:]"
      ]
    },
    {
      "cell_type": "code",
      "execution_count": 15,
      "id": "3e4e7b54-64a6-4f02-b404-cda74abd248b",
      "metadata": {
        "colab": {
          "base_uri": "https://localhost:8080/"
        },
        "id": "3e4e7b54-64a6-4f02-b404-cda74abd248b",
        "outputId": "6007d619-8b8f-4273-d27c-818db84f0cd3"
      },
      "outputs": [
        {
          "output_type": "execute_result",
          "data": {
            "text/plain": [
              "[1.1, 2.2, True, False]"
            ]
          },
          "metadata": {},
          "execution_count": 15
        }
      ],
      "source": [
        "list8[:-1]"
      ]
    },
    {
      "cell_type": "code",
      "execution_count": 16,
      "id": "bbe6f32d-18d7-4e7d-8ee1-c8b0b3dda8a7",
      "metadata": {
        "colab": {
          "base_uri": "https://localhost:8080/",
          "height": 36
        },
        "id": "bbe6f32d-18d7-4e7d-8ee1-c8b0b3dda8a7",
        "outputId": "dc766ce2-42fc-4ce5-eac4-ff0365f4cdf8"
      },
      "outputs": [
        {
          "output_type": "execute_result",
          "data": {
            "text/plain": [
              "'Cat'"
            ],
            "application/vnd.google.colaboratory.intrinsic+json": {
              "type": "string"
            }
          },
          "metadata": {},
          "execution_count": 16
        }
      ],
      "source": [
        "list9[-2]"
      ]
    },
    {
      "cell_type": "code",
      "execution_count": 17,
      "id": "b6da74f5-067b-44b0-afa6-5550a5412138",
      "metadata": {
        "colab": {
          "base_uri": "https://localhost:8080/"
        },
        "id": "b6da74f5-067b-44b0-afa6-5550a5412138",
        "outputId": "9824dce2-fc75-4ccf-ed90-718e9bf29eb3"
      },
      "outputs": [
        {
          "output_type": "execute_result",
          "data": {
            "text/plain": [
              "[True, 5.6, 'Elephant']"
            ]
          },
          "metadata": {},
          "execution_count": 17
        }
      ],
      "source": [
        "list10[-4:-1]"
      ]
    },
    {
      "cell_type": "markdown",
      "id": "2c649358-8104-4c8a-842c-8ca384211fc8",
      "metadata": {
        "id": "2c649358-8104-4c8a-842c-8ca384211fc8"
      },
      "source": [
        "# List Operations"
      ]
    },
    {
      "cell_type": "markdown",
      "id": "76371d5b-356d-40e7-9ddf-dc0c41f5206a",
      "metadata": {
        "id": "76371d5b-356d-40e7-9ddf-dc0c41f5206a"
      },
      "source": [
        "## Concatenation"
      ]
    },
    {
      "cell_type": "code",
      "execution_count": 20,
      "id": "0155d99a-a84c-4453-bfac-12b716248e7d",
      "metadata": {
        "colab": {
          "base_uri": "https://localhost:8080/"
        },
        "id": "0155d99a-a84c-4453-bfac-12b716248e7d",
        "outputId": "b1a35ab3-34f5-4843-9f74-a74d4ea97511"
      },
      "outputs": [
        {
          "output_type": "stream",
          "name": "stdout",
          "text": [
            "[1, 2, 3, 4, 5, 1.12, 2.26, 3.39, 4.454, 5.576]\n"
          ]
        }
      ],
      "source": [
        "a = list1 + list2\n",
        "print(a)"
      ]
    },
    {
      "cell_type": "code",
      "execution_count": 21,
      "id": "33cb6d36-9d6c-4ad1-8ccc-7f62c3ff9629",
      "metadata": {
        "colab": {
          "base_uri": "https://localhost:8080/"
        },
        "id": "33cb6d36-9d6c-4ad1-8ccc-7f62c3ff9629",
        "outputId": "5102ba80-469e-47bb-b5a9-385dfdb7408c"
      },
      "outputs": [
        {
          "output_type": "stream",
          "name": "stdout",
          "text": [
            "[(1+2j), (3+4j), (5+6j), 1.1, 2.2, True, False, 3.3]\n"
          ]
        }
      ],
      "source": [
        "b = list3 + list8\n",
        "print(b)"
      ]
    },
    {
      "cell_type": "code",
      "execution_count": 22,
      "id": "60c6e1e4-2345-4cf7-9b56-d169feb4e351",
      "metadata": {
        "colab": {
          "base_uri": "https://localhost:8080/"
        },
        "id": "60c6e1e4-2345-4cf7-9b56-d169feb4e351",
        "outputId": "43c4528d-d38c-4fb9-b6c1-e50f367c1b0d"
      },
      "outputs": [
        {
          "output_type": "stream",
          "name": "stdout",
          "text": [
            "['Apple', 'Ball', True, 'Cat', False, 1, 2, 3, 4, 5]\n"
          ]
        }
      ],
      "source": [
        "c = list9 + list1\n",
        "print(c)"
      ]
    },
    {
      "cell_type": "markdown",
      "id": "19416491-50c9-4e94-b8af-6670a2477d02",
      "metadata": {
        "id": "19416491-50c9-4e94-b8af-6670a2477d02"
      },
      "source": [
        "## Repetition"
      ]
    },
    {
      "cell_type": "code",
      "execution_count": 23,
      "id": "5402b08f-ad82-4ae9-8cc8-ef81dba14688",
      "metadata": {
        "colab": {
          "base_uri": "https://localhost:8080/"
        },
        "id": "5402b08f-ad82-4ae9-8cc8-ef81dba14688",
        "outputId": "06fe1b5e-8622-4b5e-95b6-16f8d3a0bc69"
      },
      "outputs": [
        {
          "output_type": "stream",
          "name": "stdout",
          "text": [
            "[True, False, True, False, True, False, True, False, True, False, True, False]\n"
          ]
        }
      ],
      "source": [
        "d = list4 * 3\n",
        "print(d)"
      ]
    },
    {
      "cell_type": "code",
      "execution_count": 24,
      "id": "c50dcf8a-08ba-4630-a12d-62bd96488903",
      "metadata": {
        "colab": {
          "base_uri": "https://localhost:8080/"
        },
        "id": "c50dcf8a-08ba-4630-a12d-62bd96488903",
        "outputId": "d2c19418-0de3-49f0-8e4a-c3d8b5d3c157"
      },
      "outputs": [
        {
          "output_type": "stream",
          "name": "stdout",
          "text": [
            "[1.12, 2.26, 3.39, 4.454, 5.576, 1.12, 2.26, 3.39, 4.454, 5.576, 1.12, 2.26, 3.39, 4.454, 5.576, 1.12, 2.26, 3.39, 4.454, 5.576, 1.12, 2.26, 3.39, 4.454, 5.576, 1.12, 2.26, 3.39, 4.454, 5.576]\n"
          ]
        }
      ],
      "source": [
        "e = list2 * 6\n",
        "print(e)"
      ]
    },
    {
      "cell_type": "code",
      "execution_count": 25,
      "id": "1657b2ce-6771-46e0-86ed-f88c8f8a3396",
      "metadata": {
        "colab": {
          "base_uri": "https://localhost:8080/"
        },
        "id": "1657b2ce-6771-46e0-86ed-f88c8f8a3396",
        "outputId": "2c28b8ab-a693-4ae8-874e-3265c8fae7c6"
      },
      "outputs": [
        {
          "output_type": "stream",
          "name": "stdout",
          "text": [
            "[1, 2.5, 3, 4.75, 1, 2.5, 3, 4.75]\n"
          ]
        }
      ],
      "source": [
        "f = list6 * 2\n",
        "print(f)"
      ]
    },
    {
      "cell_type": "markdown",
      "source": [
        "# List Methods"
      ],
      "metadata": {
        "id": "JwHLqvkc1reK"
      },
      "id": "JwHLqvkc1reK"
    },
    {
      "cell_type": "markdown",
      "source": [
        "## Append\n",
        "Used for adding elements to the end of the List."
      ],
      "metadata": {
        "id": "lAVUZ5P71zPF"
      },
      "id": "lAVUZ5P71zPF"
    },
    {
      "cell_type": "code",
      "execution_count": 26,
      "id": "e97e2cea-15b7-495b-841b-c278305765ab",
      "metadata": {
        "colab": {
          "base_uri": "https://localhost:8080/"
        },
        "id": "e97e2cea-15b7-495b-841b-c278305765ab",
        "outputId": "f4fb27be-fd13-46f4-bed1-93a62fe81189"
      },
      "outputs": [
        {
          "output_type": "stream",
          "name": "stdout",
          "text": [
            "[1, 2, 3, 4, 5, 6, 7]\n"
          ]
        }
      ],
      "source": [
        "List=[1,2,3,4,5,6]\n",
        "List.append(7)\n",
        "print(List)"
      ]
    },
    {
      "cell_type": "markdown",
      "source": [
        "## Count\n",
        "These methods count the elements."
      ],
      "metadata": {
        "id": "_z356TZ52I_k"
      },
      "id": "_z356TZ52I_k"
    },
    {
      "cell_type": "code",
      "source": [
        "List.count(1)"
      ],
      "metadata": {
        "colab": {
          "base_uri": "https://localhost:8080/"
        },
        "id": "LuHrxdOp2ISz",
        "outputId": "ba359df7-50d1-41ef-96f2-30345770b165"
      },
      "id": "LuHrxdOp2ISz",
      "execution_count": 28,
      "outputs": [
        {
          "output_type": "execute_result",
          "data": {
            "text/plain": [
              "1"
            ]
          },
          "metadata": {},
          "execution_count": 28
        }
      ]
    },
    {
      "cell_type": "markdown",
      "source": [
        "## Extend\n",
        "Adds each element of an iterable to the end of the List"
      ],
      "metadata": {
        "id": "tmuu_1W52idB"
      },
      "id": "tmuu_1W52idB"
    },
    {
      "cell_type": "code",
      "execution_count": 29,
      "id": "301f2a37-8c7e-4966-bee8-dc50514143e5",
      "metadata": {
        "colab": {
          "base_uri": "https://localhost:8080/"
        },
        "id": "301f2a37-8c7e-4966-bee8-dc50514143e5",
        "outputId": "f2c45731-ef9f-4e41-cc2e-baad78894e6d"
      },
      "outputs": [
        {
          "output_type": "stream",
          "name": "stdout",
          "text": [
            "[1, 2, 3, 4, 5, 6, 7, 8, 9, 10]\n"
          ]
        }
      ],
      "source": [
        "List2=[8,9,10]\n",
        "List.extend(List2)\n",
        "print(List)"
      ]
    },
    {
      "cell_type": "markdown",
      "source": [
        "## Index\n",
        "Returns the lowest index where the element appears."
      ],
      "metadata": {
        "id": "v8o3-woV21lD"
      },
      "id": "v8o3-woV21lD"
    },
    {
      "cell_type": "code",
      "source": [
        "List.index(5)"
      ],
      "metadata": {
        "colab": {
          "base_uri": "https://localhost:8080/"
        },
        "id": "cdmZAX932zgE",
        "outputId": "8b94dd75-1ad7-4028-9b08-e24e41968992"
      },
      "id": "cdmZAX932zgE",
      "execution_count": 30,
      "outputs": [
        {
          "output_type": "execute_result",
          "data": {
            "text/plain": [
              "4"
            ]
          },
          "metadata": {},
          "execution_count": 30
        }
      ]
    },
    {
      "cell_type": "code",
      "source": [],
      "metadata": {
        "id": "j-pWx1sb29qP"
      },
      "id": "j-pWx1sb29qP",
      "execution_count": null,
      "outputs": []
    },
    {
      "cell_type": "markdown",
      "source": [
        "## Insert\n",
        "Inserts a given element at a given index in a list."
      ],
      "metadata": {
        "id": "GQeQNrvM3Ake"
      },
      "id": "GQeQNrvM3Ake"
    },
    {
      "cell_type": "code",
      "source": [
        "List3=[1,2,3,4]\n",
        "List3.insert(2,3)\n",
        "print(List3)"
      ],
      "metadata": {
        "colab": {
          "base_uri": "https://localhost:8080/"
        },
        "id": "Us5iaXlM3DP7",
        "outputId": "4ceb95c4-364d-4aab-a98d-566664e5b182"
      },
      "id": "Us5iaXlM3DP7",
      "execution_count": 40,
      "outputs": [
        {
          "output_type": "stream",
          "name": "stdout",
          "text": [
            "[1, 2, 3, 3, 4]\n"
          ]
        }
      ]
    },
    {
      "cell_type": "markdown",
      "source": [
        "## Pop\n",
        "Removes and returns the last value from the List or the given index value.\n"
      ],
      "metadata": {
        "id": "E8SP_O-03sUY"
      },
      "id": "E8SP_O-03sUY"
    },
    {
      "cell_type": "code",
      "source": [
        "List3.pop(2)\n",
        "print(List3)"
      ],
      "metadata": {
        "colab": {
          "base_uri": "https://localhost:8080/"
        },
        "id": "_Co3Hzxx3HfK",
        "outputId": "7c9daf33-7d4f-4e63-bf0b-4b2b7ea613e5"
      },
      "id": "_Co3Hzxx3HfK",
      "execution_count": 41,
      "outputs": [
        {
          "output_type": "stream",
          "name": "stdout",
          "text": [
            "[1, 2, 3, 4]\n"
          ]
        }
      ]
    },
    {
      "cell_type": "code",
      "source": [
        "List3.pop()\n",
        "print(List3)"
      ],
      "metadata": {
        "colab": {
          "base_uri": "https://localhost:8080/"
        },
        "id": "0RoWaVC737dw",
        "outputId": "07af4d51-af8d-4286-99e9-512903d45128"
      },
      "id": "0RoWaVC737dw",
      "execution_count": 43,
      "outputs": [
        {
          "output_type": "stream",
          "name": "stdout",
          "text": [
            "[1, 2]\n"
          ]
        }
      ]
    },
    {
      "cell_type": "markdown",
      "source": [
        "## Remove\n",
        "Removes a given object from the List."
      ],
      "metadata": {
        "id": "tWZmI3rT4D9X"
      },
      "id": "tWZmI3rT4D9X"
    },
    {
      "cell_type": "code",
      "source": [
        "List4=[1,2,3,4,5,6,7,8,9]\n",
        "List4.remove(2)\n",
        "print(List4)"
      ],
      "metadata": {
        "colab": {
          "base_uri": "https://localhost:8080/"
        },
        "id": "cDa39QMI3-5u",
        "outputId": "b86445cf-92fe-4485-cdf2-443e94b84ff2"
      },
      "id": "cDa39QMI3-5u",
      "execution_count": 44,
      "outputs": [
        {
          "output_type": "stream",
          "name": "stdout",
          "text": [
            "[1, 3, 4, 5, 6, 7, 8, 9]\n"
          ]
        }
      ]
    },
    {
      "cell_type": "markdown",
      "source": [
        "## Sort\n",
        "Sort a List in ascending, descending, or user-defined order"
      ],
      "metadata": {
        "id": "u3T1JpvV4UgC"
      },
      "id": "u3T1JpvV4UgC"
    },
    {
      "cell_type": "code",
      "source": [
        "List5=[4,7,2,8,5,9]\n",
        "List5.sort()\n",
        "print(List5)"
      ],
      "metadata": {
        "colab": {
          "base_uri": "https://localhost:8080/"
        },
        "id": "NlrHXKwQ4WxC",
        "outputId": "c3d1ec74-1d6e-46c5-bcd1-ce2554ccb7c4"
      },
      "id": "NlrHXKwQ4WxC",
      "execution_count": 46,
      "outputs": [
        {
          "output_type": "stream",
          "name": "stdout",
          "text": [
            "[2, 4, 5, 7, 8, 9]\n"
          ]
        }
      ]
    }
  ],
  "metadata": {
    "kernelspec": {
      "display_name": "Python 3 (ipykernel)",
      "language": "python",
      "name": "python3"
    },
    "language_info": {
      "codemirror_mode": {
        "name": "ipython",
        "version": 3
      },
      "file_extension": ".py",
      "mimetype": "text/x-python",
      "name": "python",
      "nbconvert_exporter": "python",
      "pygments_lexer": "ipython3",
      "version": "3.12.4"
    },
    "colab": {
      "provenance": []
    }
  },
  "nbformat": 4,
  "nbformat_minor": 5
}